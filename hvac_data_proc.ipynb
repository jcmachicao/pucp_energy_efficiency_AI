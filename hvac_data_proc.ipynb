{
 "cells": [
  {
   "cell_type": "code",
   "execution_count": 2,
   "id": "8d821005-bcb4-4dfc-9fee-878533899b62",
   "metadata": {
    "tags": []
   },
   "outputs": [],
   "source": [
    "import pandas as pd\n",
    "import matplotlib.pyplot as plt\n",
    "import seaborn as sns"
   ]
  },
  {
   "cell_type": "code",
   "execution_count": 4,
   "id": "31cb3300-567b-4a83-9c17-fdf6212e2833",
   "metadata": {
    "tags": []
   },
   "outputs": [
    {
     "name": "stdout",
     "output_type": "stream",
     "text": [
      "<class 'pandas.core.frame.DataFrame'>\n",
      "RangeIndex: 25632 entries, 0 to 25631\n",
      "Data columns (total 20 columns):\n",
      " #   Column                Non-Null Count  Dtype  \n",
      "---  ------                --------------  -----  \n",
      " 0   Date                  25632 non-null  object \n",
      " 1   on_off                25632 non-null  float64\n",
      " 2   damper                25632 non-null  float64\n",
      " 3   active_energy         25630 non-null  float64\n",
      " 4   co2_1                 25632 non-null  float64\n",
      " 5   amb_humid_1           25632 non-null  float64\n",
      " 6   active_power          25632 non-null  float64\n",
      " 7   pot_gen               25630 non-null  float64\n",
      " 8   high_pressure_1       25632 non-null  float64\n",
      " 9   high_pressure_2       25632 non-null  float64\n",
      " 10  low_pressure_1        25632 non-null  float64\n",
      " 11  low_pressure_2        25632 non-null  float64\n",
      " 12  high_pressure_3       25632 non-null  float64\n",
      " 13  low_pressure_3        25632 non-null  float64\n",
      " 14  outside_temp          25632 non-null  float64\n",
      " 15  outlet_temp           25632 non-null  float64\n",
      " 16  inlet_temp            25632 non-null  float64\n",
      " 17  summer_setpoint_temp  25632 non-null  float64\n",
      " 18  winter_setpoint_temp  25632 non-null  float64\n",
      " 19  amb_temp_2            25632 non-null  float64\n",
      "dtypes: float64(19), object(1)\n",
      "memory usage: 3.9+ MB\n"
     ]
    },
    {
     "name": "stderr",
     "output_type": "stream",
     "text": [
      "C:\\Users\\PC}\\AppData\\Local\\Temp\\ipykernel_21720\\2251376125.py:2: FutureWarning: DataFrame.fillna with 'method' is deprecated and will raise in a future version. Use obj.ffill() or obj.bfill() instead.\n",
      "  data.fillna(method=\"bfill\", inplace=True)\n"
     ]
    }
   ],
   "source": [
    "data = pd.read_csv(\"D://2024 Erasmus NNRL/HVAC_dataset.csv\")\n",
    "data.fillna(method=\"bfill\", inplace=True)\n",
    "data.info()"
   ]
  },
  {
   "cell_type": "code",
   "execution_count": 6,
   "id": "d34f00a3-b3e0-42b7-a560-fca83ce249ac",
   "metadata": {
    "tags": []
   },
   "outputs": [
    {
     "data": {
      "text/plain": [
       "0"
      ]
     },
     "execution_count": 6,
     "metadata": {},
     "output_type": "execute_result"
    }
   ],
   "source": [
    "data.Date.isna().sum()"
   ]
  },
  {
   "cell_type": "code",
   "execution_count": 8,
   "id": "27545eba-d98f-4561-9d64-a833869bf7fa",
   "metadata": {
    "tags": []
   },
   "outputs": [
    {
     "name": "stderr",
     "output_type": "stream",
     "text": [
      "C:\\Users\\PC}\\AppData\\Local\\Temp\\ipykernel_21720\\1946813749.py:1: UserWarning: The argument 'infer_datetime_format' is deprecated and will be removed in a future version. A strict version of it is now the default, see https://pandas.pydata.org/pdeps/0004-consistent-to-datetime-parsing.html. You can safely remove this argument.\n",
      "  data['Date'] = pd.to_datetime(data['Date'], errors='coerce', infer_datetime_format=True)\n",
      "C:\\Users\\PC}\\AppData\\Local\\Temp\\ipykernel_21720\\1946813749.py:1: UserWarning: Could not infer format, so each element will be parsed individually, falling back to `dateutil`. To ensure parsing is consistent and as-expected, please specify a format.\n",
      "  data['Date'] = pd.to_datetime(data['Date'], errors='coerce', infer_datetime_format=True)\n"
     ]
    }
   ],
   "source": [
    "data['Date'] = pd.to_datetime(data['Date'], errors='coerce', infer_datetime_format=True)\n",
    "data.set_index('Date', inplace=True)"
   ]
  },
  {
   "cell_type": "code",
   "execution_count": 10,
   "id": "0f8c92b0-2001-484d-b017-4e707bc19d90",
   "metadata": {
    "tags": []
   },
   "outputs": [
    {
     "data": {
      "text/plain": [
       "DatetimeIndex(['2022-01-06 00:00:00', '2022-01-06 00:05:00',\n",
       "               '2022-01-06 00:10:00', '2022-01-06 00:15:00',\n",
       "               '2022-01-06 00:20:00', '2022-01-06 00:25:00',\n",
       "               '2022-01-06 00:30:00', '2022-01-06 00:35:00',\n",
       "               '2022-01-06 00:40:00', '2022-01-06 00:45:00',\n",
       "               ...\n",
       "               '2022-08-30 23:10:00', '2022-08-30 23:15:00',\n",
       "               '2022-08-30 23:20:00', '2022-08-30 23:25:00',\n",
       "               '2022-08-30 23:30:00', '2022-08-30 23:35:00',\n",
       "               '2022-08-30 23:40:00', '2022-08-30 23:45:00',\n",
       "               '2022-08-30 23:50:00', '2022-08-30 23:55:00'],\n",
       "              dtype='datetime64[ns]', name='Date', length=25632, freq=None)"
      ]
     },
     "execution_count": 10,
     "metadata": {},
     "output_type": "execute_result"
    }
   ],
   "source": [
    "data.index"
   ]
  },
  {
   "cell_type": "code",
   "execution_count": 14,
   "id": "90a54115-e2c9-4179-8d40-b2e98935f9dc",
   "metadata": {
    "tags": []
   },
   "outputs": [
    {
     "name": "stdout",
     "output_type": "stream",
     "text": [
      "on_off [0. 1.]\n",
      "amb_humid_1 [35. 36. 37. 38. 39. 40. 41. 42. 43. 44. 45. 46. 47. 48. 49. 34. 33. 32.\n",
      " 50. 51.  0. 31. 30. 29. 52. 53. 28. 27. 26. 25. 24. 54. 55. 56. 57. 58.\n",
      " 59. 60. 61. 62.]\n",
      "summer_setpoint_temp [22.5 22.  22.1 22.9 22.2 22.8 23.  22.3 22.6 22.7 25.  23.5 24.  24.5\n",
      " 24.1 23.6 24.8 24.2]\n",
      "winter_setpoint_temp [18.  22.  19.5 18.5 20.  20.5]\n"
     ]
    }
   ],
   "source": [
    "for c in data.columns:\n",
    "    cats = data[c].unique()\n",
    "    if len(cats) < 50:\n",
    "        print(c, cats)"
   ]
  },
  {
   "cell_type": "code",
   "execution_count": 49,
   "id": "271f355a-ac07-46fb-a26a-f900a84c132c",
   "metadata": {
    "tags": []
   },
   "outputs": [
    {
     "data": {
      "text/html": [
       "<div>\n",
       "<style scoped>\n",
       "    .dataframe tbody tr th:only-of-type {\n",
       "        vertical-align: middle;\n",
       "    }\n",
       "\n",
       "    .dataframe tbody tr th {\n",
       "        vertical-align: top;\n",
       "    }\n",
       "\n",
       "    .dataframe thead th {\n",
       "        text-align: right;\n",
       "    }\n",
       "</style>\n",
       "<table border=\"1\" class=\"dataframe\">\n",
       "  <thead>\n",
       "    <tr style=\"text-align: right;\">\n",
       "      <th></th>\n",
       "      <th>on_off</th>\n",
       "      <th>damper</th>\n",
       "      <th>active_energy</th>\n",
       "      <th>co2_1</th>\n",
       "      <th>amb_humid_1</th>\n",
       "      <th>active_power</th>\n",
       "      <th>pot_gen</th>\n",
       "      <th>high_pressure_1</th>\n",
       "      <th>high_pressure_2</th>\n",
       "      <th>low_pressure_1</th>\n",
       "      <th>low_pressure_2</th>\n",
       "      <th>high_pressure_3</th>\n",
       "      <th>low_pressure_3</th>\n",
       "      <th>outside_temp</th>\n",
       "      <th>outlet_temp</th>\n",
       "      <th>inlet_temp</th>\n",
       "      <th>summer_setpoint_temp</th>\n",
       "      <th>winter_setpoint_temp</th>\n",
       "      <th>amb_temp_2</th>\n",
       "    </tr>\n",
       "    <tr>\n",
       "      <th>Date</th>\n",
       "      <th></th>\n",
       "      <th></th>\n",
       "      <th></th>\n",
       "      <th></th>\n",
       "      <th></th>\n",
       "      <th></th>\n",
       "      <th></th>\n",
       "      <th></th>\n",
       "      <th></th>\n",
       "      <th></th>\n",
       "      <th></th>\n",
       "      <th></th>\n",
       "      <th></th>\n",
       "      <th></th>\n",
       "      <th></th>\n",
       "      <th></th>\n",
       "      <th></th>\n",
       "      <th></th>\n",
       "      <th></th>\n",
       "    </tr>\n",
       "  </thead>\n",
       "  <tbody>\n",
       "    <tr>\n",
       "      <th>2022-01-06 00:00:00</th>\n",
       "      <td>0.0</td>\n",
       "      <td>0.0</td>\n",
       "      <td>363150.69</td>\n",
       "      <td>975.0</td>\n",
       "      <td>35.0</td>\n",
       "      <td>0.36</td>\n",
       "      <td>4.0</td>\n",
       "      <td>15.09</td>\n",
       "      <td>15.0</td>\n",
       "      <td>15.27</td>\n",
       "      <td>15.1</td>\n",
       "      <td>15.2</td>\n",
       "      <td>15.2</td>\n",
       "      <td>23.4</td>\n",
       "      <td>24.2</td>\n",
       "      <td>22.8</td>\n",
       "      <td>22.5</td>\n",
       "      <td>18.0</td>\n",
       "      <td>23.4</td>\n",
       "    </tr>\n",
       "    <tr>\n",
       "      <th>2022-01-06 00:05:00</th>\n",
       "      <td>0.0</td>\n",
       "      <td>0.0</td>\n",
       "      <td>363150.78</td>\n",
       "      <td>977.0</td>\n",
       "      <td>35.0</td>\n",
       "      <td>0.36</td>\n",
       "      <td>4.0</td>\n",
       "      <td>15.03</td>\n",
       "      <td>14.9</td>\n",
       "      <td>15.21</td>\n",
       "      <td>15.0</td>\n",
       "      <td>15.2</td>\n",
       "      <td>15.1</td>\n",
       "      <td>23.3</td>\n",
       "      <td>24.2</td>\n",
       "      <td>22.7</td>\n",
       "      <td>22.5</td>\n",
       "      <td>18.0</td>\n",
       "      <td>23.3</td>\n",
       "    </tr>\n",
       "    <tr>\n",
       "      <th>2022-01-06 00:10:00</th>\n",
       "      <td>0.0</td>\n",
       "      <td>0.0</td>\n",
       "      <td>363150.78</td>\n",
       "      <td>975.0</td>\n",
       "      <td>35.0</td>\n",
       "      <td>0.36</td>\n",
       "      <td>4.0</td>\n",
       "      <td>15.03</td>\n",
       "      <td>14.8</td>\n",
       "      <td>15.15</td>\n",
       "      <td>15.0</td>\n",
       "      <td>15.1</td>\n",
       "      <td>15.1</td>\n",
       "      <td>23.1</td>\n",
       "      <td>24.1</td>\n",
       "      <td>22.5</td>\n",
       "      <td>22.5</td>\n",
       "      <td>18.0</td>\n",
       "      <td>23.4</td>\n",
       "    </tr>\n",
       "    <tr>\n",
       "      <th>2022-01-06 00:15:00</th>\n",
       "      <td>0.0</td>\n",
       "      <td>0.0</td>\n",
       "      <td>363150.78</td>\n",
       "      <td>975.0</td>\n",
       "      <td>35.0</td>\n",
       "      <td>0.36</td>\n",
       "      <td>4.0</td>\n",
       "      <td>14.96</td>\n",
       "      <td>14.8</td>\n",
       "      <td>15.15</td>\n",
       "      <td>14.9</td>\n",
       "      <td>15.1</td>\n",
       "      <td>15.0</td>\n",
       "      <td>23.1</td>\n",
       "      <td>23.9</td>\n",
       "      <td>22.3</td>\n",
       "      <td>22.5</td>\n",
       "      <td>18.0</td>\n",
       "      <td>23.3</td>\n",
       "    </tr>\n",
       "    <tr>\n",
       "      <th>2022-01-06 00:20:00</th>\n",
       "      <td>0.0</td>\n",
       "      <td>0.0</td>\n",
       "      <td>363150.88</td>\n",
       "      <td>975.0</td>\n",
       "      <td>35.0</td>\n",
       "      <td>0.36</td>\n",
       "      <td>0.0</td>\n",
       "      <td>14.90</td>\n",
       "      <td>14.7</td>\n",
       "      <td>15.09</td>\n",
       "      <td>14.9</td>\n",
       "      <td>15.0</td>\n",
       "      <td>14.9</td>\n",
       "      <td>22.9</td>\n",
       "      <td>23.9</td>\n",
       "      <td>22.2</td>\n",
       "      <td>22.5</td>\n",
       "      <td>18.0</td>\n",
       "      <td>23.3</td>\n",
       "    </tr>\n",
       "  </tbody>\n",
       "</table>\n",
       "</div>"
      ],
      "text/plain": [
       "                     on_off  damper  active_energy  co2_1  amb_humid_1  \\\n",
       "Date                                                                     \n",
       "2022-01-06 00:00:00     0.0     0.0      363150.69  975.0         35.0   \n",
       "2022-01-06 00:05:00     0.0     0.0      363150.78  977.0         35.0   \n",
       "2022-01-06 00:10:00     0.0     0.0      363150.78  975.0         35.0   \n",
       "2022-01-06 00:15:00     0.0     0.0      363150.78  975.0         35.0   \n",
       "2022-01-06 00:20:00     0.0     0.0      363150.88  975.0         35.0   \n",
       "\n",
       "                     active_power  pot_gen  high_pressure_1  high_pressure_2  \\\n",
       "Date                                                                           \n",
       "2022-01-06 00:00:00          0.36      4.0            15.09             15.0   \n",
       "2022-01-06 00:05:00          0.36      4.0            15.03             14.9   \n",
       "2022-01-06 00:10:00          0.36      4.0            15.03             14.8   \n",
       "2022-01-06 00:15:00          0.36      4.0            14.96             14.8   \n",
       "2022-01-06 00:20:00          0.36      0.0            14.90             14.7   \n",
       "\n",
       "                     low_pressure_1  low_pressure_2  high_pressure_3  \\\n",
       "Date                                                                   \n",
       "2022-01-06 00:00:00           15.27            15.1             15.2   \n",
       "2022-01-06 00:05:00           15.21            15.0             15.2   \n",
       "2022-01-06 00:10:00           15.15            15.0             15.1   \n",
       "2022-01-06 00:15:00           15.15            14.9             15.1   \n",
       "2022-01-06 00:20:00           15.09            14.9             15.0   \n",
       "\n",
       "                     low_pressure_3  outside_temp  outlet_temp  inlet_temp  \\\n",
       "Date                                                                         \n",
       "2022-01-06 00:00:00            15.2          23.4         24.2        22.8   \n",
       "2022-01-06 00:05:00            15.1          23.3         24.2        22.7   \n",
       "2022-01-06 00:10:00            15.1          23.1         24.1        22.5   \n",
       "2022-01-06 00:15:00            15.0          23.1         23.9        22.3   \n",
       "2022-01-06 00:20:00            14.9          22.9         23.9        22.2   \n",
       "\n",
       "                     summer_setpoint_temp  winter_setpoint_temp  amb_temp_2  \n",
       "Date                                                                         \n",
       "2022-01-06 00:00:00                  22.5                  18.0        23.4  \n",
       "2022-01-06 00:05:00                  22.5                  18.0        23.3  \n",
       "2022-01-06 00:10:00                  22.5                  18.0        23.4  \n",
       "2022-01-06 00:15:00                  22.5                  18.0        23.3  \n",
       "2022-01-06 00:20:00                  22.5                  18.0        23.3  "
      ]
     },
     "execution_count": 49,
     "metadata": {},
     "output_type": "execute_result"
    }
   ],
   "source": [
    "data.head()"
   ]
  },
  {
   "cell_type": "code",
   "execution_count": 178,
   "id": "531d7c53-af73-4973-aed7-f7b9d967a38b",
   "metadata": {
    "tags": []
   },
   "outputs": [
    {
     "data": {
      "text/plain": [
       "<Axes: xlabel='Date'>"
      ]
     },
     "execution_count": 178,
     "metadata": {},
     "output_type": "execute_result"
    },
    {
     "data": {
      "image/png": "[encoded data removed]",
      "text/plain": [
       "<Figure size 640x480 with 1 Axes>"
      ]
     },
     "metadata": {},
     "output_type": "display_data"
    }
   ],
   "source": [
    "data.pot_gen.plot()"
   ]
  },
  {
   "cell_type": "code",
   "execution_count": 53,
   "id": "bad3984e-c88b-49ee-9b09-2edb65d46157",
   "metadata": {
    "tags": []
   },
   "outputs": [],
   "source": [
    "import pandas as pd\n",
    "from sklearn.preprocessing import MinMaxScaler, StandardScaler"
   ]
  },
  {
   "cell_type": "code",
   "execution_count": 61,
   "id": "66bb2911-9c4a-4c25-8348-fc79c69450bc",
   "metadata": {
    "tags": []
   },
   "outputs": [],
   "source": [
    "scaler = MinMaxScaler()\n",
    "df = pd.DataFrame(scaler.fit_transform(data), columns=data.columns)\n",
    "df.index = data.index"
   ]
  },
  {
   "cell_type": "code",
   "execution_count": 63,
   "id": "b1bd7b96-3321-48ed-b36f-6531937ad6dd",
   "metadata": {
    "tags": []
   },
   "outputs": [
    {
     "data": {
      "text/plain": [
       "pandas._libs.tslibs.timestamps.Timestamp"
      ]
     },
     "execution_count": 63,
     "metadata": {},
     "output_type": "execute_result"
    }
   ],
   "source": [
    "type(df.index[0])"
   ]
  },
  {
   "cell_type": "code",
   "execution_count": 65,
   "id": "4b576dc5-e76f-4525-acfd-046f8b55da01",
   "metadata": {
    "tags": []
   },
   "outputs": [
    {
     "data": {
      "text/plain": [
       "Index([6, 13, 14, 15, 16, 17, 18, 19, 20, 21, 22, 23, 24, 25, 26, 27, 28, 29,\n",
       "       7, 30, 8],\n",
       "      dtype='int32', name='Date')"
      ]
     },
     "execution_count": 65,
     "metadata": {},
     "output_type": "execute_result"
    }
   ],
   "source": [
    "df.index.day.unique()"
   ]
  },
  {
   "cell_type": "code",
   "execution_count": 67,
   "id": "48274e4f-ea92-4aee-854b-0616ece6a11e",
   "metadata": {
    "tags": []
   },
   "outputs": [
    {
     "data": {
      "text/plain": [
       "Index([1, 2, 3, 4, 5, 6, 7, 8, 9, 10, 11, 12], dtype='int32', name='Date')"
      ]
     },
     "execution_count": 67,
     "metadata": {},
     "output_type": "execute_result"
    }
   ],
   "source": [
    "df.index.month.unique()"
   ]
  },
  {
   "cell_type": "code",
   "execution_count": 69,
   "id": "4d895467-728d-4f8f-8836-447d2f744293",
   "metadata": {
    "tags": []
   },
   "outputs": [
    {
     "data": {
      "text/plain": [
       "Index([2022], dtype='int32', name='Date')"
      ]
     },
     "execution_count": 69,
     "metadata": {},
     "output_type": "execute_result"
    }
   ],
   "source": [
    "df.index.year.unique()"
   ]
  },
  {
   "cell_type": "code",
   "execution_count": 71,
   "id": "7cbeec5c-9bbc-4068-a100-813f457a5748",
   "metadata": {
    "tags": []
   },
   "outputs": [
    {
     "data": {
      "text/plain": [
       "Index([ 0,  1,  2,  3,  4,  5,  6,  7,  8,  9, 10, 11, 12, 13, 14, 15, 16, 17,\n",
       "       18, 19, 20, 21, 22, 23],\n",
       "      dtype='int32', name='Date')"
      ]
     },
     "execution_count": 71,
     "metadata": {},
     "output_type": "execute_result"
    }
   ],
   "source": [
    "df.index.hour.unique()"
   ]
  },
  {
   "cell_type": "code",
   "execution_count": 188,
   "id": "d0a5b6b6-f4f1-46b5-9c0b-749178dc3a21",
   "metadata": {
    "tags": []
   },
   "outputs": [
    {
     "name": "stdout",
     "output_type": "stream",
     "text": [
      "(1068, 19)\n"
     ]
    },
    {
     "name": "stderr",
     "output_type": "stream",
     "text": [
      "C:\\Users\\PC}\\AppData\\Local\\Temp\\ipykernel_21720\\242246407.py:10: UserWarning: Boolean Series key will be reindexed to match DataFrame index.\n",
      "  sns.lineplot(filtered_date_df[(df.on_off == 0)], x=\"Date\", y=\"inlet_temp\", label=\"inlet=0\")\n",
      "C:\\AnacondaD\\Lib\\site-packages\\seaborn\\_oldcore.py:1119: FutureWarning: use_inf_as_na option is deprecated and will be removed in a future version. Convert inf values to NaN before operating instead.\n",
      "  with pd.option_context('mode.use_inf_as_na', True):\n",
      "C:\\AnacondaD\\Lib\\site-packages\\seaborn\\_oldcore.py:1119: FutureWarning: use_inf_as_na option is deprecated and will be removed in a future version. Convert inf values to NaN before operating instead.\n",
      "  with pd.option_context('mode.use_inf_as_na', True):\n",
      "C:\\Users\\PC}\\AppData\\Local\\Temp\\ipykernel_21720\\242246407.py:11: UserWarning: Boolean Series key will be reindexed to match DataFrame index.\n",
      "  sns.lineplot(filtered_date_df[(df.on_off == 1)], x=\"Date\", y=\"inlet_temp\", label=\"inlet=1\")\n",
      "C:\\AnacondaD\\Lib\\site-packages\\seaborn\\_oldcore.py:1119: FutureWarning: use_inf_as_na option is deprecated and will be removed in a future version. Convert inf values to NaN before operating instead.\n",
      "  with pd.option_context('mode.use_inf_as_na', True):\n",
      "C:\\AnacondaD\\Lib\\site-packages\\seaborn\\_oldcore.py:1119: FutureWarning: use_inf_as_na option is deprecated and will be removed in a future version. Convert inf values to NaN before operating instead.\n",
      "  with pd.option_context('mode.use_inf_as_na', True):\n",
      "C:\\AnacondaD\\Lib\\site-packages\\seaborn\\_oldcore.py:1119: FutureWarning: use_inf_as_na option is deprecated and will be removed in a future version. Convert inf values to NaN before operating instead.\n",
      "  with pd.option_context('mode.use_inf_as_na', True):\n",
      "C:\\AnacondaD\\Lib\\site-packages\\seaborn\\_oldcore.py:1119: FutureWarning: use_inf_as_na option is deprecated and will be removed in a future version. Convert inf values to NaN before operating instead.\n",
      "  with pd.option_context('mode.use_inf_as_na', True):\n"
     ]
    },
    {
     "data": {
      "text/plain": [
       "Text(0.5, 1.0, 'Temperature Measurement at 8/20')"
      ]
     },
     "execution_count": 188,
     "metadata": {},
     "output_type": "execute_result"
    },
    {
     "data": {
      "image/png": "[encoded data removed]",
      "text/plain": [
       "<Figure size 640x480 with 1 Axes>"
      ]
     },
     "metadata": {},
     "output_type": "display_data"
    }
   ],
   "source": [
    "#output_variable = 'outside_temp'\n",
    "output_variable = 'co2_1'\n",
    "day = 20\n",
    "month = 8\n",
    "year = 2022\n",
    "hour = 12\n",
    "filtered_date_df = df[(df.index.hour == hour) & (df.index.hour == hour)]\n",
    "print(filtered_date_df.shape)\n",
    "\n",
    "sns.lineplot(filtered_date_df[(df.on_off == 0)], x=\"Date\", y=\"inlet_temp\", label=\"inlet=0\")\n",
    "sns.lineplot(filtered_date_df[(df.on_off == 1)], x=\"Date\", y=\"inlet_temp\", label=\"inlet=1\")\n",
    "sns.lineplot(filtered_date_df, x=\"Date\", y=output_variable, label=output_variable)\n",
    "\n",
    "plt.xticks(rotation=45)\n",
    "plt.title(f\"Temperature Measurement at {month}/{day}\")\n",
    "# sns.lineplot(df[(df.Date.dt.day == 7) & (df.Date.dt.month == 1)], x=\"Date\", y=\"outlet_temp\", label=\"outlet\")"
   ]
  },
  {
   "cell_type": "code",
   "execution_count": 75,
   "id": "4764c3d1-c395-421e-bf2c-a20e77be8786",
   "metadata": {
    "tags": []
   },
   "outputs": [
    {
     "data": {
      "text/plain": [
       "Index(['on_off', 'damper', 'active_energy', 'co2_1', 'amb_humid_1',\n",
       "       'active_power', 'pot_gen', 'high_pressure_1', 'high_pressure_2',\n",
       "       'low_pressure_1', 'low_pressure_2', 'high_pressure_3', 'low_pressure_3',\n",
       "       'outside_temp', 'outlet_temp', 'inlet_temp', 'summer_setpoint_temp',\n",
       "       'winter_setpoint_temp', 'amb_temp_2'],\n",
       "      dtype='object')"
      ]
     },
     "execution_count": 75,
     "metadata": {},
     "output_type": "execute_result"
    }
   ],
   "source": [
    "df.columns"
   ]
  },
  {
   "cell_type": "code",
   "execution_count": 77,
   "id": "7192eee8-c4da-403d-8ea4-709d2e9020c8",
   "metadata": {
    "tags": []
   },
   "outputs": [
    {
     "data": {
      "text/plain": [
       "on_off                  1.0\n",
       "damper                  1.0\n",
       "active_energy           1.0\n",
       "co2_1                   1.0\n",
       "amb_humid_1             1.0\n",
       "active_power            1.0\n",
       "pot_gen                 1.0\n",
       "high_pressure_1         1.0\n",
       "high_pressure_2         1.0\n",
       "low_pressure_1          1.0\n",
       "low_pressure_2          1.0\n",
       "high_pressure_3         1.0\n",
       "low_pressure_3          1.0\n",
       "outside_temp            1.0\n",
       "outlet_temp             1.0\n",
       "inlet_temp              1.0\n",
       "summer_setpoint_temp    1.0\n",
       "winter_setpoint_temp    1.0\n",
       "amb_temp_2              1.0\n",
       "dtype: float64"
      ]
     },
     "execution_count": 77,
     "metadata": {},
     "output_type": "execute_result"
    }
   ],
   "source": [
    "df.max()"
   ]
  },
  {
   "cell_type": "code",
   "execution_count": 99,
   "id": "bf461595-e546-4f01-b071-ec94a276cfaa",
   "metadata": {
    "tags": []
   },
   "outputs": [],
   "source": [
    "from sklearn.model_selection import train_test_split\n",
    "from sklearn.model_selection import cross_val_score\n",
    "from sklearn.linear_model import LogisticRegression, LinearRegression\n",
    "from sklearn.ensemble import RandomForestClassifier\n",
    "from sklearn.tree import DecisionTreeClassifier"
   ]
  },
  {
   "cell_type": "code",
   "execution_count": 190,
   "id": "cfd62a26-b68d-4890-828a-c4df3ab76d63",
   "metadata": {
    "tags": []
   },
   "outputs": [],
   "source": [
    "features = [\"inlet_temp\",\"outside_temp\", \"amb_humid_1\", 'active_power', 'high_pressure_1', 'low_pressure_1']\n",
    "target = output_variable\n",
    "\n",
    "X = df[features]\n",
    "y = df[target]"
   ]
  },
  {
   "cell_type": "code",
   "execution_count": 192,
   "id": "2831fe7d-3a52-4688-bc37-ce9a51b8825e",
   "metadata": {
    "tags": []
   },
   "outputs": [
    {
     "data": {
      "text/plain": [
       "inlet_temp         0\n",
       "outside_temp       0\n",
       "amb_humid_1        0\n",
       "active_power       0\n",
       "high_pressure_1    0\n",
       "low_pressure_1     0\n",
       "dtype: int64"
      ]
     },
     "execution_count": 192,
     "metadata": {},
     "output_type": "execute_result"
    }
   ],
   "source": [
    "X.isna().sum()"
   ]
  },
  {
   "cell_type": "code",
   "execution_count": 194,
   "id": "65eefdfc-2d0a-409c-b62f-3eec4ccd8a74",
   "metadata": {
    "tags": []
   },
   "outputs": [
    {
     "data": {
      "text/plain": [
       "0"
      ]
     },
     "execution_count": 194,
     "metadata": {},
     "output_type": "execute_result"
    }
   ],
   "source": [
    "y.isna().sum()"
   ]
  },
  {
   "cell_type": "code",
   "execution_count": 196,
   "id": "2c5e76dd-37df-45a6-99a6-a749c9cf3718",
   "metadata": {
    "tags": []
   },
   "outputs": [],
   "source": [
    "X_train, X_test, y_train, y_test = train_test_split(X, y, random_state=42, shuffle=True)"
   ]
  },
  {
   "cell_type": "code",
   "execution_count": 198,
   "id": "e8c712d9-c71a-4f75-a439-51a15f566bd8",
   "metadata": {
    "tags": []
   },
   "outputs": [
    {
     "data": {
      "text/plain": [
       "((19224, 6), (6408, 6), (19224,), (6408,))"
      ]
     },
     "execution_count": 198,
     "metadata": {},
     "output_type": "execute_result"
    }
   ],
   "source": [
    "X_train.shape, X_test.shape, y_train.shape, y_test.shape"
   ]
  },
  {
   "cell_type": "code",
   "execution_count": 200,
   "id": "acbb034e-65e4-4338-8c6b-9e0789546bcc",
   "metadata": {
    "collapsed": true,
    "jupyter": {
     "outputs_hidden": true
    },
    "tags": []
   },
   "outputs": [
    {
     "data": {
      "text/plain": [
       "array([0.03795066, 0.04174573, 0.03225806, 0.04743833, 0.028463  ,\n",
       "       0.06072106, 0.08538899, 0.09487666, 0.10436433, 0.10815939,\n",
       "       0.11385199, 0.11764706, 0.12713472, 0.15180266, 0.17457306,\n",
       "       0.19924099, 0.20872865, 0.21821632, 0.22201139, 0.23149905,\n",
       "       0.24667932, 0.27514231, 0.29411765, 0.30740038, 0.33206831,\n",
       "       0.34155598, 0.35104364, 0.37950664, 0.39848197, 0.40227704,\n",
       "       0.40796964, 0.41745731, 0.42694497, 0.43074004, 0.4402277 ,\n",
       "       0.43643264, 0.39278937, 0.38899431, 0.37001898, 0.35483871,\n",
       "       0.36053131, 0.36432638, 0.34535104, 0.32637571, 0.31309298,\n",
       "       0.32258065, 0.30360531, 0.29791271, 0.31688805, 0.37381404,\n",
       "       0.38330171, 0.41176471, 0.42125237, 0.46489564, 0.47817837,\n",
       "       0.48387097, 0.48766603, 0.49335863, 0.5256167 , 0.54079696,\n",
       "       0.54459203, 0.55028463, 0.5540797 , 0.57874763, 0.58823529,\n",
       "       0.60721063, 0.61100569, 0.61669829, 0.62049336, 0.66413662,\n",
       "       0.65464896, 0.65844402, 0.64516129, 0.63946869, 0.62618596,\n",
       "       0.59772296, 0.57305503, 0.5597723 , 0.5028463 , 0.44971537,\n",
       "       0.4459203 , 0.45540797, 0.45920304, 0.4686907 , 0.4743833 ,\n",
       "       0.33586338, 0.28842505, 0.28462998, 0.25996205, 0.25047438,\n",
       "       0.27893738, 0.26944972, 0.25616698, 0.24098672, 0.23719165,\n",
       "       0.22770398, 0.21252372, 0.19354839, 0.20303605, 0.18406072,\n",
       "       0.18026565, 0.17077799, 0.18975332, 0.16129032, 0.15559772,\n",
       "       0.16508539, 0.53510436, 0.5313093 , 0.50664137, 0.51612903,\n",
       "       0.4971537 , 0.51233397, 0.56356736, 0.56925996, 0.59203036,\n",
       "       0.62998102, 0.63567362, 0.67362429, 0.66793169, 0.68311195,\n",
       "       0.69639469, 0.73055028, 0.74003795, 0.75332068, 0.75901328,\n",
       "       0.77229602, 0.77798861, 0.79127135, 0.78178368, 0.79696395,\n",
       "       0.78747628, 0.76280835, 0.76850095, 0.71537002, 0.67741935,\n",
       "       0.58254269, 0.26565465, 0.14611006, 0.14231499, 0.13282732,\n",
       "       0.13662239, 0.12333966, 0.60151803, 0.64895636, 0.68690702,\n",
       "       0.69259962, 0.73434535, 0.81973435, 0.84440228, 0.84819734,\n",
       "       0.83870968, 0.85388994, 0.86717268, 0.89184061, 0.92030361,\n",
       "       0.91461101, 0.87666034, 0.90132827, 0.85768501, 0.87286528,\n",
       "       0.80645161, 0.70588235, 0.52182163, 0.74383302, 0.74952562,\n",
       "       0.72485769, 0.71157495, 0.09867173, 0.07590133, 0.07020873,\n",
       "       0.08918406, 0.07969639, 0.06641366, 0.056926  , 0.0512334 ,\n",
       "       0.72106262, 0.70208729, 0.80075901, 0.81024668, 0.81593928,\n",
       "       0.82922201, 0.90512334, 0.89563567, 0.92979127, 0.93358634,\n",
       "       0.82542694, 0.83491461, 0.943074  , 0.96204934, 0.98102467,\n",
       "       0.98671727, 0.99051233, 1.        , 0.96774194, 0.95256167,\n",
       "       0.93927894, 0.88235294, 0.0227704 , 0.91081594, 0.92409867,\n",
       "       0.86337761, 0.01897533, 0.01328273, 0.00379507, 0.        ])"
      ]
     },
     "execution_count": 200,
     "metadata": {},
     "output_type": "execute_result"
    }
   ],
   "source": [
    "y.unique()"
   ]
  },
  {
   "cell_type": "code",
   "execution_count": 150,
   "id": "e7ec8400-8bf8-43f7-9fa8-bfd53938877e",
   "metadata": {
    "collapsed": true,
    "jupyter": {
     "outputs_hidden": true
    },
    "tags": []
   },
   "outputs": [
    {
     "ename": "ValueError",
     "evalue": "\nAll the 5 fits failed.\nIt is very likely that your model is misconfigured.\nYou can try to debug the error by setting error_score='raise'.\n\nBelow are more details about the failures:\n--------------------------------------------------------------------------------\n5 fits failed with the following error:\nTraceback (most recent call last):\n  File \"C:\\AnacondaD\\Lib\\site-packages\\sklearn\\model_selection\\_validation.py\", line 686, in _fit_and_score\n    estimator.fit(X_train, y_train, **fit_params)\n  File \"C:\\AnacondaD\\Lib\\site-packages\\sklearn\\tree\\_classes.py\", line 889, in fit\n    super().fit(\n  File \"C:\\AnacondaD\\Lib\\site-packages\\sklearn\\tree\\_classes.py\", line 224, in fit\n    check_classification_targets(y)\n  File \"C:\\AnacondaD\\Lib\\site-packages\\sklearn\\utils\\multiclass.py\", line 218, in check_classification_targets\n    raise ValueError(\"Unknown label type: %r\" % y_type)\nValueError: Unknown label type: 'continuous'\n",
     "output_type": "error",
     "traceback": [
      "\u001b[1;31m---------------------------------------------------------------------------\u001b[0m",
      "\u001b[1;31mValueError\u001b[0m                                Traceback (most recent call last)",
      "Cell \u001b[1;32mIn[150], line 3\u001b[0m\n\u001b[0;32m      1\u001b[0m model \u001b[38;5;241m=\u001b[39m DecisionTreeClassifier()\n\u001b[1;32m----> 3\u001b[0m dev_score \u001b[38;5;241m=\u001b[39m cross_val_score(model, X_train, y_train, cv\u001b[38;5;241m=\u001b[39m\u001b[38;5;241m5\u001b[39m)\n\u001b[0;32m      4\u001b[0m model\u001b[38;5;241m.\u001b[39mfit(X_train, y_train)\n\u001b[0;32m      5\u001b[0m test_score \u001b[38;5;241m=\u001b[39m model\u001b[38;5;241m.\u001b[39mscore(X_test, y_test)\n",
      "File \u001b[1;32mC:\\AnacondaD\\Lib\\site-packages\\sklearn\\model_selection\\_validation.py:515\u001b[0m, in \u001b[0;36mcross_val_score\u001b[1;34m(estimator, X, y, groups, scoring, cv, n_jobs, verbose, fit_params, pre_dispatch, error_score)\u001b[0m\n\u001b[0;32m    512\u001b[0m \u001b[38;5;66;03m# To ensure multimetric format is not supported\u001b[39;00m\n\u001b[0;32m    513\u001b[0m scorer \u001b[38;5;241m=\u001b[39m check_scoring(estimator, scoring\u001b[38;5;241m=\u001b[39mscoring)\n\u001b[1;32m--> 515\u001b[0m cv_results \u001b[38;5;241m=\u001b[39m cross_validate(\n\u001b[0;32m    516\u001b[0m     estimator\u001b[38;5;241m=\u001b[39mestimator,\n\u001b[0;32m    517\u001b[0m     X\u001b[38;5;241m=\u001b[39mX,\n\u001b[0;32m    518\u001b[0m     y\u001b[38;5;241m=\u001b[39my,\n\u001b[0;32m    519\u001b[0m     groups\u001b[38;5;241m=\u001b[39mgroups,\n\u001b[0;32m    520\u001b[0m     scoring\u001b[38;5;241m=\u001b[39m{\u001b[38;5;124m\"\u001b[39m\u001b[38;5;124mscore\u001b[39m\u001b[38;5;124m\"\u001b[39m: scorer},\n\u001b[0;32m    521\u001b[0m     cv\u001b[38;5;241m=\u001b[39mcv,\n\u001b[0;32m    522\u001b[0m     n_jobs\u001b[38;5;241m=\u001b[39mn_jobs,\n\u001b[0;32m    523\u001b[0m     verbose\u001b[38;5;241m=\u001b[39mverbose,\n\u001b[0;32m    524\u001b[0m     fit_params\u001b[38;5;241m=\u001b[39mfit_params,\n\u001b[0;32m    525\u001b[0m     pre_dispatch\u001b[38;5;241m=\u001b[39mpre_dispatch,\n\u001b[0;32m    526\u001b[0m     error_score\u001b[38;5;241m=\u001b[39merror_score,\n\u001b[0;32m    527\u001b[0m )\n\u001b[0;32m    528\u001b[0m \u001b[38;5;28;01mreturn\u001b[39;00m cv_results[\u001b[38;5;124m\"\u001b[39m\u001b[38;5;124mtest_score\u001b[39m\u001b[38;5;124m\"\u001b[39m]\n",
      "File \u001b[1;32mC:\\AnacondaD\\Lib\\site-packages\\sklearn\\model_selection\\_validation.py:285\u001b[0m, in \u001b[0;36mcross_validate\u001b[1;34m(estimator, X, y, groups, scoring, cv, n_jobs, verbose, fit_params, pre_dispatch, return_train_score, return_estimator, error_score)\u001b[0m\n\u001b[0;32m    265\u001b[0m parallel \u001b[38;5;241m=\u001b[39m Parallel(n_jobs\u001b[38;5;241m=\u001b[39mn_jobs, verbose\u001b[38;5;241m=\u001b[39mverbose, pre_dispatch\u001b[38;5;241m=\u001b[39mpre_dispatch)\n\u001b[0;32m    266\u001b[0m results \u001b[38;5;241m=\u001b[39m parallel(\n\u001b[0;32m    267\u001b[0m     delayed(_fit_and_score)(\n\u001b[0;32m    268\u001b[0m         clone(estimator),\n\u001b[1;32m   (...)\u001b[0m\n\u001b[0;32m    282\u001b[0m     \u001b[38;5;28;01mfor\u001b[39;00m train, test \u001b[38;5;129;01min\u001b[39;00m cv\u001b[38;5;241m.\u001b[39msplit(X, y, groups)\n\u001b[0;32m    283\u001b[0m )\n\u001b[1;32m--> 285\u001b[0m _warn_or_raise_about_fit_failures(results, error_score)\n\u001b[0;32m    287\u001b[0m \u001b[38;5;66;03m# For callabe scoring, the return type is only know after calling. If the\u001b[39;00m\n\u001b[0;32m    288\u001b[0m \u001b[38;5;66;03m# return type is a dictionary, the error scores can now be inserted with\u001b[39;00m\n\u001b[0;32m    289\u001b[0m \u001b[38;5;66;03m# the correct key.\u001b[39;00m\n\u001b[0;32m    290\u001b[0m \u001b[38;5;28;01mif\u001b[39;00m \u001b[38;5;28mcallable\u001b[39m(scoring):\n",
      "File \u001b[1;32mC:\\AnacondaD\\Lib\\site-packages\\sklearn\\model_selection\\_validation.py:367\u001b[0m, in \u001b[0;36m_warn_or_raise_about_fit_failures\u001b[1;34m(results, error_score)\u001b[0m\n\u001b[0;32m    360\u001b[0m \u001b[38;5;28;01mif\u001b[39;00m num_failed_fits \u001b[38;5;241m==\u001b[39m num_fits:\n\u001b[0;32m    361\u001b[0m     all_fits_failed_message \u001b[38;5;241m=\u001b[39m (\n\u001b[0;32m    362\u001b[0m         \u001b[38;5;124mf\u001b[39m\u001b[38;5;124m\"\u001b[39m\u001b[38;5;130;01m\\n\u001b[39;00m\u001b[38;5;124mAll the \u001b[39m\u001b[38;5;132;01m{\u001b[39;00mnum_fits\u001b[38;5;132;01m}\u001b[39;00m\u001b[38;5;124m fits failed.\u001b[39m\u001b[38;5;130;01m\\n\u001b[39;00m\u001b[38;5;124m\"\u001b[39m\n\u001b[0;32m    363\u001b[0m         \u001b[38;5;124m\"\u001b[39m\u001b[38;5;124mIt is very likely that your model is misconfigured.\u001b[39m\u001b[38;5;130;01m\\n\u001b[39;00m\u001b[38;5;124m\"\u001b[39m\n\u001b[0;32m    364\u001b[0m         \u001b[38;5;124m\"\u001b[39m\u001b[38;5;124mYou can try to debug the error by setting error_score=\u001b[39m\u001b[38;5;124m'\u001b[39m\u001b[38;5;124mraise\u001b[39m\u001b[38;5;124m'\u001b[39m\u001b[38;5;124m.\u001b[39m\u001b[38;5;130;01m\\n\u001b[39;00m\u001b[38;5;130;01m\\n\u001b[39;00m\u001b[38;5;124m\"\u001b[39m\n\u001b[0;32m    365\u001b[0m         \u001b[38;5;124mf\u001b[39m\u001b[38;5;124m\"\u001b[39m\u001b[38;5;124mBelow are more details about the failures:\u001b[39m\u001b[38;5;130;01m\\n\u001b[39;00m\u001b[38;5;132;01m{\u001b[39;00mfit_errors_summary\u001b[38;5;132;01m}\u001b[39;00m\u001b[38;5;124m\"\u001b[39m\n\u001b[0;32m    366\u001b[0m     )\n\u001b[1;32m--> 367\u001b[0m     \u001b[38;5;28;01mraise\u001b[39;00m \u001b[38;5;167;01mValueError\u001b[39;00m(all_fits_failed_message)\n\u001b[0;32m    369\u001b[0m \u001b[38;5;28;01melse\u001b[39;00m:\n\u001b[0;32m    370\u001b[0m     some_fits_failed_message \u001b[38;5;241m=\u001b[39m (\n\u001b[0;32m    371\u001b[0m         \u001b[38;5;124mf\u001b[39m\u001b[38;5;124m\"\u001b[39m\u001b[38;5;130;01m\\n\u001b[39;00m\u001b[38;5;132;01m{\u001b[39;00mnum_failed_fits\u001b[38;5;132;01m}\u001b[39;00m\u001b[38;5;124m fits failed out of a total of \u001b[39m\u001b[38;5;132;01m{\u001b[39;00mnum_fits\u001b[38;5;132;01m}\u001b[39;00m\u001b[38;5;124m.\u001b[39m\u001b[38;5;130;01m\\n\u001b[39;00m\u001b[38;5;124m\"\u001b[39m\n\u001b[0;32m    372\u001b[0m         \u001b[38;5;124m\"\u001b[39m\u001b[38;5;124mThe score on these train-test partitions for these parameters\u001b[39m\u001b[38;5;124m\"\u001b[39m\n\u001b[1;32m   (...)\u001b[0m\n\u001b[0;32m    376\u001b[0m         \u001b[38;5;124mf\u001b[39m\u001b[38;5;124m\"\u001b[39m\u001b[38;5;124mBelow are more details about the failures:\u001b[39m\u001b[38;5;130;01m\\n\u001b[39;00m\u001b[38;5;132;01m{\u001b[39;00mfit_errors_summary\u001b[38;5;132;01m}\u001b[39;00m\u001b[38;5;124m\"\u001b[39m\n\u001b[0;32m    377\u001b[0m     )\n",
      "\u001b[1;31mValueError\u001b[0m: \nAll the 5 fits failed.\nIt is very likely that your model is misconfigured.\nYou can try to debug the error by setting error_score='raise'.\n\nBelow are more details about the failures:\n--------------------------------------------------------------------------------\n5 fits failed with the following error:\nTraceback (most recent call last):\n  File \"C:\\AnacondaD\\Lib\\site-packages\\sklearn\\model_selection\\_validation.py\", line 686, in _fit_and_score\n    estimator.fit(X_train, y_train, **fit_params)\n  File \"C:\\AnacondaD\\Lib\\site-packages\\sklearn\\tree\\_classes.py\", line 889, in fit\n    super().fit(\n  File \"C:\\AnacondaD\\Lib\\site-packages\\sklearn\\tree\\_classes.py\", line 224, in fit\n    check_classification_targets(y)\n  File \"C:\\AnacondaD\\Lib\\site-packages\\sklearn\\utils\\multiclass.py\", line 218, in check_classification_targets\n    raise ValueError(\"Unknown label type: %r\" % y_type)\nValueError: Unknown label type: 'continuous'\n"
     ]
    }
   ],
   "source": [
    "model = DecisionTreeClassifier()\n",
    "\n",
    "dev_score = cross_val_score(model, X_train, y_train, cv=5)\n",
    "model.fit(X_train, y_train)\n",
    "test_score = model.score(X_test, y_test)\n",
    "\n",
    "print(f\"Model CV Accuracy :{dev_score.mean()}\")\n",
    "print(f\"Model Test Accuracy :{test_score}\")"
   ]
  },
  {
   "cell_type": "code",
   "execution_count": 103,
   "id": "142f27a8-6114-471c-aa3b-b8f6848b386d",
   "metadata": {},
   "outputs": [
    {
     "name": "stdout",
     "output_type": "stream",
     "text": [
      "Model CV Accuracy :0.9260302648546904\n",
      "Model Test Accuracy :0.45531299595654817\n"
     ]
    }
   ],
   "source": [
    "model = LinearRegression()\n",
    "model.fit(X_train, y_train)\n",
    "test_score = model.score(X_test, y_test)\n",
    "\n",
    "print(f\"Model CV Accuracy :{dev_score.mean()}\")\n",
    "print(f\"Model Test Accuracy :{test_score}\")"
   ]
  },
  {
   "cell_type": "code",
   "execution_count": 231,
   "id": "a1927f97-a569-4258-8d77-4ad9001adf97",
   "metadata": {
    "tags": []
   },
   "outputs": [],
   "source": [
    "import torch\n",
    "import torch.nn as nn\n",
    "\n",
    "# Define the neural network\n",
    "class SimpleRegressionNet(nn.Module):\n",
    "    def __init__(self, input_size, hidden_size, output_size):\n",
    "        super(SimpleRegressionNet, self).__init__()\n",
    "        self.fc1 = nn.Linear(input_size, hidden_size)\n",
    "        self.fc2 = nn.Linear(hidden_size, hidden_size)\n",
    "        self.fc3 = nn.Linear(hidden_size, 4)\n",
    "        self.fc4 = nn.Linear(4, output_size)\n",
    "        self.relu = nn.ReLU()\n",
    "\n",
    "    def forward(self, x):\n",
    "        x = self.relu(self.fc1(x))\n",
    "        x = self.relu(self.fc2(x))\n",
    "        x = self.relu(self.fc3(x))\n",
    "        x = self.fc4(x)\n",
    "        return x"
   ]
  },
  {
   "cell_type": "code",
   "execution_count": 233,
   "id": "c7d8aa0e-646b-4982-9f86-efeacef72373",
   "metadata": {
    "tags": []
   },
   "outputs": [],
   "source": [
    "# Hyperparameters\n",
    "input_size = 6  # Adjust based on your input features\n",
    "hidden_size = 32\n",
    "output_size = 1\n",
    "\n",
    "# Create the model\n",
    "model_nn = SimpleRegressionNet(input_size, hidden_size, output_size)\n",
    "\n",
    "# Loss function and optimizer\n",
    "criterion = nn.MSELoss()\n",
    "optimizer = torch.optim.Adam(model_nn.parameters(), lr=0.01)"
   ]
  },
  {
   "cell_type": "code",
   "execution_count": 235,
   "id": "65b34696-8269-422d-ad63-078c901774cf",
   "metadata": {
    "tags": []
   },
   "outputs": [],
   "source": [
    "inputs = torch.tensor(X_train.values, dtype=torch.float32)\n",
    "labels = torch.tensor(y_train.values, dtype=torch.float32)"
   ]
  },
  {
   "cell_type": "code",
   "execution_count": 237,
   "id": "008d5233-99fe-4329-9d3f-b005ad10968a",
   "metadata": {
    "tags": []
   },
   "outputs": [
    {
     "name": "stderr",
     "output_type": "stream",
     "text": [
      "C:\\AnacondaD\\Lib\\site-packages\\torch\\nn\\modules\\loss.py:535: UserWarning: Using a target size (torch.Size([19224])) that is different to the input size (torch.Size([19224, 1])). This will likely lead to incorrect results due to broadcasting. Please ensure they have the same size.\n",
      "  return F.mse_loss(input, target, reduction=self.reduction)\n"
     ]
    },
    {
     "name": "stdout",
     "output_type": "stream",
     "text": [
      "Epoch [10/200], Loss: 0.1550\n",
      "Epoch [20/200], Loss: 0.0433\n",
      "Epoch [30/200], Loss: 0.0496\n",
      "Epoch [40/200], Loss: 0.0431\n",
      "Epoch [50/200], Loss: 0.0393\n",
      "Epoch [60/200], Loss: 0.0378\n",
      "Epoch [70/200], Loss: 0.0373\n",
      "Epoch [80/200], Loss: 0.0372\n",
      "Epoch [90/200], Loss: 0.0371\n",
      "Epoch [100/200], Loss: 0.0371\n",
      "Epoch [110/200], Loss: 0.0371\n",
      "Epoch [120/200], Loss: 0.0370\n",
      "Epoch [130/200], Loss: 0.0370\n",
      "Epoch [140/200], Loss: 0.0370\n",
      "Epoch [150/200], Loss: 0.0370\n",
      "Epoch [160/200], Loss: 0.0370\n",
      "Epoch [170/200], Loss: 0.0370\n",
      "Epoch [180/200], Loss: 0.0370\n",
      "Epoch [190/200], Loss: 0.0370\n",
      "Epoch [200/200], Loss: 0.0370\n"
     ]
    }
   ],
   "source": [
    "epochs = 200\n",
    "\n",
    "# Training loop\n",
    "for epoch in range(epochs):\n",
    "    # Forward pass\n",
    "    outputs = model_nn(inputs)\n",
    "    loss = criterion(outputs, labels)\n",
    "\n",
    "    # Backward and optimize\n",
    "    optimizer.zero_grad()\n",
    "    loss.backward()\n",
    "    optimizer.step()\n",
    "\n",
    "    if (epoch+1) % 10 == 0:\n",
    "        print(f'Epoch [{epoch+1}/{epochs}], Loss: {loss.item():.4f}')"
   ]
  },
  {
   "cell_type": "code",
   "execution_count": 263,
   "id": "47a75138-18a3-4c43-9cd4-afb5a2453e3e",
   "metadata": {
    "tags": []
   },
   "outputs": [],
   "source": [
    "validation_data = torch.tensor(X_train[0:200].values, dtype=torch.float32)\n",
    "validation_labels = torch.tensor(y_train[0:200].values, dtype=torch.float32)"
   ]
  },
  {
   "cell_type": "code",
   "execution_count": 275,
   "id": "6ed2c09a-1444-4b43-a1dc-76e93de99276",
   "metadata": {
    "tags": []
   },
   "outputs": [
    {
     "name": "stdout",
     "output_type": "stream",
     "text": [
      "Validation Loss: 0.0297\n",
      "MSE: 0.0297\n",
      "RMSE: 0.1724\n",
      "MAE: 0.1441\n"
     ]
    }
   ],
   "source": [
    "import torch.nn.functional as F\n",
    "\n",
    "with torch.no_grad():\n",
    "    \n",
    "    # Calculate predictions on the validation set\n",
    "    predictions = model_nn(validation_data).squeeze(1)\n",
    "\n",
    "    # Calculate loss\n",
    "    loss = criterion(predictions, validation_labels)\n",
    "\n",
    "    # Calculate other metrics\n",
    "    mse = F.mse_loss(predictions, validation_labels)\n",
    "    rmse = torch.sqrt(mse)\n",
    "    mae = F.l1_loss(predictions, validation_labels)\n",
    "\n",
    "    print(f\"Validation Loss: {loss.item():.4f}\")\n",
    "    print(f\"MSE: {mse.item():.4f}\")\n",
    "    print(f\"RMSE: {rmse.item():.4f}\")\n",
    "    print(f\"MAE: {mae.item():.4f}\")"
   ]
  },
  {
   "cell_type": "code",
   "execution_count": null,
   "id": "c56568ac-44f1-4c9b-b38a-370c2244e1dc",
   "metadata": {},
   "outputs": [],
   "source": []
  },
  {
   "cell_type": "code",
   "execution_count": null,
   "id": "598737be-8a15-4428-83fd-cb40645c00a4",
   "metadata": {},
   "outputs": [],
   "source": []
  }
 ],
 "metadata": {
  "kernelspec": {
   "display_name": "Python 3 (ipykernel)",
   "language": "python",
   "name": "python3"
  },
  "language_info": {
   "codemirror_mode": {
    "name": "ipython",
    "version": 3
   },
   "file_extension": ".py",
   "mimetype": "text/x-python",
   "name": "python",
   "nbconvert_exporter": "python",
   "pygments_lexer": "ipython3",
   "version": "3.11.7"
  }
 },
 "nbformat": 4,
 "nbformat_minor": 5
}
