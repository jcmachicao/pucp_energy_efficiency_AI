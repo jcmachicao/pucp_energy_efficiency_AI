{
  "cells": [
    {
      "cell_type": "markdown",
      "metadata": {
        "id": "view-in-github",
        "colab_type": "text"
      },
      "source": [
        "<a href=\"https://colab.research.google.com/github/jcmachicao/pucp_energy_efficiency_AI/blob/main/hvac_data_proc_(1).ipynb\" target=\"_parent\"><img src=\"https://colab.research.google.com/assets/colab-badge.svg\" alt=\"Open In Colab\"/></a>"
      ]
    },
    {
      "cell_type": "code",
      "execution_count": 2,
      "id": "8d821005-bcb4-4dfc-9fee-878533899b62",
      "metadata": {
        "tags": [],
        "id": "8d821005-bcb4-4dfc-9fee-878533899b62"
      },
      "outputs": [],
      "source": [
        "import pandas as pd\n",
        "import matplotlib.pyplot as plt\n",
        "import seaborn as sns"
      ]
    },
    {
      "cell_type": "code",
      "execution_count": 3,
      "id": "31cb3300-567b-4a83-9c17-fdf6212e2833",
      "metadata": {
        "tags": [],
        "colab": {
          "base_uri": "https://localhost:8080/"
        },
        "id": "31cb3300-567b-4a83-9c17-fdf6212e2833",
        "outputId": "90a11b22-6e03-4dd0-9589-99db8233f24a"
      },
      "outputs": [
        {
          "output_type": "stream",
          "name": "stdout",
          "text": [
            "<class 'pandas.core.frame.DataFrame'>\n",
            "RangeIndex: 25632 entries, 0 to 25631\n",
            "Data columns (total 20 columns):\n",
            " #   Column                Non-Null Count  Dtype  \n",
            "---  ------                --------------  -----  \n",
            " 0   Date                  25632 non-null  object \n",
            " 1   on_off                25632 non-null  float64\n",
            " 2   damper                25632 non-null  float64\n",
            " 3   active_energy         25630 non-null  float64\n",
            " 4   co2_1                 25632 non-null  float64\n",
            " 5   amb_humid_1           25632 non-null  float64\n",
            " 6   active_power          25632 non-null  float64\n",
            " 7   pot_gen               25630 non-null  float64\n",
            " 8   high_pressure_1       25632 non-null  float64\n",
            " 9   high_pressure_2       25632 non-null  float64\n",
            " 10  low_pressure_1        25632 non-null  float64\n",
            " 11  low_pressure_2        25632 non-null  float64\n",
            " 12  high_pressure_3       25632 non-null  float64\n",
            " 13  low_pressure_3        25632 non-null  float64\n",
            " 14  outside_temp          25632 non-null  float64\n",
            " 15  outlet_temp           25632 non-null  float64\n",
            " 16  inlet_temp            25632 non-null  float64\n",
            " 17  summer_setpoint_temp  25632 non-null  float64\n",
            " 18  winter_setpoint_temp  25632 non-null  float64\n",
            " 19  amb_temp_2            25632 non-null  float64\n",
            "dtypes: float64(19), object(1)\n",
            "memory usage: 3.9+ MB\n"
          ]
        },
        {
          "output_type": "stream",
          "name": "stderr",
          "text": [
            "<ipython-input-3-43700fd8be74>:2: FutureWarning: DataFrame.fillna with 'method' is deprecated and will raise in a future version. Use obj.ffill() or obj.bfill() instead.\n",
            "  data.fillna(method=\"bfill\", inplace=True)\n"
          ]
        }
      ],
      "source": [
        "data = pd.read_csv('HVAC_dataset.csv')\n",
        "data.fillna(method=\"bfill\", inplace=True)\n",
        "data.info()"
      ]
    },
    {
      "cell_type": "code",
      "execution_count": 4,
      "id": "d34f00a3-b3e0-42b7-a560-fca83ce249ac",
      "metadata": {
        "tags": [],
        "id": "d34f00a3-b3e0-42b7-a560-fca83ce249ac",
        "outputId": "10f8c1dd-1e29-44c5-cfa6-825abfe7a680",
        "colab": {
          "base_uri": "https://localhost:8080/"
        }
      },
      "outputs": [
        {
          "output_type": "execute_result",
          "data": {
            "text/plain": [
              "0"
            ]
          },
          "metadata": {},
          "execution_count": 4
        }
      ],
      "source": [
        "data.Date.isna().sum()"
      ]
    },
    {
      "cell_type": "code",
      "execution_count": 5,
      "id": "27545eba-d98f-4561-9d64-a833869bf7fa",
      "metadata": {
        "tags": [],
        "id": "27545eba-d98f-4561-9d64-a833869bf7fa",
        "outputId": "e022420f-ad47-4962-afcf-34f3e1f84d01",
        "colab": {
          "base_uri": "https://localhost:8080/"
        }
      },
      "outputs": [
        {
          "output_type": "stream",
          "name": "stderr",
          "text": [
            "<ipython-input-5-cf9c410c4bfa>:1: UserWarning: The argument 'infer_datetime_format' is deprecated and will be removed in a future version. A strict version of it is now the default, see https://pandas.pydata.org/pdeps/0004-consistent-to-datetime-parsing.html. You can safely remove this argument.\n",
            "  data['Date'] = pd.to_datetime(data['Date'], errors='coerce', infer_datetime_format=True)\n",
            "<ipython-input-5-cf9c410c4bfa>:1: UserWarning: Could not infer format, so each element will be parsed individually, falling back to `dateutil`. To ensure parsing is consistent and as-expected, please specify a format.\n",
            "  data['Date'] = pd.to_datetime(data['Date'], errors='coerce', infer_datetime_format=True)\n"
          ]
        }
      ],
      "source": [
        "data['Date'] = pd.to_datetime(data['Date'], errors='coerce', infer_datetime_format=True)\n",
        "data.set_index('Date', inplace=True)"
      ]
    },
    {
      "cell_type": "code",
      "execution_count": 6,
      "id": "0f8c92b0-2001-484d-b017-4e707bc19d90",
      "metadata": {
        "tags": [],
        "id": "0f8c92b0-2001-484d-b017-4e707bc19d90",
        "outputId": "0ceeb94f-e50b-415a-ed10-fc1a1582786f",
        "colab": {
          "base_uri": "https://localhost:8080/"
        }
      },
      "outputs": [
        {
          "output_type": "execute_result",
          "data": {
            "text/plain": [
              "DatetimeIndex(['2022-01-06 00:00:00', '2022-01-06 00:05:00',\n",
              "               '2022-01-06 00:10:00', '2022-01-06 00:15:00',\n",
              "               '2022-01-06 00:20:00', '2022-01-06 00:25:00',\n",
              "               '2022-01-06 00:30:00', '2022-01-06 00:35:00',\n",
              "               '2022-01-06 00:40:00', '2022-01-06 00:45:00',\n",
              "               ...\n",
              "               '2022-08-30 23:10:00', '2022-08-30 23:15:00',\n",
              "               '2022-08-30 23:20:00', '2022-08-30 23:25:00',\n",
              "               '2022-08-30 23:30:00', '2022-08-30 23:35:00',\n",
              "               '2022-08-30 23:40:00', '2022-08-30 23:45:00',\n",
              "               '2022-08-30 23:50:00', '2022-08-30 23:55:00'],\n",
              "              dtype='datetime64[ns]', name='Date', length=25632, freq=None)"
            ]
          },
          "metadata": {},
          "execution_count": 6
        }
      ],
      "source": [
        "data.index"
      ]
    },
    {
      "cell_type": "code",
      "execution_count": 7,
      "id": "90a54115-e2c9-4179-8d40-b2e98935f9dc",
      "metadata": {
        "tags": [],
        "id": "90a54115-e2c9-4179-8d40-b2e98935f9dc",
        "outputId": "9b732896-193a-4378-8c50-4fd14278c667",
        "colab": {
          "base_uri": "https://localhost:8080/"
        }
      },
      "outputs": [
        {
          "output_type": "stream",
          "name": "stdout",
          "text": [
            "on_off [0. 1.]\n",
            "amb_humid_1 [35. 36. 37. 38. 39. 40. 41. 42. 43. 44. 45. 46. 47. 48. 49. 34. 33. 32.\n",
            " 50. 51.  0. 31. 30. 29. 52. 53. 28. 27. 26. 25. 24. 54. 55. 56. 57. 58.\n",
            " 59. 60. 61. 62.]\n",
            "summer_setpoint_temp [22.5 22.  22.1 22.9 22.2 22.8 23.  22.3 22.6 22.7 25.  23.5 24.  24.5\n",
            " 24.1 23.6 24.8 24.2]\n",
            "winter_setpoint_temp [18.  22.  19.5 18.5 20.  20.5]\n"
          ]
        }
      ],
      "source": [
        "for c in data.columns:\n",
        "    cats = data[c].unique()\n",
        "    if len(cats) < 50:\n",
        "        print(c, cats)"
      ]
    },
    {
      "cell_type": "code",
      "execution_count": 9,
      "id": "271f355a-ac07-46fb-a26a-f900a84c132c",
      "metadata": {
        "tags": [],
        "id": "271f355a-ac07-46fb-a26a-f900a84c132c",
        "outputId": "2142bc2c-951f-417e-dc17-29d1d4cca37a",
        "colab": {
          "base_uri": "https://localhost:8080/",
          "height": 233
        }
      },
      "outputs": [
        {
          "output_type": "execute_result",
          "data": {
            "text/plain": [
              "                     on_off  damper  active_energy  co2_1  amb_humid_1  \\\n",
              "Date                                                                     \n",
              "2022-01-06 00:00:00     0.0     0.0      363150.69  975.0         35.0   \n",
              "2022-01-06 00:05:00     0.0     0.0      363150.78  977.0         35.0   \n",
              "\n",
              "                     active_power  pot_gen  high_pressure_1  high_pressure_2  \\\n",
              "Date                                                                           \n",
              "2022-01-06 00:00:00          0.36      4.0            15.09             15.0   \n",
              "2022-01-06 00:05:00          0.36      4.0            15.03             14.9   \n",
              "\n",
              "                     low_pressure_1  low_pressure_2  high_pressure_3  \\\n",
              "Date                                                                   \n",
              "2022-01-06 00:00:00           15.27            15.1             15.2   \n",
              "2022-01-06 00:05:00           15.21            15.0             15.2   \n",
              "\n",
              "                     low_pressure_3  outside_temp  outlet_temp  inlet_temp  \\\n",
              "Date                                                                         \n",
              "2022-01-06 00:00:00            15.2          23.4         24.2        22.8   \n",
              "2022-01-06 00:05:00            15.1          23.3         24.2        22.7   \n",
              "\n",
              "                     summer_setpoint_temp  winter_setpoint_temp  amb_temp_2  \n",
              "Date                                                                         \n",
              "2022-01-06 00:00:00                  22.5                  18.0        23.4  \n",
              "2022-01-06 00:05:00                  22.5                  18.0        23.3  "
            ],
            "text/html": [
              "\n",
              "  <div id=\"df-742916a1-f9f5-4716-8fd8-4ffff2229c6b\" class=\"colab-df-container\">\n",
              "    <div>\n",
              "<style scoped>\n",
              "    .dataframe tbody tr th:only-of-type {\n",
              "        vertical-align: middle;\n",
              "    }\n",
              "\n",
              "    .dataframe tbody tr th {\n",
              "        vertical-align: top;\n",
              "    }\n",
              "\n",
              "    .dataframe thead th {\n",
              "        text-align: right;\n",
              "    }\n",
              "</style>\n",
              "<table border=\"1\" class=\"dataframe\">\n",
              "  <thead>\n",
              "    <tr style=\"text-align: right;\">\n",
              "      <th></th>\n",
              "      <th>on_off</th>\n",
              "      <th>damper</th>\n",
              "      <th>active_energy</th>\n",
              "      <th>co2_1</th>\n",
              "      <th>amb_humid_1</th>\n",
              "      <th>active_power</th>\n",
              "      <th>pot_gen</th>\n",
              "      <th>high_pressure_1</th>\n",
              "      <th>high_pressure_2</th>\n",
              "      <th>low_pressure_1</th>\n",
              "      <th>low_pressure_2</th>\n",
              "      <th>high_pressure_3</th>\n",
              "      <th>low_pressure_3</th>\n",
              "      <th>outside_temp</th>\n",
              "      <th>outlet_temp</th>\n",
              "      <th>inlet_temp</th>\n",
              "      <th>summer_setpoint_temp</th>\n",
              "      <th>winter_setpoint_temp</th>\n",
              "      <th>amb_temp_2</th>\n",
              "    </tr>\n",
              "    <tr>\n",
              "      <th>Date</th>\n",
              "      <th></th>\n",
              "      <th></th>\n",
              "      <th></th>\n",
              "      <th></th>\n",
              "      <th></th>\n",
              "      <th></th>\n",
              "      <th></th>\n",
              "      <th></th>\n",
              "      <th></th>\n",
              "      <th></th>\n",
              "      <th></th>\n",
              "      <th></th>\n",
              "      <th></th>\n",
              "      <th></th>\n",
              "      <th></th>\n",
              "      <th></th>\n",
              "      <th></th>\n",
              "      <th></th>\n",
              "      <th></th>\n",
              "    </tr>\n",
              "  </thead>\n",
              "  <tbody>\n",
              "    <tr>\n",
              "      <th>2022-01-06 00:00:00</th>\n",
              "      <td>0.0</td>\n",
              "      <td>0.0</td>\n",
              "      <td>363150.69</td>\n",
              "      <td>975.0</td>\n",
              "      <td>35.0</td>\n",
              "      <td>0.36</td>\n",
              "      <td>4.0</td>\n",
              "      <td>15.09</td>\n",
              "      <td>15.0</td>\n",
              "      <td>15.27</td>\n",
              "      <td>15.1</td>\n",
              "      <td>15.2</td>\n",
              "      <td>15.2</td>\n",
              "      <td>23.4</td>\n",
              "      <td>24.2</td>\n",
              "      <td>22.8</td>\n",
              "      <td>22.5</td>\n",
              "      <td>18.0</td>\n",
              "      <td>23.4</td>\n",
              "    </tr>\n",
              "    <tr>\n",
              "      <th>2022-01-06 00:05:00</th>\n",
              "      <td>0.0</td>\n",
              "      <td>0.0</td>\n",
              "      <td>363150.78</td>\n",
              "      <td>977.0</td>\n",
              "      <td>35.0</td>\n",
              "      <td>0.36</td>\n",
              "      <td>4.0</td>\n",
              "      <td>15.03</td>\n",
              "      <td>14.9</td>\n",
              "      <td>15.21</td>\n",
              "      <td>15.0</td>\n",
              "      <td>15.2</td>\n",
              "      <td>15.1</td>\n",
              "      <td>23.3</td>\n",
              "      <td>24.2</td>\n",
              "      <td>22.7</td>\n",
              "      <td>22.5</td>\n",
              "      <td>18.0</td>\n",
              "      <td>23.3</td>\n",
              "    </tr>\n",
              "  </tbody>\n",
              "</table>\n",
              "</div>\n",
              "    <div class=\"colab-df-buttons\">\n",
              "\n",
              "  <div class=\"colab-df-container\">\n",
              "    <button class=\"colab-df-convert\" onclick=\"convertToInteractive('df-742916a1-f9f5-4716-8fd8-4ffff2229c6b')\"\n",
              "            title=\"Convert this dataframe to an interactive table.\"\n",
              "            style=\"display:none;\">\n",
              "\n",
              "  <svg xmlns=\"http://www.w3.org/2000/svg\" height=\"24px\" viewBox=\"0 -960 960 960\">\n",
              "    <path d=\"M120-120v-720h720v720H120Zm60-500h600v-160H180v160Zm220 220h160v-160H400v160Zm0 220h160v-160H400v160ZM180-400h160v-160H180v160Zm440 0h160v-160H620v160ZM180-180h160v-160H180v160Zm440 0h160v-160H620v160Z\"/>\n",
              "  </svg>\n",
              "    </button>\n",
              "\n",
              "  <style>\n",
              "    .colab-df-container {\n",
              "      display:flex;\n",
              "      gap: 12px;\n",
              "    }\n",
              "\n",
              "    .colab-df-convert {\n",
              "      background-color: #E8F0FE;\n",
              "      border: none;\n",
              "      border-radius: 50%;\n",
              "      cursor: pointer;\n",
              "      display: none;\n",
              "      fill: #1967D2;\n",
              "      height: 32px;\n",
              "      padding: 0 0 0 0;\n",
              "      width: 32px;\n",
              "    }\n",
              "\n",
              "    .colab-df-convert:hover {\n",
              "      background-color: #E2EBFA;\n",
              "      box-shadow: 0px 1px 2px rgba(60, 64, 67, 0.3), 0px 1px 3px 1px rgba(60, 64, 67, 0.15);\n",
              "      fill: #174EA6;\n",
              "    }\n",
              "\n",
              "    .colab-df-buttons div {\n",
              "      margin-bottom: 4px;\n",
              "    }\n",
              "\n",
              "    [theme=dark] .colab-df-convert {\n",
              "      background-color: #3B4455;\n",
              "      fill: #D2E3FC;\n",
              "    }\n",
              "\n",
              "    [theme=dark] .colab-df-convert:hover {\n",
              "      background-color: #434B5C;\n",
              "      box-shadow: 0px 1px 3px 1px rgba(0, 0, 0, 0.15);\n",
              "      filter: drop-shadow(0px 1px 2px rgba(0, 0, 0, 0.3));\n",
              "      fill: #FFFFFF;\n",
              "    }\n",
              "  </style>\n",
              "\n",
              "    <script>\n",
              "      const buttonEl =\n",
              "        document.querySelector('#df-742916a1-f9f5-4716-8fd8-4ffff2229c6b button.colab-df-convert');\n",
              "      buttonEl.style.display =\n",
              "        google.colab.kernel.accessAllowed ? 'block' : 'none';\n",
              "\n",
              "      async function convertToInteractive(key) {\n",
              "        const element = document.querySelector('#df-742916a1-f9f5-4716-8fd8-4ffff2229c6b');\n",
              "        const dataTable =\n",
              "          await google.colab.kernel.invokeFunction('convertToInteractive',\n",
              "                                                    [key], {});\n",
              "        if (!dataTable) return;\n",
              "\n",
              "        const docLinkHtml = 'Like what you see? Visit the ' +\n",
              "          '<a target=\"_blank\" href=https://colab.research.google.com/notebooks/data_table.ipynb>data table notebook</a>'\n",
              "          + ' to learn more about interactive tables.';\n",
              "        element.innerHTML = '';\n",
              "        dataTable['output_type'] = 'display_data';\n",
              "        await google.colab.output.renderOutput(dataTable, element);\n",
              "        const docLink = document.createElement('div');\n",
              "        docLink.innerHTML = docLinkHtml;\n",
              "        element.appendChild(docLink);\n",
              "      }\n",
              "    </script>\n",
              "  </div>\n",
              "\n",
              "\n",
              "<div id=\"df-5bff100e-3eaa-4739-a556-3f5b625dd131\">\n",
              "  <button class=\"colab-df-quickchart\" onclick=\"quickchart('df-5bff100e-3eaa-4739-a556-3f5b625dd131')\"\n",
              "            title=\"Suggest charts\"\n",
              "            style=\"display:none;\">\n",
              "\n",
              "<svg xmlns=\"http://www.w3.org/2000/svg\" height=\"24px\"viewBox=\"0 0 24 24\"\n",
              "     width=\"24px\">\n",
              "    <g>\n",
              "        <path d=\"M19 3H5c-1.1 0-2 .9-2 2v14c0 1.1.9 2 2 2h14c1.1 0 2-.9 2-2V5c0-1.1-.9-2-2-2zM9 17H7v-7h2v7zm4 0h-2V7h2v10zm4 0h-2v-4h2v4z\"/>\n",
              "    </g>\n",
              "</svg>\n",
              "  </button>\n",
              "\n",
              "<style>\n",
              "  .colab-df-quickchart {\n",
              "      --bg-color: #E8F0FE;\n",
              "      --fill-color: #1967D2;\n",
              "      --hover-bg-color: #E2EBFA;\n",
              "      --hover-fill-color: #174EA6;\n",
              "      --disabled-fill-color: #AAA;\n",
              "      --disabled-bg-color: #DDD;\n",
              "  }\n",
              "\n",
              "  [theme=dark] .colab-df-quickchart {\n",
              "      --bg-color: #3B4455;\n",
              "      --fill-color: #D2E3FC;\n",
              "      --hover-bg-color: #434B5C;\n",
              "      --hover-fill-color: #FFFFFF;\n",
              "      --disabled-bg-color: #3B4455;\n",
              "      --disabled-fill-color: #666;\n",
              "  }\n",
              "\n",
              "  .colab-df-quickchart {\n",
              "    background-color: var(--bg-color);\n",
              "    border: none;\n",
              "    border-radius: 50%;\n",
              "    cursor: pointer;\n",
              "    display: none;\n",
              "    fill: var(--fill-color);\n",
              "    height: 32px;\n",
              "    padding: 0;\n",
              "    width: 32px;\n",
              "  }\n",
              "\n",
              "  .colab-df-quickchart:hover {\n",
              "    background-color: var(--hover-bg-color);\n",
              "    box-shadow: 0 1px 2px rgba(60, 64, 67, 0.3), 0 1px 3px 1px rgba(60, 64, 67, 0.15);\n",
              "    fill: var(--button-hover-fill-color);\n",
              "  }\n",
              "\n",
              "  .colab-df-quickchart-complete:disabled,\n",
              "  .colab-df-quickchart-complete:disabled:hover {\n",
              "    background-color: var(--disabled-bg-color);\n",
              "    fill: var(--disabled-fill-color);\n",
              "    box-shadow: none;\n",
              "  }\n",
              "\n",
              "  .colab-df-spinner {\n",
              "    border: 2px solid var(--fill-color);\n",
              "    border-color: transparent;\n",
              "    border-bottom-color: var(--fill-color);\n",
              "    animation:\n",
              "      spin 1s steps(1) infinite;\n",
              "  }\n",
              "\n",
              "  @keyframes spin {\n",
              "    0% {\n",
              "      border-color: transparent;\n",
              "      border-bottom-color: var(--fill-color);\n",
              "      border-left-color: var(--fill-color);\n",
              "    }\n",
              "    20% {\n",
              "      border-color: transparent;\n",
              "      border-left-color: var(--fill-color);\n",
              "      border-top-color: var(--fill-color);\n",
              "    }\n",
              "    30% {\n",
              "      border-color: transparent;\n",
              "      border-left-color: var(--fill-color);\n",
              "      border-top-color: var(--fill-color);\n",
              "      border-right-color: var(--fill-color);\n",
              "    }\n",
              "    40% {\n",
              "      border-color: transparent;\n",
              "      border-right-color: var(--fill-color);\n",
              "      border-top-color: var(--fill-color);\n",
              "    }\n",
              "    60% {\n",
              "      border-color: transparent;\n",
              "      border-right-color: var(--fill-color);\n",
              "    }\n",
              "    80% {\n",
              "      border-color: transparent;\n",
              "      border-right-color: var(--fill-color);\n",
              "      border-bottom-color: var(--fill-color);\n",
              "    }\n",
              "    90% {\n",
              "      border-color: transparent;\n",
              "      border-bottom-color: var(--fill-color);\n",
              "    }\n",
              "  }\n",
              "</style>\n",
              "\n",
              "  <script>\n",
              "    async function quickchart(key) {\n",
              "      const quickchartButtonEl =\n",
              "        document.querySelector('#' + key + ' button');\n",
              "      quickchartButtonEl.disabled = true;  // To prevent multiple clicks.\n",
              "      quickchartButtonEl.classList.add('colab-df-spinner');\n",
              "      try {\n",
              "        const charts = await google.colab.kernel.invokeFunction(\n",
              "            'suggestCharts', [key], {});\n",
              "      } catch (error) {\n",
              "        console.error('Error during call to suggestCharts:', error);\n",
              "      }\n",
              "      quickchartButtonEl.classList.remove('colab-df-spinner');\n",
              "      quickchartButtonEl.classList.add('colab-df-quickchart-complete');\n",
              "    }\n",
              "    (() => {\n",
              "      let quickchartButtonEl =\n",
              "        document.querySelector('#df-5bff100e-3eaa-4739-a556-3f5b625dd131 button');\n",
              "      quickchartButtonEl.style.display =\n",
              "        google.colab.kernel.accessAllowed ? 'block' : 'none';\n",
              "    })();\n",
              "  </script>\n",
              "</div>\n",
              "\n",
              "    </div>\n",
              "  </div>\n"
            ],
            "application/vnd.google.colaboratory.intrinsic+json": {
              "type": "dataframe",
              "variable_name": "data",
              "summary": "{\n  \"name\": \"data\",\n  \"rows\": 25632,\n  \"fields\": [\n    {\n      \"column\": \"Date\",\n      \"properties\": {\n        \"dtype\": \"date\",\n        \"min\": \"2022-01-06 00:00:00\",\n        \"max\": \"2022-12-08 23:55:00\",\n        \"num_unique_values\": 25632,\n        \"samples\": [\n          \"2022-08-15 03:00:00\",\n          \"2022-07-28 04:05:00\",\n          \"2022-06-18 06:50:00\"\n        ],\n        \"semantic_type\": \"\",\n        \"description\": \"\"\n      }\n    },\n    {\n      \"column\": \"on_off\",\n      \"properties\": {\n        \"dtype\": \"number\",\n        \"std\": 0.494931066686365,\n        \"min\": 0.0,\n        \"max\": 1.0,\n        \"num_unique_values\": 2,\n        \"samples\": [\n          1.0,\n          0.0\n        ],\n        \"semantic_type\": \"\",\n        \"description\": \"\"\n      }\n    },\n    {\n      \"column\": \"damper\",\n      \"properties\": {\n        \"dtype\": \"number\",\n        \"std\": 16.80074958378077,\n        \"min\": 0.0,\n        \"max\": 100.0,\n        \"num_unique_values\": 76,\n        \"samples\": [\n          7.0,\n          1.0\n        ],\n        \"semantic_type\": \"\",\n        \"description\": \"\"\n      }\n    },\n    {\n      \"column\": \"active_energy\",\n      \"properties\": {\n        \"dtype\": \"number\",\n        \"std\": 9252.178403347683,\n        \"min\": 363150.69,\n        \"max\": 392924.91,\n        \"num_unique_values\": 8518,\n        \"samples\": [\n          390141.88,\n          382610.47\n        ],\n        \"semantic_type\": \"\",\n        \"description\": \"\"\n      }\n    },\n    {\n      \"column\": \"co2_1\",\n      \"properties\": {\n        \"dtype\": \"number\",\n        \"std\": 101.51126376712212,\n        \"min\": 955.0,\n        \"max\": 1482.0,\n        \"num_unique_values\": 205,\n        \"samples\": [\n          1060.0,\n          1012.0\n        ],\n        \"semantic_type\": \"\",\n        \"description\": \"\"\n      }\n    },\n    {\n      \"column\": \"amb_humid_1\",\n      \"properties\": {\n        \"dtype\": \"number\",\n        \"std\": 6.45294134259925,\n        \"min\": 0.0,\n        \"max\": 62.0,\n        \"num_unique_values\": 40,\n        \"samples\": [\n          51.0,\n          33.0\n        ],\n        \"semantic_type\": \"\",\n        \"description\": \"\"\n      }\n    },\n    {\n      \"column\": \"active_power\",\n      \"properties\": {\n        \"dtype\": \"number\",\n        \"std\": 17.647667550883853,\n        \"min\": 0.32,\n        \"max\": 57.72,\n        \"num_unique_values\": 822,\n        \"samples\": [\n          48.68,\n          30.0\n        ],\n        \"semantic_type\": \"\",\n        \"description\": \"\"\n      }\n    },\n    {\n      \"column\": \"pot_gen\",\n      \"properties\": {\n        \"dtype\": \"number\",\n        \"std\": 23.822586095976625,\n        \"min\": 0.0,\n        \"max\": 77.0,\n        \"num_unique_values\": 73,\n        \"samples\": [\n          36.0,\n          51.0\n        ],\n        \"semantic_type\": \"\",\n        \"description\": \"\"\n      }\n    },\n    {\n      \"column\": \"high_pressure_1\",\n      \"properties\": {\n        \"dtype\": \"number\",\n        \"std\": 5.730408433682985,\n        \"min\": 10.22,\n        \"max\": 34.3,\n        \"num_unique_values\": 369,\n        \"samples\": [\n          26.36,\n          12.99\n        ],\n        \"semantic_type\": \"\",\n        \"description\": \"\"\n      }\n    },\n    {\n      \"column\": \"high_pressure_2\",\n      \"properties\": {\n        \"dtype\": \"number\",\n        \"std\": 5.519024662291399,\n        \"min\": 11.0,\n        \"max\": 33.5,\n        \"num_unique_values\": 225,\n        \"samples\": [\n          14.1,\n          30.5\n        ],\n        \"semantic_type\": \"\",\n        \"description\": \"\"\n      }\n    },\n    {\n      \"column\": \"low_pressure_1\",\n      \"properties\": {\n        \"dtype\": \"number\",\n        \"std\": 3.784720369509043,\n        \"min\": 7.08,\n        \"max\": 24.82,\n        \"num_unique_values\": 289,\n        \"samples\": [\n          8.62,\n          18.04\n        ],\n        \"semantic_type\": \"\",\n        \"description\": \"\"\n      }\n    },\n    {\n      \"column\": \"low_pressure_2\",\n      \"properties\": {\n        \"dtype\": \"number\",\n        \"std\": 3.499980624455206,\n        \"min\": 7.2,\n        \"max\": 24.3,\n        \"num_unique_values\": 171,\n        \"samples\": [\n          19.4,\n          11.9\n        ],\n        \"semantic_type\": \"\",\n        \"description\": \"\"\n      }\n    },\n    {\n      \"column\": \"high_pressure_3\",\n      \"properties\": {\n        \"dtype\": \"number\",\n        \"std\": 2.144189444869885,\n        \"min\": 11.2,\n        \"max\": 25.5,\n        \"num_unique_values\": 144,\n        \"samples\": [\n          23.4,\n          13.3\n        ],\n        \"semantic_type\": \"\",\n        \"description\": \"\"\n      }\n    },\n    {\n      \"column\": \"low_pressure_3\",\n      \"properties\": {\n        \"dtype\": \"number\",\n        \"std\": 2.1340364495944217,\n        \"min\": 11.1,\n        \"max\": 25.5,\n        \"num_unique_values\": 145,\n        \"samples\": [\n          18.1,\n          25.1\n        ],\n        \"semantic_type\": \"\",\n        \"description\": \"\"\n      }\n    },\n    {\n      \"column\": \"outside_temp\",\n      \"properties\": {\n        \"dtype\": \"number\",\n        \"std\": 6.87706646807961,\n        \"min\": 13.3,\n        \"max\": 49.5,\n        \"num_unique_values\": 355,\n        \"samples\": [\n          14.7,\n          17.7\n        ],\n        \"semantic_type\": \"\",\n        \"description\": \"\"\n      }\n    },\n    {\n      \"column\": \"outlet_temp\",\n      \"properties\": {\n        \"dtype\": \"number\",\n        \"std\": 7.412447062623074,\n        \"min\": 7.0,\n        \"max\": 50.0,\n        \"num_unique_values\": 418,\n        \"samples\": [\n          48.8,\n          48.2\n        ],\n        \"semantic_type\": \"\",\n        \"description\": \"\"\n      }\n    },\n    {\n      \"column\": \"inlet_temp\",\n      \"properties\": {\n        \"dtype\": \"number\",\n        \"std\": 6.147676985164422,\n        \"min\": 14.2,\n        \"max\": 54.3,\n        \"num_unique_values\": 401,\n        \"samples\": [\n          31.0,\n          26.7\n        ],\n        \"semantic_type\": \"\",\n        \"description\": \"\"\n      }\n    },\n    {\n      \"column\": \"summer_setpoint_temp\",\n      \"properties\": {\n        \"dtype\": \"number\",\n        \"std\": 0.9455315220231509,\n        \"min\": 22.0,\n        \"max\": 25.0,\n        \"num_unique_values\": 18,\n        \"samples\": [\n          22.5,\n          22.0\n        ],\n        \"semantic_type\": \"\",\n        \"description\": \"\"\n      }\n    },\n    {\n      \"column\": \"winter_setpoint_temp\",\n      \"properties\": {\n        \"dtype\": \"number\",\n        \"std\": 1.2034053969875278,\n        \"min\": 18.0,\n        \"max\": 22.0,\n        \"num_unique_values\": 6,\n        \"samples\": [\n          18.0,\n          22.0\n        ],\n        \"semantic_type\": \"\",\n        \"description\": \"\"\n      }\n    },\n    {\n      \"column\": \"amb_temp_2\",\n      \"properties\": {\n        \"dtype\": \"number\",\n        \"std\": 1.2839110256530355,\n        \"min\": 0.0,\n        \"max\": 27.1,\n        \"num_unique_values\": 52,\n        \"samples\": [\n          24.0,\n          26.0\n        ],\n        \"semantic_type\": \"\",\n        \"description\": \"\"\n      }\n    }\n  ]\n}"
            }
          },
          "metadata": {},
          "execution_count": 9
        }
      ],
      "source": [
        "data.head(2)"
      ]
    },
    {
      "cell_type": "code",
      "source": [
        "data.outside_temp"
      ],
      "metadata": {
        "colab": {
          "base_uri": "https://localhost:8080/",
          "height": 490
        },
        "id": "qwjIV64EBL6g",
        "outputId": "eb36acd8-fa8a-4b5a-c164-3f558f18a2a2"
      },
      "id": "qwjIV64EBL6g",
      "execution_count": 55,
      "outputs": [
        {
          "output_type": "execute_result",
          "data": {
            "text/plain": [
              "Date\n",
              "2022-01-06 00:00:00    23.4\n",
              "2022-01-06 00:05:00    23.3\n",
              "2022-01-06 00:10:00    23.1\n",
              "2022-01-06 00:15:00    23.1\n",
              "2022-01-06 00:20:00    22.9\n",
              "                       ... \n",
              "2022-08-30 23:35:00    27.0\n",
              "2022-08-30 23:40:00    27.2\n",
              "2022-08-30 23:45:00    27.1\n",
              "2022-08-30 23:50:00    27.0\n",
              "2022-08-30 23:55:00    27.0\n",
              "Name: outside_temp, Length: 25632, dtype: float64"
            ],
            "text/html": [
              "<div>\n",
              "<style scoped>\n",
              "    .dataframe tbody tr th:only-of-type {\n",
              "        vertical-align: middle;\n",
              "    }\n",
              "\n",
              "    .dataframe tbody tr th {\n",
              "        vertical-align: top;\n",
              "    }\n",
              "\n",
              "    .dataframe thead th {\n",
              "        text-align: right;\n",
              "    }\n",
              "</style>\n",
              "<table border=\"1\" class=\"dataframe\">\n",
              "  <thead>\n",
              "    <tr style=\"text-align: right;\">\n",
              "      <th></th>\n",
              "      <th>outside_temp</th>\n",
              "    </tr>\n",
              "    <tr>\n",
              "      <th>Date</th>\n",
              "      <th></th>\n",
              "    </tr>\n",
              "  </thead>\n",
              "  <tbody>\n",
              "    <tr>\n",
              "      <th>2022-01-06 00:00:00</th>\n",
              "      <td>23.4</td>\n",
              "    </tr>\n",
              "    <tr>\n",
              "      <th>2022-01-06 00:05:00</th>\n",
              "      <td>23.3</td>\n",
              "    </tr>\n",
              "    <tr>\n",
              "      <th>2022-01-06 00:10:00</th>\n",
              "      <td>23.1</td>\n",
              "    </tr>\n",
              "    <tr>\n",
              "      <th>2022-01-06 00:15:00</th>\n",
              "      <td>23.1</td>\n",
              "    </tr>\n",
              "    <tr>\n",
              "      <th>2022-01-06 00:20:00</th>\n",
              "      <td>22.9</td>\n",
              "    </tr>\n",
              "    <tr>\n",
              "      <th>...</th>\n",
              "      <td>...</td>\n",
              "    </tr>\n",
              "    <tr>\n",
              "      <th>2022-08-30 23:35:00</th>\n",
              "      <td>27.0</td>\n",
              "    </tr>\n",
              "    <tr>\n",
              "      <th>2022-08-30 23:40:00</th>\n",
              "      <td>27.2</td>\n",
              "    </tr>\n",
              "    <tr>\n",
              "      <th>2022-08-30 23:45:00</th>\n",
              "      <td>27.1</td>\n",
              "    </tr>\n",
              "    <tr>\n",
              "      <th>2022-08-30 23:50:00</th>\n",
              "      <td>27.0</td>\n",
              "    </tr>\n",
              "    <tr>\n",
              "      <th>2022-08-30 23:55:00</th>\n",
              "      <td>27.0</td>\n",
              "    </tr>\n",
              "  </tbody>\n",
              "</table>\n",
              "<p>25632 rows × 1 columns</p>\n",
              "</div><br><label><b>dtype:</b> float64</label>"
            ]
          },
          "metadata": {},
          "execution_count": 55
        }
      ]
    },
    {
      "cell_type": "code",
      "execution_count": 10,
      "id": "531d7c53-af73-4973-aed7-f7b9d967a38b",
      "metadata": {
        "tags": [],
        "id": "531d7c53-af73-4973-aed7-f7b9d967a38b",
        "outputId": "71c176a6-4320-4b88-87dc-1b6cb77e5a29",
        "colab": {
          "base_uri": "https://localhost:8080/",
          "height": 452
        }
      },
      "outputs": [
        {
          "output_type": "execute_result",
          "data": {
            "text/plain": [
              "<Axes: xlabel='Date'>"
            ]
          },
          "metadata": {},
          "execution_count": 10
        },
        {
          "output_type": "display_data",
          "data": {
            "text/plain": [
              "<Figure size 640x480 with 1 Axes>"
            ],
            "image/png": "[encoded data removed]"
          },
          "metadata": {}
        }
      ],
      "source": [
        "data.pot_gen.plot()"
      ]
    },
    {
      "cell_type": "code",
      "execution_count": 11,
      "id": "bad3984e-c88b-49ee-9b09-2edb65d46157",
      "metadata": {
        "tags": [],
        "id": "bad3984e-c88b-49ee-9b09-2edb65d46157"
      },
      "outputs": [],
      "source": [
        "import pandas as pd\n",
        "from sklearn.preprocessing import MinMaxScaler, StandardScaler"
      ]
    },
    {
      "cell_type": "code",
      "execution_count": 12,
      "id": "66bb2911-9c4a-4c25-8348-fc79c69450bc",
      "metadata": {
        "tags": [],
        "id": "66bb2911-9c4a-4c25-8348-fc79c69450bc"
      },
      "outputs": [],
      "source": [
        "scaler = MinMaxScaler()\n",
        "df = pd.DataFrame(scaler.fit_transform(data), columns=data.columns)\n",
        "df.index = data.index"
      ]
    },
    {
      "cell_type": "code",
      "execution_count": 13,
      "id": "b1bd7b96-3321-48ed-b36f-6531937ad6dd",
      "metadata": {
        "tags": [],
        "id": "b1bd7b96-3321-48ed-b36f-6531937ad6dd",
        "outputId": "43937856-0424-4111-d1d0-09bfa14c1240",
        "colab": {
          "base_uri": "https://localhost:8080/"
        }
      },
      "outputs": [
        {
          "output_type": "execute_result",
          "data": {
            "text/plain": [
              "pandas._libs.tslibs.timestamps.Timestamp"
            ]
          },
          "metadata": {},
          "execution_count": 13
        }
      ],
      "source": [
        "type(df.index[0])"
      ]
    },
    {
      "cell_type": "code",
      "execution_count": 14,
      "id": "4b576dc5-e76f-4525-acfd-046f8b55da01",
      "metadata": {
        "tags": [],
        "id": "4b576dc5-e76f-4525-acfd-046f8b55da01",
        "outputId": "a660885c-bc72-4244-cc33-3bc2223a940e",
        "colab": {
          "base_uri": "https://localhost:8080/"
        }
      },
      "outputs": [
        {
          "output_type": "execute_result",
          "data": {
            "text/plain": [
              "Index([6, 13, 14, 15, 16, 17, 18, 19, 20, 21, 22, 23, 24, 25, 26, 27, 28, 29,\n",
              "       7, 30, 8],\n",
              "      dtype='int32', name='Date')"
            ]
          },
          "metadata": {},
          "execution_count": 14
        }
      ],
      "source": [
        "df.index.day.unique()"
      ]
    },
    {
      "cell_type": "code",
      "execution_count": 15,
      "id": "48274e4f-ea92-4aee-854b-0616ece6a11e",
      "metadata": {
        "tags": [],
        "id": "48274e4f-ea92-4aee-854b-0616ece6a11e",
        "outputId": "b8883175-eaf3-4b38-f462-a40dacd46f63",
        "colab": {
          "base_uri": "https://localhost:8080/"
        }
      },
      "outputs": [
        {
          "output_type": "execute_result",
          "data": {
            "text/plain": [
              "Index([1, 2, 3, 4, 5, 6, 7, 8, 9, 10, 11, 12], dtype='int32', name='Date')"
            ]
          },
          "metadata": {},
          "execution_count": 15
        }
      ],
      "source": [
        "df.index.month.unique()"
      ]
    },
    {
      "cell_type": "code",
      "execution_count": 16,
      "id": "4d895467-728d-4f8f-8836-447d2f744293",
      "metadata": {
        "tags": [],
        "id": "4d895467-728d-4f8f-8836-447d2f744293",
        "outputId": "27c73a70-50ab-4d03-b0d4-40f768a15f98",
        "colab": {
          "base_uri": "https://localhost:8080/"
        }
      },
      "outputs": [
        {
          "output_type": "execute_result",
          "data": {
            "text/plain": [
              "Index([2022], dtype='int32', name='Date')"
            ]
          },
          "metadata": {},
          "execution_count": 16
        }
      ],
      "source": [
        "df.index.year.unique()"
      ]
    },
    {
      "cell_type": "code",
      "execution_count": 17,
      "id": "7cbeec5c-9bbc-4068-a100-813f457a5748",
      "metadata": {
        "tags": [],
        "id": "7cbeec5c-9bbc-4068-a100-813f457a5748",
        "outputId": "3eb7bb47-471c-42c0-c3bf-1df4f2913aa6",
        "colab": {
          "base_uri": "https://localhost:8080/"
        }
      },
      "outputs": [
        {
          "output_type": "execute_result",
          "data": {
            "text/plain": [
              "Index([ 0,  1,  2,  3,  4,  5,  6,  7,  8,  9, 10, 11, 12, 13, 14, 15, 16, 17,\n",
              "       18, 19, 20, 21, 22, 23],\n",
              "      dtype='int32', name='Date')"
            ]
          },
          "metadata": {},
          "execution_count": 17
        }
      ],
      "source": [
        "df.index.hour.unique()"
      ]
    },
    {
      "cell_type": "code",
      "source": [
        "df.columns"
      ],
      "metadata": {
        "colab": {
          "base_uri": "https://localhost:8080/"
        },
        "id": "hLdE2u7kBu5x",
        "outputId": "77ed06b7-4971-4f1c-8262-ff9cd3d5a633"
      },
      "id": "hLdE2u7kBu5x",
      "execution_count": 56,
      "outputs": [
        {
          "output_type": "execute_result",
          "data": {
            "text/plain": [
              "Index(['on_off', 'damper', 'active_energy', 'co2_1', 'amb_humid_1',\n",
              "       'active_power', 'pot_gen', 'high_pressure_1', 'high_pressure_2',\n",
              "       'low_pressure_1', 'low_pressure_2', 'high_pressure_3', 'low_pressure_3',\n",
              "       'outside_temp', 'outlet_temp', 'inlet_temp', 'summer_setpoint_temp',\n",
              "       'winter_setpoint_temp', 'amb_temp_2'],\n",
              "      dtype='object')"
            ]
          },
          "metadata": {},
          "execution_count": 56
        }
      ]
    },
    {
      "cell_type": "code",
      "source": [
        "output_variable_dt = 'on_off'\n",
        "output_variable_nn = 'co2_1'"
      ],
      "metadata": {
        "id": "UidxUgf3_QLo"
      },
      "id": "UidxUgf3_QLo",
      "execution_count": 57,
      "outputs": []
    },
    {
      "cell_type": "code",
      "execution_count": 58,
      "id": "d0a5b6b6-f4f1-46b5-9c0b-749178dc3a21",
      "metadata": {
        "tags": [],
        "id": "d0a5b6b6-f4f1-46b5-9c0b-749178dc3a21",
        "outputId": "030f9534-85ab-4b64-e7ec-ad911b098e32",
        "colab": {
          "base_uri": "https://localhost:8080/",
          "height": 612
        }
      },
      "outputs": [
        {
          "output_type": "stream",
          "name": "stdout",
          "text": [
            "(1068, 19)\n"
          ]
        },
        {
          "output_type": "stream",
          "name": "stderr",
          "text": [
            "<ipython-input-58-fbad7e6c5763>:8: UserWarning: Boolean Series key will be reindexed to match DataFrame index.\n",
            "  sns.lineplot(filtered_date_df[(df.on_off == 0)], x=\"Date\", y=\"inlet_temp\", label=\"inlet=0\")\n",
            "<ipython-input-58-fbad7e6c5763>:9: UserWarning: Boolean Series key will be reindexed to match DataFrame index.\n",
            "  sns.lineplot(filtered_date_df[(df.on_off == 1)], x=\"Date\", y=\"inlet_temp\", label=\"inlet=1\")\n"
          ]
        },
        {
          "output_type": "execute_result",
          "data": {
            "text/plain": [
              "Text(0.5, 1.0, 'Temperature Measurement at 8/20')"
            ]
          },
          "metadata": {},
          "execution_count": 58
        },
        {
          "output_type": "display_data",
          "data": {
            "text/plain": [
              "<Figure size 640x480 with 1 Axes>"
            ],
            "image/png": "[encoded data removed]"
          },
          "metadata": {}
        }
      ],
      "source": [
        "day = 20\n",
        "month = 8\n",
        "year = 2022\n",
        "hour = 12\n",
        "filtered_date_df = df[(df.index.hour == hour) & (df.index.hour == hour)]\n",
        "print(filtered_date_df.shape)\n",
        "\n",
        "sns.lineplot(filtered_date_df[(df.on_off == 0)], x=\"Date\", y=\"inlet_temp\", label=\"inlet=0\")\n",
        "sns.lineplot(filtered_date_df[(df.on_off == 1)], x=\"Date\", y=\"inlet_temp\", label=\"inlet=1\")\n",
        "sns.lineplot(filtered_date_df, x=\"Date\", y=output_variable_dt, label=output_variable_dt)\n",
        "# sns.lineplot(df[(df.Date.dt.day == 7) & (df.Date.dt.month == 1)], x=\"Date\", y=\"outlet_temp\", label=\"outlet\")\n",
        "\n",
        "plt.xticks(rotation=45)\n",
        "plt.title(f\"Temperature Measurement at {month}/{day}\")"
      ]
    },
    {
      "cell_type": "code",
      "source": [
        "day = 20\n",
        "month = 8\n",
        "year = 2022\n",
        "hour = 12\n",
        "filtered_date_df = df[(df.index.hour == hour) & (df.index.hour == hour)]\n",
        "print(filtered_date_df.shape)\n",
        "\n",
        "sns.lineplot(filtered_date_df[(df.on_off == 0)], x=\"Date\", y=\"inlet_temp\", label=\"inlet=0\")\n",
        "sns.lineplot(filtered_date_df[(df.on_off == 1)], x=\"Date\", y=\"inlet_temp\", label=\"inlet=1\")\n",
        "sns.lineplot(filtered_date_df, x=\"Date\", y=output_variable_nn, label=output_variable_nn)\n",
        "# sns.lineplot(df[(df.Date.dt.day == 7) & (df.Date.dt.month == 1)], x=\"Date\", y=\"outlet_temp\", label=\"outlet\")\n",
        "\n",
        "plt.xticks(rotation=45)\n",
        "plt.title(f\"Temperature Measurement at {month}/{day}\")"
      ],
      "metadata": {
        "colab": {
          "base_uri": "https://localhost:8080/",
          "height": 612
        },
        "id": "8XRD8xRc_JYs",
        "outputId": "13db3f0c-6ea1-483c-c08a-904b05adc512"
      },
      "id": "8XRD8xRc_JYs",
      "execution_count": 32,
      "outputs": [
        {
          "output_type": "stream",
          "name": "stdout",
          "text": [
            "(1068, 19)\n"
          ]
        },
        {
          "output_type": "stream",
          "name": "stderr",
          "text": [
            "<ipython-input-32-681ed677af1f>:8: UserWarning: Boolean Series key will be reindexed to match DataFrame index.\n",
            "  sns.lineplot(filtered_date_df[(df.on_off == 0)], x=\"Date\", y=\"inlet_temp\", label=\"inlet=0\")\n",
            "<ipython-input-32-681ed677af1f>:9: UserWarning: Boolean Series key will be reindexed to match DataFrame index.\n",
            "  sns.lineplot(filtered_date_df[(df.on_off == 1)], x=\"Date\", y=\"inlet_temp\", label=\"inlet=1\")\n"
          ]
        },
        {
          "output_type": "execute_result",
          "data": {
            "text/plain": [
              "Text(0.5, 1.0, 'Temperature Measurement at 8/20')"
            ]
          },
          "metadata": {},
          "execution_count": 32
        },
        {
          "output_type": "display_data",
          "data": {
            "text/plain": [
              "<Figure size 640x480 with 1 Axes>"
            ],
            "image/png": "[encoded data removed]"
          },
          "metadata": {}
        }
      ]
    },
    {
      "cell_type": "code",
      "execution_count": 34,
      "id": "4764c3d1-c395-421e-bf2c-a20e77be8786",
      "metadata": {
        "tags": [],
        "id": "4764c3d1-c395-421e-bf2c-a20e77be8786",
        "outputId": "7323ddcc-dc32-4641-f6e9-b176d6030a6a",
        "colab": {
          "base_uri": "https://localhost:8080/"
        }
      },
      "outputs": [
        {
          "output_type": "execute_result",
          "data": {
            "text/plain": [
              "Index(['on_off', 'damper', 'active_energy', 'co2_1', 'amb_humid_1',\n",
              "       'active_power', 'pot_gen', 'high_pressure_1', 'high_pressure_2',\n",
              "       'low_pressure_1', 'low_pressure_2', 'high_pressure_3', 'low_pressure_3',\n",
              "       'outside_temp', 'outlet_temp', 'inlet_temp', 'summer_setpoint_temp',\n",
              "       'winter_setpoint_temp', 'amb_temp_2'],\n",
              "      dtype='object')"
            ]
          },
          "metadata": {},
          "execution_count": 34
        }
      ],
      "source": [
        "df.columns"
      ]
    },
    {
      "cell_type": "code",
      "execution_count": 35,
      "id": "7192eee8-c4da-403d-8ea4-709d2e9020c8",
      "metadata": {
        "tags": [],
        "id": "7192eee8-c4da-403d-8ea4-709d2e9020c8",
        "outputId": "0c77c3a2-32c7-4b70-9fa9-f2c478d9d602",
        "colab": {
          "base_uri": "https://localhost:8080/",
          "height": 680
        }
      },
      "outputs": [
        {
          "output_type": "execute_result",
          "data": {
            "text/plain": [
              "on_off                  1.0\n",
              "damper                  1.0\n",
              "active_energy           1.0\n",
              "co2_1                   1.0\n",
              "amb_humid_1             1.0\n",
              "active_power            1.0\n",
              "pot_gen                 1.0\n",
              "high_pressure_1         1.0\n",
              "high_pressure_2         1.0\n",
              "low_pressure_1          1.0\n",
              "low_pressure_2          1.0\n",
              "high_pressure_3         1.0\n",
              "low_pressure_3          1.0\n",
              "outside_temp            1.0\n",
              "outlet_temp             1.0\n",
              "inlet_temp              1.0\n",
              "summer_setpoint_temp    1.0\n",
              "winter_setpoint_temp    1.0\n",
              "amb_temp_2              1.0\n",
              "dtype: float64"
            ],
            "text/html": [
              "<div>\n",
              "<style scoped>\n",
              "    .dataframe tbody tr th:only-of-type {\n",
              "        vertical-align: middle;\n",
              "    }\n",
              "\n",
              "    .dataframe tbody tr th {\n",
              "        vertical-align: top;\n",
              "    }\n",
              "\n",
              "    .dataframe thead th {\n",
              "        text-align: right;\n",
              "    }\n",
              "</style>\n",
              "<table border=\"1\" class=\"dataframe\">\n",
              "  <thead>\n",
              "    <tr style=\"text-align: right;\">\n",
              "      <th></th>\n",
              "      <th>0</th>\n",
              "    </tr>\n",
              "  </thead>\n",
              "  <tbody>\n",
              "    <tr>\n",
              "      <th>on_off</th>\n",
              "      <td>1.0</td>\n",
              "    </tr>\n",
              "    <tr>\n",
              "      <th>damper</th>\n",
              "      <td>1.0</td>\n",
              "    </tr>\n",
              "    <tr>\n",
              "      <th>active_energy</th>\n",
              "      <td>1.0</td>\n",
              "    </tr>\n",
              "    <tr>\n",
              "      <th>co2_1</th>\n",
              "      <td>1.0</td>\n",
              "    </tr>\n",
              "    <tr>\n",
              "      <th>amb_humid_1</th>\n",
              "      <td>1.0</td>\n",
              "    </tr>\n",
              "    <tr>\n",
              "      <th>active_power</th>\n",
              "      <td>1.0</td>\n",
              "    </tr>\n",
              "    <tr>\n",
              "      <th>pot_gen</th>\n",
              "      <td>1.0</td>\n",
              "    </tr>\n",
              "    <tr>\n",
              "      <th>high_pressure_1</th>\n",
              "      <td>1.0</td>\n",
              "    </tr>\n",
              "    <tr>\n",
              "      <th>high_pressure_2</th>\n",
              "      <td>1.0</td>\n",
              "    </tr>\n",
              "    <tr>\n",
              "      <th>low_pressure_1</th>\n",
              "      <td>1.0</td>\n",
              "    </tr>\n",
              "    <tr>\n",
              "      <th>low_pressure_2</th>\n",
              "      <td>1.0</td>\n",
              "    </tr>\n",
              "    <tr>\n",
              "      <th>high_pressure_3</th>\n",
              "      <td>1.0</td>\n",
              "    </tr>\n",
              "    <tr>\n",
              "      <th>low_pressure_3</th>\n",
              "      <td>1.0</td>\n",
              "    </tr>\n",
              "    <tr>\n",
              "      <th>outside_temp</th>\n",
              "      <td>1.0</td>\n",
              "    </tr>\n",
              "    <tr>\n",
              "      <th>outlet_temp</th>\n",
              "      <td>1.0</td>\n",
              "    </tr>\n",
              "    <tr>\n",
              "      <th>inlet_temp</th>\n",
              "      <td>1.0</td>\n",
              "    </tr>\n",
              "    <tr>\n",
              "      <th>summer_setpoint_temp</th>\n",
              "      <td>1.0</td>\n",
              "    </tr>\n",
              "    <tr>\n",
              "      <th>winter_setpoint_temp</th>\n",
              "      <td>1.0</td>\n",
              "    </tr>\n",
              "    <tr>\n",
              "      <th>amb_temp_2</th>\n",
              "      <td>1.0</td>\n",
              "    </tr>\n",
              "  </tbody>\n",
              "</table>\n",
              "</div><br><label><b>dtype:</b> float64</label>"
            ]
          },
          "metadata": {},
          "execution_count": 35
        }
      ],
      "source": [
        "df.max()"
      ]
    },
    {
      "cell_type": "code",
      "execution_count": 36,
      "id": "bf461595-e546-4f01-b071-ec94a276cfaa",
      "metadata": {
        "tags": [],
        "id": "bf461595-e546-4f01-b071-ec94a276cfaa"
      },
      "outputs": [],
      "source": [
        "from sklearn.model_selection import train_test_split\n",
        "from sklearn.model_selection import cross_val_score\n",
        "from sklearn.linear_model import LogisticRegression, LinearRegression\n",
        "from sklearn.ensemble import RandomForestClassifier\n",
        "from sklearn.tree import DecisionTreeClassifier"
      ]
    },
    {
      "cell_type": "code",
      "source": [
        "features_dt = [\"inlet_temp\",\"outside_temp\", \"amb_humid_1\"]\n",
        "features_nn = [\"inlet_temp\",\"outside_temp\", \"amb_humid_1\", 'active_power', 'high_pressure_1', 'low_pressure_1']"
      ],
      "metadata": {
        "id": "SJ2N8tbkAW_3"
      },
      "id": "SJ2N8tbkAW_3",
      "execution_count": 48,
      "outputs": []
    },
    {
      "cell_type": "code",
      "source": [
        "target = output_variable_dt"
      ],
      "metadata": {
        "id": "D5LZwUf7Aj42"
      },
      "id": "D5LZwUf7Aj42",
      "execution_count": 59,
      "outputs": []
    },
    {
      "cell_type": "code",
      "execution_count": 60,
      "id": "cfd62a26-b68d-4890-828a-c4df3ab76d63",
      "metadata": {
        "tags": [],
        "id": "cfd62a26-b68d-4890-828a-c4df3ab76d63"
      },
      "outputs": [],
      "source": [
        "X = df[features_dt]\n",
        "y = df[target]"
      ]
    },
    {
      "cell_type": "code",
      "execution_count": 61,
      "id": "2831fe7d-3a52-4688-bc37-ce9a51b8825e",
      "metadata": {
        "tags": [],
        "id": "2831fe7d-3a52-4688-bc37-ce9a51b8825e",
        "outputId": "cbb5dda3-5762-4299-d82b-b8a82d990218",
        "colab": {
          "base_uri": "https://localhost:8080/",
          "height": 178
        }
      },
      "outputs": [
        {
          "output_type": "execute_result",
          "data": {
            "text/plain": [
              "inlet_temp      0\n",
              "outside_temp    0\n",
              "amb_humid_1     0\n",
              "dtype: int64"
            ],
            "text/html": [
              "<div>\n",
              "<style scoped>\n",
              "    .dataframe tbody tr th:only-of-type {\n",
              "        vertical-align: middle;\n",
              "    }\n",
              "\n",
              "    .dataframe tbody tr th {\n",
              "        vertical-align: top;\n",
              "    }\n",
              "\n",
              "    .dataframe thead th {\n",
              "        text-align: right;\n",
              "    }\n",
              "</style>\n",
              "<table border=\"1\" class=\"dataframe\">\n",
              "  <thead>\n",
              "    <tr style=\"text-align: right;\">\n",
              "      <th></th>\n",
              "      <th>0</th>\n",
              "    </tr>\n",
              "  </thead>\n",
              "  <tbody>\n",
              "    <tr>\n",
              "      <th>inlet_temp</th>\n",
              "      <td>0</td>\n",
              "    </tr>\n",
              "    <tr>\n",
              "      <th>outside_temp</th>\n",
              "      <td>0</td>\n",
              "    </tr>\n",
              "    <tr>\n",
              "      <th>amb_humid_1</th>\n",
              "      <td>0</td>\n",
              "    </tr>\n",
              "  </tbody>\n",
              "</table>\n",
              "</div><br><label><b>dtype:</b> int64</label>"
            ]
          },
          "metadata": {},
          "execution_count": 61
        }
      ],
      "source": [
        "X.isna().sum()"
      ]
    },
    {
      "cell_type": "code",
      "execution_count": 62,
      "id": "65eefdfc-2d0a-409c-b62f-3eec4ccd8a74",
      "metadata": {
        "tags": [],
        "id": "65eefdfc-2d0a-409c-b62f-3eec4ccd8a74",
        "outputId": "df29a4a3-cab5-44ff-ff65-4b97bac78780",
        "colab": {
          "base_uri": "https://localhost:8080/"
        }
      },
      "outputs": [
        {
          "output_type": "execute_result",
          "data": {
            "text/plain": [
              "0"
            ]
          },
          "metadata": {},
          "execution_count": 62
        }
      ],
      "source": [
        "y.isna().sum()"
      ]
    },
    {
      "cell_type": "code",
      "source": [
        "y.unique()"
      ],
      "metadata": {
        "colab": {
          "base_uri": "https://localhost:8080/"
        },
        "id": "0U_uKUIDBBEg",
        "outputId": "863ce4a4-48d0-488b-954d-f3b360b8f11f"
      },
      "id": "0U_uKUIDBBEg",
      "execution_count": 64,
      "outputs": [
        {
          "output_type": "execute_result",
          "data": {
            "text/plain": [
              "array([0., 1.])"
            ]
          },
          "metadata": {},
          "execution_count": 64
        }
      ]
    },
    {
      "cell_type": "code",
      "execution_count": 65,
      "id": "2c5e76dd-37df-45a6-99a6-a749c9cf3718",
      "metadata": {
        "tags": [],
        "id": "2c5e76dd-37df-45a6-99a6-a749c9cf3718"
      },
      "outputs": [],
      "source": [
        "X_train, X_test, y_train, y_test = train_test_split(X, y, random_state=42, shuffle=True)"
      ]
    },
    {
      "cell_type": "code",
      "execution_count": 66,
      "id": "e8c712d9-c71a-4f75-a439-51a15f566bd8",
      "metadata": {
        "tags": [],
        "id": "e8c712d9-c71a-4f75-a439-51a15f566bd8",
        "outputId": "33ce8a29-07d9-4651-e22f-d89103c7fa9e",
        "colab": {
          "base_uri": "https://localhost:8080/"
        }
      },
      "outputs": [
        {
          "output_type": "execute_result",
          "data": {
            "text/plain": [
              "((19224, 3), (6408, 3), (19224,), (6408,))"
            ]
          },
          "metadata": {},
          "execution_count": 66
        }
      ],
      "source": [
        "X_train.shape, X_test.shape, y_train.shape, y_test.shape"
      ]
    },
    {
      "cell_type": "code",
      "execution_count": 67,
      "id": "e7ec8400-8bf8-43f7-9fa8-bfd53938877e",
      "metadata": {
        "collapsed": true,
        "jupyter": {
          "outputs_hidden": true
        },
        "tags": [],
        "id": "e7ec8400-8bf8-43f7-9fa8-bfd53938877e",
        "outputId": "e1a75136-54da-4941-aa23-d41526bb074a",
        "colab": {
          "base_uri": "https://localhost:8080/"
        }
      },
      "outputs": [
        {
          "output_type": "stream",
          "name": "stdout",
          "text": [
            "Model CV Accuracy :0.9249899256977926\n",
            "Model Test Accuracy :0.9269662921348315\n"
          ]
        }
      ],
      "source": [
        "model = DecisionTreeClassifier()\n",
        "\n",
        "dev_score = cross_val_score(model, X_train, y_train, cv=5)\n",
        "model.fit(X_train, y_train)\n",
        "test_score = model.score(X_test, y_test)\n",
        "\n",
        "print(f\"Model CV Accuracy :{dev_score.mean()}\")\n",
        "print(f\"Model Test Accuracy :{test_score}\")"
      ]
    },
    {
      "cell_type": "code",
      "execution_count": 68,
      "id": "142f27a8-6114-471c-aa3b-b8f6848b386d",
      "metadata": {
        "id": "142f27a8-6114-471c-aa3b-b8f6848b386d",
        "outputId": "42d563db-5ea7-4208-a902-194742168a60",
        "colab": {
          "base_uri": "https://localhost:8080/"
        }
      },
      "outputs": [
        {
          "output_type": "stream",
          "name": "stdout",
          "text": [
            "Model CV Accuracy :0.9249899256977926\n",
            "Model Test Accuracy :0.5747523066922391\n"
          ]
        }
      ],
      "source": [
        "model = LinearRegression()\n",
        "model.fit(X_train, y_train)\n",
        "test_score = model.score(X_test, y_test)\n",
        "\n",
        "print(f\"Model CV Accuracy :{dev_score.mean()}\")\n",
        "print(f\"Model Test Accuracy :{test_score}\")"
      ]
    },
    {
      "cell_type": "markdown",
      "source": [
        "## Neural Network"
      ],
      "metadata": {
        "id": "cudp4-c0CGLf"
      },
      "id": "cudp4-c0CGLf"
    },
    {
      "cell_type": "code",
      "source": [
        "target = output_variable_nn\n",
        "X = df[features_nn]\n",
        "y = df[target]"
      ],
      "metadata": {
        "id": "xdG_kwmBCNMf"
      },
      "id": "xdG_kwmBCNMf",
      "execution_count": 69,
      "outputs": []
    },
    {
      "cell_type": "code",
      "source": [
        "X.isna().sum(), y.isna().sum()"
      ],
      "metadata": {
        "colab": {
          "base_uri": "https://localhost:8080/"
        },
        "id": "BX-VrVJoCabN",
        "outputId": "06b1c685-32ff-450c-9fbb-d3bc939f574d"
      },
      "id": "BX-VrVJoCabN",
      "execution_count": 70,
      "outputs": [
        {
          "output_type": "execute_result",
          "data": {
            "text/plain": [
              "(inlet_temp         0\n",
              " outside_temp       0\n",
              " amb_humid_1        0\n",
              " active_power       0\n",
              " high_pressure_1    0\n",
              " low_pressure_1     0\n",
              " dtype: int64,\n",
              " 0)"
            ]
          },
          "metadata": {},
          "execution_count": 70
        }
      ]
    },
    {
      "cell_type": "code",
      "source": [
        "X_train, X_test, y_train, y_test = train_test_split(X, y, random_state=42, shuffle=True)\n",
        "X_train.shape, X_test.shape, y_train.shape, y_test.shape"
      ],
      "metadata": {
        "colab": {
          "base_uri": "https://localhost:8080/"
        },
        "id": "kM8MD6HUChnS",
        "outputId": "56088364-9c11-492c-bb0f-5fae7c89d805"
      },
      "id": "kM8MD6HUChnS",
      "execution_count": 71,
      "outputs": [
        {
          "output_type": "execute_result",
          "data": {
            "text/plain": [
              "((19224, 6), (6408, 6), (19224,), (6408,))"
            ]
          },
          "metadata": {},
          "execution_count": 71
        }
      ]
    },
    {
      "cell_type": "code",
      "execution_count": 72,
      "id": "a1927f97-a569-4258-8d77-4ad9001adf97",
      "metadata": {
        "tags": [],
        "id": "a1927f97-a569-4258-8d77-4ad9001adf97"
      },
      "outputs": [],
      "source": [
        "import torch\n",
        "import torch.nn as nn\n",
        "\n",
        "# Define the neural network\n",
        "class SimpleRegressionNet(nn.Module):\n",
        "    def __init__(self, input_size, hidden_size, output_size):\n",
        "        super(SimpleRegressionNet, self).__init__()\n",
        "        self.fc1 = nn.Linear(input_size, hidden_size)\n",
        "        self.fc2 = nn.Linear(hidden_size, hidden_size)\n",
        "        self.fc3 = nn.Linear(hidden_size, 4)\n",
        "        self.fc4 = nn.Linear(4, output_size)\n",
        "        self.relu = nn.ReLU()\n",
        "\n",
        "    def forward(self, x):\n",
        "        x = self.relu(self.fc1(x))\n",
        "        x = self.relu(self.fc2(x))\n",
        "        x = self.relu(self.fc3(x))\n",
        "        x = self.fc4(x)\n",
        "        return x"
      ]
    },
    {
      "cell_type": "code",
      "execution_count": 73,
      "id": "c7d8aa0e-646b-4982-9f86-efeacef72373",
      "metadata": {
        "tags": [],
        "id": "c7d8aa0e-646b-4982-9f86-efeacef72373"
      },
      "outputs": [],
      "source": [
        "# Hyperparameters\n",
        "input_size = 6  # Adjust based on your input features\n",
        "hidden_size = 32\n",
        "output_size = 1\n",
        "\n",
        "# Create the model\n",
        "model_nn = SimpleRegressionNet(input_size, hidden_size, output_size)\n",
        "\n",
        "# Loss function and optimizer\n",
        "criterion = nn.MSELoss()\n",
        "optimizer = torch.optim.Adam(model_nn.parameters(), lr=0.01)"
      ]
    },
    {
      "cell_type": "code",
      "execution_count": 74,
      "id": "65b34696-8269-422d-ad63-078c901774cf",
      "metadata": {
        "tags": [],
        "id": "65b34696-8269-422d-ad63-078c901774cf"
      },
      "outputs": [],
      "source": [
        "inputs = torch.tensor(X_train.values, dtype=torch.float32)\n",
        "labels = torch.tensor(y_train.values, dtype=torch.float32)"
      ]
    },
    {
      "cell_type": "code",
      "execution_count": 75,
      "id": "008d5233-99fe-4329-9d3f-b005ad10968a",
      "metadata": {
        "tags": [],
        "id": "008d5233-99fe-4329-9d3f-b005ad10968a",
        "outputId": "2b68ce5b-721b-4ddd-9aba-1c5a0fbfcdd9",
        "colab": {
          "base_uri": "https://localhost:8080/"
        }
      },
      "outputs": [
        {
          "output_type": "stream",
          "name": "stderr",
          "text": [
            "/usr/local/lib/python3.10/dist-packages/torch/nn/modules/loss.py:608: UserWarning: Using a target size (torch.Size([19224])) that is different to the input size (torch.Size([19224, 1])). This will likely lead to incorrect results due to broadcasting. Please ensure they have the same size.\n",
            "  return F.mse_loss(input, target, reduction=self.reduction)\n"
          ]
        },
        {
          "output_type": "stream",
          "name": "stdout",
          "text": [
            "Epoch [10/200], Loss: 0.0718\n",
            "Epoch [20/200], Loss: 0.0648\n",
            "Epoch [30/200], Loss: 0.0417\n",
            "Epoch [40/200], Loss: 0.0395\n",
            "Epoch [50/200], Loss: 0.0382\n",
            "Epoch [60/200], Loss: 0.0380\n",
            "Epoch [70/200], Loss: 0.0377\n",
            "Epoch [80/200], Loss: 0.0375\n",
            "Epoch [90/200], Loss: 0.0373\n",
            "Epoch [100/200], Loss: 0.0373\n",
            "Epoch [110/200], Loss: 0.0372\n",
            "Epoch [120/200], Loss: 0.0372\n",
            "Epoch [130/200], Loss: 0.0371\n",
            "Epoch [140/200], Loss: 0.0371\n",
            "Epoch [150/200], Loss: 0.0371\n",
            "Epoch [160/200], Loss: 0.0371\n",
            "Epoch [170/200], Loss: 0.0371\n",
            "Epoch [180/200], Loss: 0.0370\n",
            "Epoch [190/200], Loss: 0.0370\n",
            "Epoch [200/200], Loss: 0.0370\n"
          ]
        }
      ],
      "source": [
        "epochs = 200\n",
        "\n",
        "# Training loop\n",
        "for epoch in range(epochs):\n",
        "    # Forward pass\n",
        "    outputs = model_nn(inputs)\n",
        "    loss = criterion(outputs, labels)\n",
        "\n",
        "    # Backward and optimize\n",
        "    optimizer.zero_grad()\n",
        "    loss.backward()\n",
        "    optimizer.step()\n",
        "\n",
        "    if (epoch+1) % 10 == 0:\n",
        "        print(f'Epoch [{epoch+1}/{epochs}], Loss: {loss.item():.4f}')"
      ]
    },
    {
      "cell_type": "code",
      "execution_count": 76,
      "id": "47a75138-18a3-4c43-9cd4-afb5a2453e3e",
      "metadata": {
        "tags": [],
        "id": "47a75138-18a3-4c43-9cd4-afb5a2453e3e"
      },
      "outputs": [],
      "source": [
        "validation_data = torch.tensor(X_train[0:200].values, dtype=torch.float32)\n",
        "validation_labels = torch.tensor(y_train[0:200].values, dtype=torch.float32)"
      ]
    },
    {
      "cell_type": "code",
      "execution_count": 77,
      "id": "6ed2c09a-1444-4b43-a1dc-76e93de99276",
      "metadata": {
        "tags": [],
        "id": "6ed2c09a-1444-4b43-a1dc-76e93de99276",
        "outputId": "5951ab67-fbe9-44cd-c52e-3d017a6e8c3a",
        "colab": {
          "base_uri": "https://localhost:8080/"
        }
      },
      "outputs": [
        {
          "output_type": "stream",
          "name": "stdout",
          "text": [
            "Validation Loss: 0.0291\n",
            "MSE: 0.0291\n",
            "RMSE: 0.1707\n",
            "MAE: 0.1421\n"
          ]
        }
      ],
      "source": [
        "import torch.nn.functional as F\n",
        "\n",
        "with torch.no_grad():\n",
        "\n",
        "    # Calculate predictions on the validation set\n",
        "    predictions = model_nn(validation_data).squeeze(1)\n",
        "\n",
        "    # Calculate loss\n",
        "    loss = criterion(predictions, validation_labels)\n",
        "\n",
        "    # Calculate other metrics\n",
        "    mse = F.mse_loss(predictions, validation_labels)\n",
        "    rmse = torch.sqrt(mse)\n",
        "    mae = F.l1_loss(predictions, validation_labels)\n",
        "\n",
        "    print(f\"Validation Loss: {loss.item():.4f}\")\n",
        "    print(f\"MSE: {mse.item():.4f}\")\n",
        "    print(f\"RMSE: {rmse.item():.4f}\")\n",
        "    print(f\"MAE: {mae.item():.4f}\")"
      ]
    },
    {
      "cell_type": "markdown",
      "id": "f866bbfd-ae91-4bc0-8025-4a6f9fbb7992",
      "metadata": {
        "id": "f866bbfd-ae91-4bc0-8025-4a6f9fbb7992"
      },
      "source": [
        "### References"
      ]
    },
    {
      "cell_type": "markdown",
      "id": "0bfc9dbd-45cc-4315-b3d4-3c5601fc8491",
      "metadata": {
        "id": "0bfc9dbd-45cc-4315-b3d4-3c5601fc8491"
      },
      "source": [
        "https://www.kaggle.com/code/kiritowu/aircon-classification-w-temperature-humidity/notebook"
      ]
    },
    {
      "cell_type": "code",
      "execution_count": null,
      "id": "38f614cb-5f13-4735-b002-6d99974e1ccc",
      "metadata": {
        "id": "38f614cb-5f13-4735-b002-6d99974e1ccc"
      },
      "outputs": [],
      "source": []
    }
  ],
  "metadata": {
    "kernelspec": {
      "display_name": "Python 3 (ipykernel)",
      "language": "python",
      "name": "python3"
    },
    "language_info": {
      "codemirror_mode": {
        "name": "ipython",
        "version": 3
      },
      "file_extension": ".py",
      "mimetype": "text/x-python",
      "name": "python",
      "nbconvert_exporter": "python",
      "pygments_lexer": "ipython3",
      "version": "3.11.7"
    },
    "colab": {
      "provenance": [],
      "include_colab_link": true
    }
  },
  "nbformat": 4,
  "nbformat_minor": 5
}