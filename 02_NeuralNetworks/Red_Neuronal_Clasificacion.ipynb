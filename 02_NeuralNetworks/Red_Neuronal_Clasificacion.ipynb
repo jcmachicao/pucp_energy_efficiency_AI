{
  "nbformat": 4,
  "nbformat_minor": 0,
  "metadata": {
    "colab": {
      "provenance": [],
      "include_colab_link": true
    },
    "kernelspec": {
      "name": "python3",
      "display_name": "Python 3"
    },
    "language_info": {
      "name": "python"
    }
  },
  "cells": [
    {
      "cell_type": "markdown",
      "metadata": {
        "id": "view-in-github",
        "colab_type": "text"
      },
      "source": [
        "<a href=\"https://colab.research.google.com/github/jcmachicao/pucp_energy_efficiency_AI/blob/main/Red_Neuronal_Clasificacion.ipynb\" target=\"_parent\"><img src=\"https://colab.research.google.com/assets/colab-badge.svg\" alt=\"Open In Colab\"/></a>"
      ]
    },
    {
      "cell_type": "code",
      "source": [
        "import torch\n",
        "import torch.nn as nn"
      ],
      "metadata": {
        "id": "FaYinz2ym0RH"
      },
      "execution_count": null,
      "outputs": []
    },
    {
      "cell_type": "code",
      "source": [
        "# Definición de las clases\n",
        "clases = ['Clase 1', 'Clase 2']"
      ],
      "metadata": {
        "id": "VyaLiH40m5OE"
      },
      "execution_count": null,
      "outputs": []
    },
    {
      "cell_type": "code",
      "source": [
        "# Definición de la red neuronal\n",
        "class RedNeuronal(nn.Module):\n",
        "    def __init__(self):\n",
        "        super().__init__()\n",
        "\n",
        "        # Capa 1: Entrada\n",
        "        self.entrada = nn.Linear(10, 20)\n",
        "\n",
        "        # Capa 2: ReLU\n",
        "        self.relu = nn.ReLU()\n",
        "\n",
        "        # Capa 3: Salida\n",
        "        self.salida = nn.Linear(20, len(clases))\n",
        "\n",
        "    def forward(self, x):\n",
        "        x = self.entrada(x)\n",
        "        x = self.relu(x)\n",
        "        x = self.salida(x)\n",
        "        return x"
      ],
      "metadata": {
        "id": "B-Ly7UUem7pk"
      },
      "execution_count": null,
      "outputs": []
    },
    {
      "cell_type": "code",
      "source": [
        "# Función de entrenamiento\n",
        "def entrenar(modelo, x_entrenamiento, y_entrenamiento, epochs):\n",
        "    # Definición del optimizador\n",
        "    optimizador = torch.optim.SGD(modelo.parameters(), lr=0.01)\n",
        "\n",
        "    # Bucle de entrenamiento\n",
        "    for epoch in range(epochs):\n",
        "        # Paso adelante\n",
        "        y_pred = modelo(x_entrenamiento)\n",
        "\n",
        "        # Cálculo de la pérdida\n",
        "        loss = nn.CrossEntropyLoss()(y_pred, y_entrenamiento)\n",
        "\n",
        "        # Retropropagación\n",
        "        optimizador.zero_grad()\n",
        "        loss.backward()\n",
        "\n",
        "        # Actualización de los pesos\n",
        "        optimizador.step()\n",
        "\n",
        "        # Impresión del progreso\n",
        "        print(f\"Epoch {epoch+1}/{epochs}: Loss = {loss.item()}\")"
      ],
      "metadata": {
        "id": "EuiPl3psnB9j"
      },
      "execution_count": null,
      "outputs": []
    },
    {
      "cell_type": "code",
      "execution_count": null,
      "metadata": {
        "id": "Yll-ov2pmyqw"
      },
      "outputs": [],
      "source": [
        "# Función de prueba\n",
        "def probar(modelo, x_prueba, y_prueba):\n",
        "    # Paso adelante\n",
        "    y_pred = modelo(x_prueba)\n",
        "\n",
        "    # Cálculo de la precisión\n",
        "    _, y_pred_max = torch.max(y_pred, dim=1)\n",
        "    acierto = (y_pred_max == y_prueba).sum().item() / len(y_prueba)\n",
        "\n",
        "    # Impresión de la precisión\n",
        "    print(f\"Precisión: {acierto:.2%}\")"
      ]
    },
    {
      "cell_type": "code",
      "source": [
        "# Ejemplo de uso\n",
        "\n",
        "# Carga del archivo CSV\n",
        "data = pd.read_csv('data.csv')\n",
        "\n",
        "# Conversión de los datos a tensores\n",
        "x_entrenamiento = torch.tensor(data['features'].to_numpy())\n",
        "y_entrenamiento = torch.tensor(data['label'].to_numpy())\n",
        "\n",
        "# Creación del modelo\n",
        "modelo = RedNeuronal()\n",
        "\n",
        "# Entrenamiento del modelo\n",
        "entrenar(modelo, x_entrenamiento, y_entrenamiento, epochs=10)"
      ],
      "metadata": {
        "id": "-DOq31AvnFQy"
      },
      "execution_count": null,
      "outputs": []
    },
    {
      "cell_type": "code",
      "source": [
        "# Prueba de datos de validación\n",
        "\n",
        "# Carga del archivo CSV\n",
        "data_validacion = pd.read_csv('data_validacion.csv')\n",
        "\n",
        "# Prueba del modelo\n",
        "x_entrenamiento = torch.tensor(data_validacion['features'].to_numpy())\n",
        "y_entrenamiento = torch.tensor(data_validacion['label'].to_numpy())\n",
        "probar(modelo, x_prueba, y_prueba)"
      ],
      "metadata": {
        "id": "pTXKzZEJncu7"
      },
      "execution_count": null,
      "outputs": []
    }
  ]
}
