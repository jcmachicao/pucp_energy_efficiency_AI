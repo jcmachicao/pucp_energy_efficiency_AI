{
  "cells": [
    {
      "cell_type": "markdown",
      "metadata": {
        "id": "view-in-github",
        "colab_type": "text"
      },
      "source": [
        "<a href=\"https://colab.research.google.com/github/jcmachicao/pucp_energy_efficiency_AI/blob/main/02_NeuralNetworks/hvac_data_02_prediction_neuralnetwork.ipynb\" target=\"_parent\"><img src=\"https://colab.research.google.com/assets/colab-badge.svg\" alt=\"Open In Colab\"/></a>"
      ]
    },
    {
      "cell_type": "code",
      "execution_count": 22,
      "id": "8d821005-bcb4-4dfc-9fee-878533899b62",
      "metadata": {
        "tags": [],
        "id": "8d821005-bcb4-4dfc-9fee-878533899b62"
      },
      "outputs": [],
      "source": [
        "import pandas as pd\n",
        "import matplotlib.pyplot as plt\n",
        "import seaborn as sns"
      ]
    },
    {
      "cell_type": "code",
      "source": [
        "# Replace with the actual URL of your CSV file\n",
        "url = 'https://github.com/jcmachicao/pucp_energy_efficiency_AI/raw/refs/heads/main/00_data/HVAC_dataset.xlsx'\n",
        "data = pd.read_excel(url)\n",
        "data.head(2)"
      ],
      "metadata": {
        "colab": {
          "base_uri": "https://localhost:8080/",
          "height": 202
        },
        "id": "7-2uf_dc3YMH",
        "outputId": "9c3f6eb5-281f-4008-ed89-66e21bd3778e"
      },
      "id": "7-2uf_dc3YMH",
      "execution_count": 23,
      "outputs": [
        {
          "output_type": "execute_result",
          "data": {
            "text/plain": [
              "                  Date  on_off  damper  active_energy  co2_1  amb_humid_1  \\\n",
              "0  2022-01-06 00:00:00     0.0     0.0      363150.69  975.0         35.0   \n",
              "1  2022-01-06 00:05:00     0.0     0.0            NaN  977.0         35.0   \n",
              "\n",
              "   active_power  pot_gen  high_pressure_1  high_pressure_2  low_pressure_1  \\\n",
              "0          0.36      4.0            15.09             15.0           15.27   \n",
              "1          0.36      NaN            15.03             14.9           15.21   \n",
              "\n",
              "   low_pressure_2  high_pressure_3  low_pressure_3  outside_temp  outlet_temp  \\\n",
              "0            15.1             15.2            15.2          23.4         24.2   \n",
              "1            15.0             15.2            15.1          23.3         24.2   \n",
              "\n",
              "   inlet_temp  summer_setpoint_temp  winter_setpoint_temp  amb_temp_2  \n",
              "0        22.8                  22.5                  18.0        23.4  \n",
              "1        22.7                  22.5                  18.0        23.3  "
            ],
            "text/html": [
              "\n",
              "  <div id=\"df-918be3f7-0a23-4a13-bd03-67fbeb6a6544\" class=\"colab-df-container\">\n",
              "    <div>\n",
              "<style scoped>\n",
              "    .dataframe tbody tr th:only-of-type {\n",
              "        vertical-align: middle;\n",
              "    }\n",
              "\n",
              "    .dataframe tbody tr th {\n",
              "        vertical-align: top;\n",
              "    }\n",
              "\n",
              "    .dataframe thead th {\n",
              "        text-align: right;\n",
              "    }\n",
              "</style>\n",
              "<table border=\"1\" class=\"dataframe\">\n",
              "  <thead>\n",
              "    <tr style=\"text-align: right;\">\n",
              "      <th></th>\n",
              "      <th>Date</th>\n",
              "      <th>on_off</th>\n",
              "      <th>damper</th>\n",
              "      <th>active_energy</th>\n",
              "      <th>co2_1</th>\n",
              "      <th>amb_humid_1</th>\n",
              "      <th>active_power</th>\n",
              "      <th>pot_gen</th>\n",
              "      <th>high_pressure_1</th>\n",
              "      <th>high_pressure_2</th>\n",
              "      <th>low_pressure_1</th>\n",
              "      <th>low_pressure_2</th>\n",
              "      <th>high_pressure_3</th>\n",
              "      <th>low_pressure_3</th>\n",
              "      <th>outside_temp</th>\n",
              "      <th>outlet_temp</th>\n",
              "      <th>inlet_temp</th>\n",
              "      <th>summer_setpoint_temp</th>\n",
              "      <th>winter_setpoint_temp</th>\n",
              "      <th>amb_temp_2</th>\n",
              "    </tr>\n",
              "  </thead>\n",
              "  <tbody>\n",
              "    <tr>\n",
              "      <th>0</th>\n",
              "      <td>2022-01-06 00:00:00</td>\n",
              "      <td>0.0</td>\n",
              "      <td>0.0</td>\n",
              "      <td>363150.69</td>\n",
              "      <td>975.0</td>\n",
              "      <td>35.0</td>\n",
              "      <td>0.36</td>\n",
              "      <td>4.0</td>\n",
              "      <td>15.09</td>\n",
              "      <td>15.0</td>\n",
              "      <td>15.27</td>\n",
              "      <td>15.1</td>\n",
              "      <td>15.2</td>\n",
              "      <td>15.2</td>\n",
              "      <td>23.4</td>\n",
              "      <td>24.2</td>\n",
              "      <td>22.8</td>\n",
              "      <td>22.5</td>\n",
              "      <td>18.0</td>\n",
              "      <td>23.4</td>\n",
              "    </tr>\n",
              "    <tr>\n",
              "      <th>1</th>\n",
              "      <td>2022-01-06 00:05:00</td>\n",
              "      <td>0.0</td>\n",
              "      <td>0.0</td>\n",
              "      <td>NaN</td>\n",
              "      <td>977.0</td>\n",
              "      <td>35.0</td>\n",
              "      <td>0.36</td>\n",
              "      <td>NaN</td>\n",
              "      <td>15.03</td>\n",
              "      <td>14.9</td>\n",
              "      <td>15.21</td>\n",
              "      <td>15.0</td>\n",
              "      <td>15.2</td>\n",
              "      <td>15.1</td>\n",
              "      <td>23.3</td>\n",
              "      <td>24.2</td>\n",
              "      <td>22.7</td>\n",
              "      <td>22.5</td>\n",
              "      <td>18.0</td>\n",
              "      <td>23.3</td>\n",
              "    </tr>\n",
              "  </tbody>\n",
              "</table>\n",
              "</div>\n",
              "    <div class=\"colab-df-buttons\">\n",
              "\n",
              "  <div class=\"colab-df-container\">\n",
              "    <button class=\"colab-df-convert\" onclick=\"convertToInteractive('df-918be3f7-0a23-4a13-bd03-67fbeb6a6544')\"\n",
              "            title=\"Convert this dataframe to an interactive table.\"\n",
              "            style=\"display:none;\">\n",
              "\n",
              "  <svg xmlns=\"http://www.w3.org/2000/svg\" height=\"24px\" viewBox=\"0 -960 960 960\">\n",
              "    <path d=\"M120-120v-720h720v720H120Zm60-500h600v-160H180v160Zm220 220h160v-160H400v160Zm0 220h160v-160H400v160ZM180-400h160v-160H180v160Zm440 0h160v-160H620v160ZM180-180h160v-160H180v160Zm440 0h160v-160H620v160Z\"/>\n",
              "  </svg>\n",
              "    </button>\n",
              "\n",
              "  <style>\n",
              "    .colab-df-container {\n",
              "      display:flex;\n",
              "      gap: 12px;\n",
              "    }\n",
              "\n",
              "    .colab-df-convert {\n",
              "      background-color: #E8F0FE;\n",
              "      border: none;\n",
              "      border-radius: 50%;\n",
              "      cursor: pointer;\n",
              "      display: none;\n",
              "      fill: #1967D2;\n",
              "      height: 32px;\n",
              "      padding: 0 0 0 0;\n",
              "      width: 32px;\n",
              "    }\n",
              "\n",
              "    .colab-df-convert:hover {\n",
              "      background-color: #E2EBFA;\n",
              "      box-shadow: 0px 1px 2px rgba(60, 64, 67, 0.3), 0px 1px 3px 1px rgba(60, 64, 67, 0.15);\n",
              "      fill: #174EA6;\n",
              "    }\n",
              "\n",
              "    .colab-df-buttons div {\n",
              "      margin-bottom: 4px;\n",
              "    }\n",
              "\n",
              "    [theme=dark] .colab-df-convert {\n",
              "      background-color: #3B4455;\n",
              "      fill: #D2E3FC;\n",
              "    }\n",
              "\n",
              "    [theme=dark] .colab-df-convert:hover {\n",
              "      background-color: #434B5C;\n",
              "      box-shadow: 0px 1px 3px 1px rgba(0, 0, 0, 0.15);\n",
              "      filter: drop-shadow(0px 1px 2px rgba(0, 0, 0, 0.3));\n",
              "      fill: #FFFFFF;\n",
              "    }\n",
              "  </style>\n",
              "\n",
              "    <script>\n",
              "      const buttonEl =\n",
              "        document.querySelector('#df-918be3f7-0a23-4a13-bd03-67fbeb6a6544 button.colab-df-convert');\n",
              "      buttonEl.style.display =\n",
              "        google.colab.kernel.accessAllowed ? 'block' : 'none';\n",
              "\n",
              "      async function convertToInteractive(key) {\n",
              "        const element = document.querySelector('#df-918be3f7-0a23-4a13-bd03-67fbeb6a6544');\n",
              "        const dataTable =\n",
              "          await google.colab.kernel.invokeFunction('convertToInteractive',\n",
              "                                                    [key], {});\n",
              "        if (!dataTable) return;\n",
              "\n",
              "        const docLinkHtml = 'Like what you see? Visit the ' +\n",
              "          '<a target=\"_blank\" href=https://colab.research.google.com/notebooks/data_table.ipynb>data table notebook</a>'\n",
              "          + ' to learn more about interactive tables.';\n",
              "        element.innerHTML = '';\n",
              "        dataTable['output_type'] = 'display_data';\n",
              "        await google.colab.output.renderOutput(dataTable, element);\n",
              "        const docLink = document.createElement('div');\n",
              "        docLink.innerHTML = docLinkHtml;\n",
              "        element.appendChild(docLink);\n",
              "      }\n",
              "    </script>\n",
              "  </div>\n",
              "\n",
              "\n",
              "<div id=\"df-651bb28d-a003-495c-8d95-2e450bd25320\">\n",
              "  <button class=\"colab-df-quickchart\" onclick=\"quickchart('df-651bb28d-a003-495c-8d95-2e450bd25320')\"\n",
              "            title=\"Suggest charts\"\n",
              "            style=\"display:none;\">\n",
              "\n",
              "<svg xmlns=\"http://www.w3.org/2000/svg\" height=\"24px\"viewBox=\"0 0 24 24\"\n",
              "     width=\"24px\">\n",
              "    <g>\n",
              "        <path d=\"M19 3H5c-1.1 0-2 .9-2 2v14c0 1.1.9 2 2 2h14c1.1 0 2-.9 2-2V5c0-1.1-.9-2-2-2zM9 17H7v-7h2v7zm4 0h-2V7h2v10zm4 0h-2v-4h2v4z\"/>\n",
              "    </g>\n",
              "</svg>\n",
              "  </button>\n",
              "\n",
              "<style>\n",
              "  .colab-df-quickchart {\n",
              "      --bg-color: #E8F0FE;\n",
              "      --fill-color: #1967D2;\n",
              "      --hover-bg-color: #E2EBFA;\n",
              "      --hover-fill-color: #174EA6;\n",
              "      --disabled-fill-color: #AAA;\n",
              "      --disabled-bg-color: #DDD;\n",
              "  }\n",
              "\n",
              "  [theme=dark] .colab-df-quickchart {\n",
              "      --bg-color: #3B4455;\n",
              "      --fill-color: #D2E3FC;\n",
              "      --hover-bg-color: #434B5C;\n",
              "      --hover-fill-color: #FFFFFF;\n",
              "      --disabled-bg-color: #3B4455;\n",
              "      --disabled-fill-color: #666;\n",
              "  }\n",
              "\n",
              "  .colab-df-quickchart {\n",
              "    background-color: var(--bg-color);\n",
              "    border: none;\n",
              "    border-radius: 50%;\n",
              "    cursor: pointer;\n",
              "    display: none;\n",
              "    fill: var(--fill-color);\n",
              "    height: 32px;\n",
              "    padding: 0;\n",
              "    width: 32px;\n",
              "  }\n",
              "\n",
              "  .colab-df-quickchart:hover {\n",
              "    background-color: var(--hover-bg-color);\n",
              "    box-shadow: 0 1px 2px rgba(60, 64, 67, 0.3), 0 1px 3px 1px rgba(60, 64, 67, 0.15);\n",
              "    fill: var(--button-hover-fill-color);\n",
              "  }\n",
              "\n",
              "  .colab-df-quickchart-complete:disabled,\n",
              "  .colab-df-quickchart-complete:disabled:hover {\n",
              "    background-color: var(--disabled-bg-color);\n",
              "    fill: var(--disabled-fill-color);\n",
              "    box-shadow: none;\n",
              "  }\n",
              "\n",
              "  .colab-df-spinner {\n",
              "    border: 2px solid var(--fill-color);\n",
              "    border-color: transparent;\n",
              "    border-bottom-color: var(--fill-color);\n",
              "    animation:\n",
              "      spin 1s steps(1) infinite;\n",
              "  }\n",
              "\n",
              "  @keyframes spin {\n",
              "    0% {\n",
              "      border-color: transparent;\n",
              "      border-bottom-color: var(--fill-color);\n",
              "      border-left-color: var(--fill-color);\n",
              "    }\n",
              "    20% {\n",
              "      border-color: transparent;\n",
              "      border-left-color: var(--fill-color);\n",
              "      border-top-color: var(--fill-color);\n",
              "    }\n",
              "    30% {\n",
              "      border-color: transparent;\n",
              "      border-left-color: var(--fill-color);\n",
              "      border-top-color: var(--fill-color);\n",
              "      border-right-color: var(--fill-color);\n",
              "    }\n",
              "    40% {\n",
              "      border-color: transparent;\n",
              "      border-right-color: var(--fill-color);\n",
              "      border-top-color: var(--fill-color);\n",
              "    }\n",
              "    60% {\n",
              "      border-color: transparent;\n",
              "      border-right-color: var(--fill-color);\n",
              "    }\n",
              "    80% {\n",
              "      border-color: transparent;\n",
              "      border-right-color: var(--fill-color);\n",
              "      border-bottom-color: var(--fill-color);\n",
              "    }\n",
              "    90% {\n",
              "      border-color: transparent;\n",
              "      border-bottom-color: var(--fill-color);\n",
              "    }\n",
              "  }\n",
              "</style>\n",
              "\n",
              "  <script>\n",
              "    async function quickchart(key) {\n",
              "      const quickchartButtonEl =\n",
              "        document.querySelector('#' + key + ' button');\n",
              "      quickchartButtonEl.disabled = true;  // To prevent multiple clicks.\n",
              "      quickchartButtonEl.classList.add('colab-df-spinner');\n",
              "      try {\n",
              "        const charts = await google.colab.kernel.invokeFunction(\n",
              "            'suggestCharts', [key], {});\n",
              "      } catch (error) {\n",
              "        console.error('Error during call to suggestCharts:', error);\n",
              "      }\n",
              "      quickchartButtonEl.classList.remove('colab-df-spinner');\n",
              "      quickchartButtonEl.classList.add('colab-df-quickchart-complete');\n",
              "    }\n",
              "    (() => {\n",
              "      let quickchartButtonEl =\n",
              "        document.querySelector('#df-651bb28d-a003-495c-8d95-2e450bd25320 button');\n",
              "      quickchartButtonEl.style.display =\n",
              "        google.colab.kernel.accessAllowed ? 'block' : 'none';\n",
              "    })();\n",
              "  </script>\n",
              "</div>\n",
              "\n",
              "    </div>\n",
              "  </div>\n"
            ],
            "application/vnd.google.colaboratory.intrinsic+json": {
              "type": "dataframe",
              "variable_name": "data",
              "summary": "{\n  \"name\": \"data\",\n  \"rows\": 25632,\n  \"fields\": [\n    {\n      \"column\": \"Date\",\n      \"properties\": {\n        \"dtype\": \"date\",\n        \"min\": \"2022-01-06 00:00:00\",\n        \"max\": \"2022-12-08 23:55:00\",\n        \"num_unique_values\": 25632,\n        \"samples\": [\n          \"15/08/22 03:00\",\n          \"28/07/22 04:05\",\n          \"18/06/22 06:50\"\n        ],\n        \"semantic_type\": \"\",\n        \"description\": \"\"\n      }\n    },\n    {\n      \"column\": \"on_off\",\n      \"properties\": {\n        \"dtype\": \"number\",\n        \"std\": 0.49494327587523834,\n        \"min\": 0.0,\n        \"max\": 1.0,\n        \"num_unique_values\": 2,\n        \"samples\": [\n          1.0,\n          0.0\n        ],\n        \"semantic_type\": \"\",\n        \"description\": \"\"\n      }\n    },\n    {\n      \"column\": \"damper\",\n      \"properties\": {\n        \"dtype\": \"number\",\n        \"std\": 16.82042107744833,\n        \"min\": 0.0,\n        \"max\": 100.0,\n        \"num_unique_values\": 76,\n        \"samples\": [\n          7.0,\n          1.0\n        ],\n        \"semantic_type\": \"\",\n        \"description\": \"\"\n      }\n    },\n    {\n      \"column\": \"active_energy\",\n      \"properties\": {\n        \"dtype\": \"number\",\n        \"std\": 9254.471091182157,\n        \"min\": 363150.69,\n        \"max\": 392924.91,\n        \"num_unique_values\": 8518,\n        \"samples\": [\n          390141.88,\n          382610.47\n        ],\n        \"semantic_type\": \"\",\n        \"description\": \"\"\n      }\n    },\n    {\n      \"column\": \"co2_1\",\n      \"properties\": {\n        \"dtype\": \"number\",\n        \"std\": 101.44578918741621,\n        \"min\": 955.0,\n        \"max\": 1482.0,\n        \"num_unique_values\": 205,\n        \"samples\": [\n          1060.0,\n          1012.0\n        ],\n        \"semantic_type\": \"\",\n        \"description\": \"\"\n      }\n    },\n    {\n      \"column\": \"amb_humid_1\",\n      \"properties\": {\n        \"dtype\": \"number\",\n        \"std\": 6.444740320413366,\n        \"min\": 0.0,\n        \"max\": 62.0,\n        \"num_unique_values\": 40,\n        \"samples\": [\n          51.0,\n          33.0\n        ],\n        \"semantic_type\": \"\",\n        \"description\": \"\"\n      }\n    },\n    {\n      \"column\": \"active_power\",\n      \"properties\": {\n        \"dtype\": \"number\",\n        \"std\": 17.65876660804048,\n        \"min\": 0.32,\n        \"max\": 57.72,\n        \"num_unique_values\": 822,\n        \"samples\": [\n          48.68,\n          30.0\n        ],\n        \"semantic_type\": \"\",\n        \"description\": \"\"\n      }\n    },\n    {\n      \"column\": \"pot_gen\",\n      \"properties\": {\n        \"dtype\": \"number\",\n        \"std\": 23.8232487223428,\n        \"min\": 0.0,\n        \"max\": 77.0,\n        \"num_unique_values\": 73,\n        \"samples\": [\n          36.0,\n          51.0\n        ],\n        \"semantic_type\": \"\",\n        \"description\": \"\"\n      }\n    },\n    {\n      \"column\": \"high_pressure_1\",\n      \"properties\": {\n        \"dtype\": \"number\",\n        \"std\": 5.734787250970689,\n        \"min\": 10.22,\n        \"max\": 34.3,\n        \"num_unique_values\": 369,\n        \"samples\": [\n          26.36,\n          12.99\n        ],\n        \"semantic_type\": \"\",\n        \"description\": \"\"\n      }\n    },\n    {\n      \"column\": \"high_pressure_2\",\n      \"properties\": {\n        \"dtype\": \"number\",\n        \"std\": 5.521055424918607,\n        \"min\": 11.0,\n        \"max\": 33.5,\n        \"num_unique_values\": 225,\n        \"samples\": [\n          14.1,\n          30.5\n        ],\n        \"semantic_type\": \"\",\n        \"description\": \"\"\n      }\n    },\n    {\n      \"column\": \"low_pressure_1\",\n      \"properties\": {\n        \"dtype\": \"number\",\n        \"std\": 3.7869480161703444,\n        \"min\": 7.08,\n        \"max\": 24.82,\n        \"num_unique_values\": 289,\n        \"samples\": [\n          8.62,\n          18.04\n        ],\n        \"semantic_type\": \"\",\n        \"description\": \"\"\n      }\n    },\n    {\n      \"column\": \"low_pressure_2\",\n      \"properties\": {\n        \"dtype\": \"number\",\n        \"std\": 3.5031895942556894,\n        \"min\": 7.2,\n        \"max\": 24.3,\n        \"num_unique_values\": 171,\n        \"samples\": [\n          19.4,\n          11.9\n        ],\n        \"semantic_type\": \"\",\n        \"description\": \"\"\n      }\n    },\n    {\n      \"column\": \"high_pressure_3\",\n      \"properties\": {\n        \"dtype\": \"number\",\n        \"std\": 2.1470102262609125,\n        \"min\": 11.2,\n        \"max\": 25.5,\n        \"num_unique_values\": 144,\n        \"samples\": [\n          23.4,\n          13.3\n        ],\n        \"semantic_type\": \"\",\n        \"description\": \"\"\n      }\n    },\n    {\n      \"column\": \"low_pressure_3\",\n      \"properties\": {\n        \"dtype\": \"number\",\n        \"std\": 2.136827840516189,\n        \"min\": 11.1,\n        \"max\": 25.5,\n        \"num_unique_values\": 145,\n        \"samples\": [\n          18.1,\n          25.1\n        ],\n        \"semantic_type\": \"\",\n        \"description\": \"\"\n      }\n    },\n    {\n      \"column\": \"outside_temp\",\n      \"properties\": {\n        \"dtype\": \"number\",\n        \"std\": 6.883144530632566,\n        \"min\": 13.3,\n        \"max\": 49.5,\n        \"num_unique_values\": 355,\n        \"samples\": [\n          14.7,\n          17.7\n        ],\n        \"semantic_type\": \"\",\n        \"description\": \"\"\n      }\n    },\n    {\n      \"column\": \"outlet_temp\",\n      \"properties\": {\n        \"dtype\": \"number\",\n        \"std\": 7.420254240459,\n        \"min\": 7.0,\n        \"max\": 50.0,\n        \"num_unique_values\": 418,\n        \"samples\": [\n          48.8,\n          48.2\n        ],\n        \"semantic_type\": \"\",\n        \"description\": \"\"\n      }\n    },\n    {\n      \"column\": \"inlet_temp\",\n      \"properties\": {\n        \"dtype\": \"number\",\n        \"std\": 6.155405955193847,\n        \"min\": 14.2,\n        \"max\": 54.3,\n        \"num_unique_values\": 401,\n        \"samples\": [\n          31.0,\n          26.7\n        ],\n        \"semantic_type\": \"\",\n        \"description\": \"\"\n      }\n    },\n    {\n      \"column\": \"summer_setpoint_temp\",\n      \"properties\": {\n        \"dtype\": \"number\",\n        \"std\": 0.9464790665934201,\n        \"min\": 22.0,\n        \"max\": 25.0,\n        \"num_unique_values\": 18,\n        \"samples\": [\n          22.5,\n          22.0\n        ],\n        \"semantic_type\": \"\",\n        \"description\": \"\"\n      }\n    },\n    {\n      \"column\": \"winter_setpoint_temp\",\n      \"properties\": {\n        \"dtype\": \"number\",\n        \"std\": 1.2045284645068066,\n        \"min\": 18.0,\n        \"max\": 22.0,\n        \"num_unique_values\": 6,\n        \"samples\": [\n          18.0,\n          22.0\n        ],\n        \"semantic_type\": \"\",\n        \"description\": \"\"\n      }\n    },\n    {\n      \"column\": \"amb_temp_2\",\n      \"properties\": {\n        \"dtype\": \"number\",\n        \"std\": 1.2839681781429368,\n        \"min\": 0.0,\n        \"max\": 27.1,\n        \"num_unique_values\": 52,\n        \"samples\": [\n          24.0,\n          26.0\n        ],\n        \"semantic_type\": \"\",\n        \"description\": \"\"\n      }\n    }\n  ]\n}"
            }
          },
          "metadata": {},
          "execution_count": 23
        }
      ]
    },
    {
      "cell_type": "code",
      "execution_count": 24,
      "id": "31cb3300-567b-4a83-9c17-fdf6212e2833",
      "metadata": {
        "tags": [],
        "colab": {
          "base_uri": "https://localhost:8080/"
        },
        "id": "31cb3300-567b-4a83-9c17-fdf6212e2833",
        "outputId": "5e2f7a5d-e195-4f22-a9cb-7d5e8bafe017"
      },
      "outputs": [
        {
          "output_type": "stream",
          "name": "stdout",
          "text": [
            "<class 'pandas.core.frame.DataFrame'>\n",
            "RangeIndex: 25632 entries, 0 to 25631\n",
            "Data columns (total 20 columns):\n",
            " #   Column                Non-Null Count  Dtype  \n",
            "---  ------                --------------  -----  \n",
            " 0   Date                  25632 non-null  object \n",
            " 1   on_off                25632 non-null  float64\n",
            " 2   damper                25632 non-null  float64\n",
            " 3   active_energy         25630 non-null  float64\n",
            " 4   co2_1                 25632 non-null  float64\n",
            " 5   amb_humid_1           25632 non-null  float64\n",
            " 6   active_power          25632 non-null  float64\n",
            " 7   pot_gen               25630 non-null  float64\n",
            " 8   high_pressure_1       25632 non-null  float64\n",
            " 9   high_pressure_2       25632 non-null  float64\n",
            " 10  low_pressure_1        25632 non-null  float64\n",
            " 11  low_pressure_2        25632 non-null  float64\n",
            " 12  high_pressure_3       25632 non-null  float64\n",
            " 13  low_pressure_3        25632 non-null  float64\n",
            " 14  outside_temp          25632 non-null  float64\n",
            " 15  outlet_temp           25632 non-null  float64\n",
            " 16  inlet_temp            25632 non-null  float64\n",
            " 17  summer_setpoint_temp  25632 non-null  float64\n",
            " 18  winter_setpoint_temp  25632 non-null  float64\n",
            " 19  amb_temp_2            25632 non-null  float64\n",
            "dtypes: float64(19), object(1)\n",
            "memory usage: 3.9+ MB\n"
          ]
        },
        {
          "output_type": "stream",
          "name": "stderr",
          "text": [
            "<ipython-input-24-58fa1ef74984>:1: FutureWarning: DataFrame.fillna with 'method' is deprecated and will raise in a future version. Use obj.ffill() or obj.bfill() instead.\n",
            "  data.fillna(method=\"bfill\", inplace=True)\n"
          ]
        }
      ],
      "source": [
        "data.fillna(method=\"bfill\", inplace=True)\n",
        "data.info()"
      ]
    },
    {
      "cell_type": "code",
      "execution_count": 25,
      "id": "d34f00a3-b3e0-42b7-a560-fca83ce249ac",
      "metadata": {
        "tags": [],
        "id": "d34f00a3-b3e0-42b7-a560-fca83ce249ac",
        "outputId": "190da713-37d8-497b-f530-66b7668c642e",
        "colab": {
          "base_uri": "https://localhost:8080/"
        }
      },
      "outputs": [
        {
          "output_type": "execute_result",
          "data": {
            "text/plain": [
              "0"
            ]
          },
          "metadata": {},
          "execution_count": 25
        }
      ],
      "source": [
        "data.Date.isna().sum()"
      ]
    },
    {
      "cell_type": "code",
      "execution_count": 5,
      "id": "27545eba-d98f-4561-9d64-a833869bf7fa",
      "metadata": {
        "tags": [],
        "id": "27545eba-d98f-4561-9d64-a833869bf7fa",
        "outputId": "a3e46c3c-3104-4895-d86e-ce334186e370",
        "colab": {
          "base_uri": "https://localhost:8080/"
        }
      },
      "outputs": [
        {
          "output_type": "stream",
          "name": "stderr",
          "text": [
            "<ipython-input-5-cf9c410c4bfa>:1: UserWarning: The argument 'infer_datetime_format' is deprecated and will be removed in a future version. A strict version of it is now the default, see https://pandas.pydata.org/pdeps/0004-consistent-to-datetime-parsing.html. You can safely remove this argument.\n",
            "  data['Date'] = pd.to_datetime(data['Date'], errors='coerce', infer_datetime_format=True)\n"
          ]
        }
      ],
      "source": [
        "data['Date'] = pd.to_datetime(data['Date'], errors='coerce', infer_datetime_format=True)\n",
        "data.set_index('Date', inplace=True)"
      ]
    },
    {
      "cell_type": "code",
      "execution_count": 6,
      "id": "bad3984e-c88b-49ee-9b09-2edb65d46157",
      "metadata": {
        "tags": [],
        "id": "bad3984e-c88b-49ee-9b09-2edb65d46157"
      },
      "outputs": [],
      "source": [
        "import pandas as pd\n",
        "from sklearn.preprocessing import MinMaxScaler, StandardScaler"
      ]
    },
    {
      "cell_type": "code",
      "execution_count": 7,
      "id": "66bb2911-9c4a-4c25-8348-fc79c69450bc",
      "metadata": {
        "tags": [],
        "id": "66bb2911-9c4a-4c25-8348-fc79c69450bc"
      },
      "outputs": [],
      "source": [
        "scaler = MinMaxScaler()\n",
        "df = pd.DataFrame(scaler.fit_transform(data), columns=data.columns)\n",
        "df.index = data.index"
      ]
    },
    {
      "cell_type": "code",
      "execution_count": 8,
      "id": "48274e4f-ea92-4aee-854b-0616ece6a11e",
      "metadata": {
        "tags": [],
        "id": "48274e4f-ea92-4aee-854b-0616ece6a11e",
        "outputId": "9908bd3c-b269-4498-d034-7628e658062a",
        "colab": {
          "base_uri": "https://localhost:8080/"
        }
      },
      "outputs": [
        {
          "output_type": "execute_result",
          "data": {
            "text/plain": [
              "Index([1, 2, 3, 4, 5, 6, 7, 8, 9, 10, 11, 12], dtype='int32', name='Date')"
            ]
          },
          "metadata": {},
          "execution_count": 8
        }
      ],
      "source": [
        "df.index.month.unique()"
      ]
    },
    {
      "cell_type": "code",
      "source": [
        "df.columns"
      ],
      "metadata": {
        "colab": {
          "base_uri": "https://localhost:8080/"
        },
        "id": "hLdE2u7kBu5x",
        "outputId": "ef81a517-6121-4ef3-9780-e8ed4b4f2678"
      },
      "id": "hLdE2u7kBu5x",
      "execution_count": 9,
      "outputs": [
        {
          "output_type": "execute_result",
          "data": {
            "text/plain": [
              "Index(['on_off', 'damper', 'active_energy', 'co2_1', 'amb_humid_1',\n",
              "       'active_power', 'pot_gen', 'high_pressure_1', 'high_pressure_2',\n",
              "       'low_pressure_1', 'low_pressure_2', 'high_pressure_3', 'low_pressure_3',\n",
              "       'outside_temp', 'outlet_temp', 'inlet_temp', 'summer_setpoint_temp',\n",
              "       'winter_setpoint_temp', 'amb_temp_2'],\n",
              "      dtype='object')"
            ]
          },
          "metadata": {},
          "execution_count": 9
        }
      ]
    },
    {
      "cell_type": "code",
      "execution_count": 10,
      "id": "bf461595-e546-4f01-b071-ec94a276cfaa",
      "metadata": {
        "tags": [],
        "id": "bf461595-e546-4f01-b071-ec94a276cfaa"
      },
      "outputs": [],
      "source": [
        "from sklearn.model_selection import train_test_split\n",
        "from sklearn.model_selection import cross_val_score\n",
        "from sklearn.linear_model import LogisticRegression, LinearRegression\n",
        "from sklearn.ensemble import RandomForestClassifier\n",
        "from sklearn.tree import DecisionTreeClassifier"
      ]
    },
    {
      "cell_type": "markdown",
      "source": [
        "## Neural Network"
      ],
      "metadata": {
        "id": "cudp4-c0CGLf"
      },
      "id": "cudp4-c0CGLf"
    },
    {
      "cell_type": "code",
      "source": [
        "features_nn = [\"inlet_temp\", \"outside_temp\", \"amb_humid_1\", 'active_power', 'high_pressure_1', 'low_pressure_1']"
      ],
      "metadata": {
        "id": "SJ2N8tbkAW_3"
      },
      "id": "SJ2N8tbkAW_3",
      "execution_count": 11,
      "outputs": []
    },
    {
      "cell_type": "code",
      "source": [
        "output_variable_nn = 'co2_1'"
      ],
      "metadata": {
        "id": "UidxUgf3_QLo"
      },
      "id": "UidxUgf3_QLo",
      "execution_count": 12,
      "outputs": []
    },
    {
      "cell_type": "code",
      "source": [
        "target = output_variable_nn"
      ],
      "metadata": {
        "id": "D5LZwUf7Aj42"
      },
      "id": "D5LZwUf7Aj42",
      "execution_count": 13,
      "outputs": []
    },
    {
      "cell_type": "code",
      "source": [
        "X = df[features_nn]\n",
        "y = df[target]"
      ],
      "metadata": {
        "id": "xdG_kwmBCNMf"
      },
      "id": "xdG_kwmBCNMf",
      "execution_count": 14,
      "outputs": []
    },
    {
      "cell_type": "code",
      "execution_count": 15,
      "id": "2c5e76dd-37df-45a6-99a6-a749c9cf3718",
      "metadata": {
        "tags": [],
        "id": "2c5e76dd-37df-45a6-99a6-a749c9cf3718"
      },
      "outputs": [],
      "source": [
        "X_train, X_test, y_train, y_test = train_test_split(X, y, random_state=42, shuffle=True)"
      ]
    },
    {
      "cell_type": "code",
      "execution_count": 16,
      "id": "e8c712d9-c71a-4f75-a439-51a15f566bd8",
      "metadata": {
        "tags": [],
        "id": "e8c712d9-c71a-4f75-a439-51a15f566bd8",
        "outputId": "5125f001-7481-4b6f-876d-14ced986fffd",
        "colab": {
          "base_uri": "https://localhost:8080/"
        }
      },
      "outputs": [
        {
          "output_type": "execute_result",
          "data": {
            "text/plain": [
              "((19224, 6), (6408, 6), (19224,), (6408,))"
            ]
          },
          "metadata": {},
          "execution_count": 16
        }
      ],
      "source": [
        "X_train.shape, X_test.shape, y_train.shape, y_test.shape"
      ]
    },
    {
      "cell_type": "code",
      "source": [
        "X.isna().sum(), y.isna().sum()"
      ],
      "metadata": {
        "colab": {
          "base_uri": "https://localhost:8080/"
        },
        "id": "BX-VrVJoCabN",
        "outputId": "72be08e8-8baf-4dc1-d085-cbea3c76432b"
      },
      "id": "BX-VrVJoCabN",
      "execution_count": 17,
      "outputs": [
        {
          "output_type": "execute_result",
          "data": {
            "text/plain": [
              "(inlet_temp         0\n",
              " outside_temp       0\n",
              " amb_humid_1        0\n",
              " active_power       0\n",
              " high_pressure_1    0\n",
              " low_pressure_1     0\n",
              " dtype: int64,\n",
              " 0)"
            ]
          },
          "metadata": {},
          "execution_count": 17
        }
      ]
    },
    {
      "cell_type": "code",
      "execution_count": 18,
      "id": "a1927f97-a569-4258-8d77-4ad9001adf97",
      "metadata": {
        "tags": [],
        "id": "a1927f97-a569-4258-8d77-4ad9001adf97"
      },
      "outputs": [],
      "source": [
        "import torch\n",
        "import torch.nn as nn\n",
        "\n",
        "# Define the neural network\n",
        "class SimpleRegressionNet(nn.Module):\n",
        "    def __init__(self, input_size, hidden_size, output_size):\n",
        "        super(SimpleRegressionNet, self).__init__()\n",
        "        self.fc1 = nn.Linear(input_size, hidden_size)\n",
        "        self.fc2 = nn.Linear(hidden_size, hidden_size)\n",
        "        self.fc3 = nn.Linear(hidden_size, 4)\n",
        "        self.fc4 = nn.Linear(4, output_size)\n",
        "        self.relu = nn.LeakyReLU()\n",
        "\n",
        "    def forward(self, x):\n",
        "        x = self.relu(self.fc1(x))\n",
        "        x = self.relu(self.fc2(x))\n",
        "        x = self.relu(self.fc3(x))\n",
        "        x = self.fc4(x)\n",
        "        return x"
      ]
    },
    {
      "cell_type": "code",
      "execution_count": 19,
      "id": "c7d8aa0e-646b-4982-9f86-efeacef72373",
      "metadata": {
        "tags": [],
        "id": "c7d8aa0e-646b-4982-9f86-efeacef72373"
      },
      "outputs": [],
      "source": [
        "# Hyperparameters\n",
        "input_size = X_train.shape[1]\n",
        "hidden_size = 64\n",
        "output_size = 1\n",
        "\n",
        "# Create the model\n",
        "model_nn = SimpleRegressionNet(input_size, hidden_size, output_size)\n",
        "\n",
        "#criterion = nn.MSELoss()\n",
        "criterion = nn.SmoothL1Loss()\n",
        "optimizer = torch.optim.Adam(model_nn.parameters(), lr=0.001)"
      ]
    },
    {
      "cell_type": "code",
      "execution_count": 20,
      "id": "65b34696-8269-422d-ad63-078c901774cf",
      "metadata": {
        "tags": [],
        "id": "65b34696-8269-422d-ad63-078c901774cf"
      },
      "outputs": [],
      "source": [
        "inputs = torch.tensor(X_train.values, dtype=torch.float32)\n",
        "labels = torch.tensor(y_train.values, dtype=torch.float32)"
      ]
    },
    {
      "cell_type": "code",
      "execution_count": 21,
      "id": "008d5233-99fe-4329-9d3f-b005ad10968a",
      "metadata": {
        "tags": [],
        "id": "008d5233-99fe-4329-9d3f-b005ad10968a",
        "outputId": "c09a896c-9494-40a5-b377-3e75d07cf23d",
        "colab": {
          "base_uri": "https://localhost:8080/"
        }
      },
      "outputs": [
        {
          "output_type": "stream",
          "name": "stderr",
          "text": [
            "/usr/local/lib/python3.10/dist-packages/torch/nn/modules/loss.py:1040: UserWarning: Using a target size (torch.Size([19224])) that is different to the input size (torch.Size([19224, 1])). This will likely lead to incorrect results due to broadcasting. Please ensure they have the same size.\n",
            "  return F.smooth_l1_loss(input, target, reduction=self.reduction, beta=self.beta)\n"
          ]
        },
        {
          "output_type": "stream",
          "name": "stdout",
          "text": [
            "Epoch [10/200], Loss: 0.1507\n",
            "Epoch [20/200], Loss: 0.1259\n",
            "Epoch [30/200], Loss: 0.0897\n",
            "Epoch [40/200], Loss: 0.0459\n",
            "Epoch [50/200], Loss: 0.0207\n",
            "Epoch [60/200], Loss: 0.0233\n",
            "Epoch [70/200], Loss: 0.0198\n",
            "Epoch [80/200], Loss: 0.0197\n",
            "Epoch [90/200], Loss: 0.0192\n",
            "Epoch [100/200], Loss: 0.0190\n",
            "Epoch [110/200], Loss: 0.0187\n",
            "Epoch [120/200], Loss: 0.0186\n",
            "Epoch [130/200], Loss: 0.0185\n",
            "Epoch [140/200], Loss: 0.0185\n",
            "Epoch [150/200], Loss: 0.0185\n",
            "Epoch [160/200], Loss: 0.0185\n",
            "Epoch [170/200], Loss: 0.0185\n",
            "Epoch [180/200], Loss: 0.0185\n",
            "Epoch [190/200], Loss: 0.0185\n",
            "Epoch [200/200], Loss: 0.0185\n"
          ]
        }
      ],
      "source": [
        "epochs = 200\n",
        "\n",
        "# Training loop\n",
        "for epoch in range(epochs):\n",
        "    # Forward pass\n",
        "    outputs = model_nn(inputs)\n",
        "    loss = criterion(outputs, labels)\n",
        "\n",
        "    # Backward and optimize\n",
        "    optimizer.zero_grad()\n",
        "    loss.backward()\n",
        "    optimizer.step()\n",
        "\n",
        "    if (epoch+1) % 10 == 0:\n",
        "        print(f'Epoch [{epoch+1}/{epochs}], Loss: {loss.item():.4f}')"
      ]
    },
    {
      "cell_type": "code",
      "execution_count": 26,
      "id": "47a75138-18a3-4c43-9cd4-afb5a2453e3e",
      "metadata": {
        "tags": [],
        "id": "47a75138-18a3-4c43-9cd4-afb5a2453e3e"
      },
      "outputs": [],
      "source": [
        "validation_data = torch.tensor(X_test.values, dtype=torch.float32)\n",
        "validation_labels = torch.tensor(y_test.values, dtype=torch.float32)"
      ]
    },
    {
      "cell_type": "code",
      "execution_count": 27,
      "id": "6ed2c09a-1444-4b43-a1dc-76e93de99276",
      "metadata": {
        "tags": [],
        "id": "6ed2c09a-1444-4b43-a1dc-76e93de99276",
        "outputId": "5561b2a4-4abd-4d3b-f0be-5c7b0f59ddb5",
        "colab": {
          "base_uri": "https://localhost:8080/"
        }
      },
      "outputs": [
        {
          "output_type": "stream",
          "name": "stdout",
          "text": [
            "Validation Loss: 0.0187\n",
            "MSE: 0.0375\n",
            "RMSE: 0.1935\n",
            "MAE: 0.1638\n"
          ]
        }
      ],
      "source": [
        "import torch.nn.functional as F\n",
        "\n",
        "with torch.no_grad():\n",
        "    # Calculate predictions on the validation set\n",
        "    predictions = model_nn(validation_data).squeeze(1)\n",
        "    loss = criterion(predictions, validation_labels)\n",
        "    mse = F.mse_loss(predictions, validation_labels)\n",
        "    rmse = torch.sqrt(mse)\n",
        "    mae = F.l1_loss(predictions, validation_labels)\n",
        "\n",
        "    print(f\"Validation Loss: {loss.item():.4f}\")\n",
        "    print(f\"MSE: {mse.item():.4f}\")\n",
        "    print(f\"RMSE: {rmse.item():.4f}\")\n",
        "    print(f\"MAE: {mae.item():.4f}\")"
      ]
    },
    {
      "cell_type": "markdown",
      "id": "f866bbfd-ae91-4bc0-8025-4a6f9fbb7992",
      "metadata": {
        "id": "f866bbfd-ae91-4bc0-8025-4a6f9fbb7992"
      },
      "source": [
        "### References"
      ]
    },
    {
      "cell_type": "markdown",
      "id": "0bfc9dbd-45cc-4315-b3d4-3c5601fc8491",
      "metadata": {
        "id": "0bfc9dbd-45cc-4315-b3d4-3c5601fc8491"
      },
      "source": [
        "https://www.kaggle.com/code/kiritowu/aircon-classification-w-temperature-humidity/notebook"
      ]
    },
    {
      "cell_type": "code",
      "execution_count": 31,
      "id": "38f614cb-5f13-4735-b002-6d99974e1ccc",
      "metadata": {
        "id": "38f614cb-5f13-4735-b002-6d99974e1ccc"
      },
      "outputs": [],
      "source": [
        "# Save the model's state dictionary\n",
        "path_model = 'drive/My Drive/00 data/'\n",
        "torch.save(model_nn.state_dict(), path_model + 'model_nn.pth')"
      ]
    },
    {
      "cell_type": "code",
      "source": [
        "# To load the model later:\n",
        "model_nn = SimpleRegressionNet(input_size, hidden_size, output_size)\n",
        "model_nn.load_state_dict(torch.load(path_model + 'model_nn.pth'))\n",
        "model_nn.eval() # Set the model to evaluation mode"
      ],
      "metadata": {
        "colab": {
          "base_uri": "https://localhost:8080/"
        },
        "id": "ThIvx93jwobS",
        "outputId": "f7bb0716-4eef-4293-f7bd-9f76c4437a09"
      },
      "id": "ThIvx93jwobS",
      "execution_count": 32,
      "outputs": [
        {
          "output_type": "stream",
          "name": "stderr",
          "text": [
            "<ipython-input-32-b54a1b335f0b>:3: FutureWarning: You are using `torch.load` with `weights_only=False` (the current default value), which uses the default pickle module implicitly. It is possible to construct malicious pickle data which will execute arbitrary code during unpickling (See https://github.com/pytorch/pytorch/blob/main/SECURITY.md#untrusted-models for more details). In a future release, the default value for `weights_only` will be flipped to `True`. This limits the functions that could be executed during unpickling. Arbitrary objects will no longer be allowed to be loaded via this mode unless they are explicitly allowlisted by the user via `torch.serialization.add_safe_globals`. We recommend you start setting `weights_only=True` for any use case where you don't have full control of the loaded file. Please open an issue on GitHub for any issues related to this experimental feature.\n",
            "  model_nn.load_state_dict(torch.load(path_model + 'model_nn.pth'))\n"
          ]
        },
        {
          "output_type": "execute_result",
          "data": {
            "text/plain": [
              "SimpleRegressionNet(\n",
              "  (fc1): Linear(in_features=6, out_features=64, bias=True)\n",
              "  (fc2): Linear(in_features=64, out_features=64, bias=True)\n",
              "  (fc3): Linear(in_features=64, out_features=4, bias=True)\n",
              "  (fc4): Linear(in_features=4, out_features=1, bias=True)\n",
              "  (relu): LeakyReLU(negative_slope=0.01)\n",
              ")"
            ]
          },
          "metadata": {},
          "execution_count": 32
        }
      ]
    }
  ],
  "metadata": {
    "kernelspec": {
      "display_name": "Python 3 (ipykernel)",
      "language": "python",
      "name": "python3"
    },
    "language_info": {
      "codemirror_mode": {
        "name": "ipython",
        "version": 3
      },
      "file_extension": ".py",
      "mimetype": "text/x-python",
      "name": "python",
      "nbconvert_exporter": "python",
      "pygments_lexer": "ipython3",
      "version": "3.11.7"
    },
    "colab": {
      "provenance": [],
      "include_colab_link": true
    }
  },
  "nbformat": 4,
  "nbformat_minor": 5
}