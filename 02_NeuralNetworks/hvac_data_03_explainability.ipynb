{
  "cells": [
    {
      "cell_type": "markdown",
      "metadata": {
        "id": "view-in-github",
        "colab_type": "text"
      },
      "source": [
        "<a href=\"https://colab.research.google.com/github/jcmachicao/pucp_energy_efficiency_AI/blob/main/02_NeuralNetworks/hvac_data_03_explainability.ipynb\" target=\"_parent\"><img src=\"https://colab.research.google.com/assets/colab-badge.svg\" alt=\"Open In Colab\"/></a>"
      ]
    },
    {
      "cell_type": "code",
      "source": [
        "from google.colab import drive\n",
        "drive.mount('/content/drive')"
      ],
      "metadata": {
        "colab": {
          "base_uri": "https://localhost:8080/"
        },
        "id": "sqEHNqrm0ap_",
        "outputId": "4f91d6cf-9b17-4976-f398-2f556431440b"
      },
      "id": "sqEHNqrm0ap_",
      "execution_count": 1,
      "outputs": [
        {
          "output_type": "stream",
          "name": "stdout",
          "text": [
            "Mounted at /content/drive\n"
          ]
        }
      ]
    },
    {
      "cell_type": "code",
      "execution_count": 18,
      "id": "8d821005-bcb4-4dfc-9fee-878533899b62",
      "metadata": {
        "tags": [],
        "id": "8d821005-bcb4-4dfc-9fee-878533899b62"
      },
      "outputs": [],
      "source": [
        "import pandas as pd\n",
        "import matplotlib.pyplot as plt\n",
        "import seaborn as sns\n",
        "import os"
      ]
    },
    {
      "cell_type": "code",
      "source": [
        "import torch\n",
        "import torch.nn as nn"
      ],
      "metadata": {
        "id": "Aw06NRuSzbPy"
      },
      "id": "Aw06NRuSzbPy",
      "execution_count": 3,
      "outputs": []
    },
    {
      "cell_type": "code",
      "execution_count": 4,
      "id": "a1927f97-a569-4258-8d77-4ad9001adf97",
      "metadata": {
        "tags": [],
        "id": "a1927f97-a569-4258-8d77-4ad9001adf97"
      },
      "outputs": [],
      "source": [
        "# Define the neural network (architecture)\n",
        "class SimpleRegressionNet(nn.Module):\n",
        "    def __init__(self, input_size, hidden_size, output_size):\n",
        "        super(SimpleRegressionNet, self).__init__()\n",
        "        self.fc1 = nn.Linear(input_size, hidden_size)\n",
        "        self.fc2 = nn.Linear(hidden_size, hidden_size)\n",
        "        self.fc3 = nn.Linear(hidden_size, 4)\n",
        "        self.fc4 = nn.Linear(4, output_size)\n",
        "        self.relu = nn.LeakyReLU()\n",
        "\n",
        "    def forward(self, x):\n",
        "        x = self.relu(self.fc1(x))\n",
        "        x = self.relu(self.fc2(x))\n",
        "        x = self.relu(self.fc3(x))\n",
        "        x = self.fc4(x)\n",
        "        return x"
      ]
    },
    {
      "cell_type": "code",
      "execution_count": 6,
      "id": "c7d8aa0e-646b-4982-9f86-efeacef72373",
      "metadata": {
        "tags": [],
        "id": "c7d8aa0e-646b-4982-9f86-efeacef72373"
      },
      "outputs": [],
      "source": [
        "# Hyperparameters\n",
        "input_size = 6\n",
        "hidden_size = 64\n",
        "output_size = 1"
      ]
    },
    {
      "cell_type": "code",
      "source": [
        "# To load the model later:\n",
        "model_nn = SimpleRegressionNet(input_size, hidden_size, output_size)\n",
        "path_model = 'drive/My Drive/00 data/'\n",
        "model_nn.load_state_dict(torch.load(path_model + 'model_nn.pth'))\n",
        "model_nn.eval() # Set the model to evaluation mode"
      ],
      "metadata": {
        "colab": {
          "base_uri": "https://localhost:8080/"
        },
        "id": "4Oadnl_70Q3P",
        "outputId": "82f64cfe-dbea-49a9-dc02-51065ef74bf0"
      },
      "id": "4Oadnl_70Q3P",
      "execution_count": 8,
      "outputs": [
        {
          "output_type": "stream",
          "name": "stderr",
          "text": [
            "<ipython-input-8-973c00fe19a0>:4: FutureWarning: You are using `torch.load` with `weights_only=False` (the current default value), which uses the default pickle module implicitly. It is possible to construct malicious pickle data which will execute arbitrary code during unpickling (See https://github.com/pytorch/pytorch/blob/main/SECURITY.md#untrusted-models for more details). In a future release, the default value for `weights_only` will be flipped to `True`. This limits the functions that could be executed during unpickling. Arbitrary objects will no longer be allowed to be loaded via this mode unless they are explicitly allowlisted by the user via `torch.serialization.add_safe_globals`. We recommend you start setting `weights_only=True` for any use case where you don't have full control of the loaded file. Please open an issue on GitHub for any issues related to this experimental feature.\n",
            "  model_nn.load_state_dict(torch.load(path_model + 'model_nn.pth'))\n"
          ]
        },
        {
          "output_type": "execute_result",
          "data": {
            "text/plain": [
              "SimpleRegressionNet(\n",
              "  (fc1): Linear(in_features=6, out_features=64, bias=True)\n",
              "  (fc2): Linear(in_features=64, out_features=64, bias=True)\n",
              "  (fc3): Linear(in_features=64, out_features=4, bias=True)\n",
              "  (fc4): Linear(in_features=4, out_features=1, bias=True)\n",
              "  (relu): LeakyReLU(negative_slope=0.01)\n",
              ")"
            ]
          },
          "metadata": {},
          "execution_count": 8
        }
      ]
    },
    {
      "cell_type": "code",
      "source": [
        "# Replace with the actual URL of your CSV file\n",
        "url = 'https://github.com/jcmachicao/pucp_energy_efficiency_AI/raw/refs/heads/main/00_data/HVAC_dataset.xlsx'\n",
        "data = pd.read_excel(url)\n",
        "data.head(2)"
      ],
      "metadata": {
        "colab": {
          "base_uri": "https://localhost:8080/",
          "height": 202
        },
        "id": "rRlNBxgN0zGV",
        "outputId": "97617d6b-12c5-4c59-8f95-4b980add210f"
      },
      "id": "rRlNBxgN0zGV",
      "execution_count": 9,
      "outputs": [
        {
          "output_type": "execute_result",
          "data": {
            "text/plain": [
              "                  Date  on_off  damper  active_energy  co2_1  amb_humid_1  \\\n",
              "0  2022-01-06 00:00:00     0.0     0.0      363150.69  975.0         35.0   \n",
              "1  2022-01-06 00:05:00     0.0     0.0            NaN  977.0         35.0   \n",
              "\n",
              "   active_power  pot_gen  high_pressure_1  high_pressure_2  low_pressure_1  \\\n",
              "0          0.36      4.0            15.09             15.0           15.27   \n",
              "1          0.36      NaN            15.03             14.9           15.21   \n",
              "\n",
              "   low_pressure_2  high_pressure_3  low_pressure_3  outside_temp  outlet_temp  \\\n",
              "0            15.1             15.2            15.2          23.4         24.2   \n",
              "1            15.0             15.2            15.1          23.3         24.2   \n",
              "\n",
              "   inlet_temp  summer_setpoint_temp  winter_setpoint_temp  amb_temp_2  \n",
              "0        22.8                  22.5                  18.0        23.4  \n",
              "1        22.7                  22.5                  18.0        23.3  "
            ],
            "text/html": [
              "\n",
              "  <div id=\"df-afd3add9-fde1-4e54-97d2-edd7a345bea2\" class=\"colab-df-container\">\n",
              "    <div>\n",
              "<style scoped>\n",
              "    .dataframe tbody tr th:only-of-type {\n",
              "        vertical-align: middle;\n",
              "    }\n",
              "\n",
              "    .dataframe tbody tr th {\n",
              "        vertical-align: top;\n",
              "    }\n",
              "\n",
              "    .dataframe thead th {\n",
              "        text-align: right;\n",
              "    }\n",
              "</style>\n",
              "<table border=\"1\" class=\"dataframe\">\n",
              "  <thead>\n",
              "    <tr style=\"text-align: right;\">\n",
              "      <th></th>\n",
              "      <th>Date</th>\n",
              "      <th>on_off</th>\n",
              "      <th>damper</th>\n",
              "      <th>active_energy</th>\n",
              "      <th>co2_1</th>\n",
              "      <th>amb_humid_1</th>\n",
              "      <th>active_power</th>\n",
              "      <th>pot_gen</th>\n",
              "      <th>high_pressure_1</th>\n",
              "      <th>high_pressure_2</th>\n",
              "      <th>low_pressure_1</th>\n",
              "      <th>low_pressure_2</th>\n",
              "      <th>high_pressure_3</th>\n",
              "      <th>low_pressure_3</th>\n",
              "      <th>outside_temp</th>\n",
              "      <th>outlet_temp</th>\n",
              "      <th>inlet_temp</th>\n",
              "      <th>summer_setpoint_temp</th>\n",
              "      <th>winter_setpoint_temp</th>\n",
              "      <th>amb_temp_2</th>\n",
              "    </tr>\n",
              "  </thead>\n",
              "  <tbody>\n",
              "    <tr>\n",
              "      <th>0</th>\n",
              "      <td>2022-01-06 00:00:00</td>\n",
              "      <td>0.0</td>\n",
              "      <td>0.0</td>\n",
              "      <td>363150.69</td>\n",
              "      <td>975.0</td>\n",
              "      <td>35.0</td>\n",
              "      <td>0.36</td>\n",
              "      <td>4.0</td>\n",
              "      <td>15.09</td>\n",
              "      <td>15.0</td>\n",
              "      <td>15.27</td>\n",
              "      <td>15.1</td>\n",
              "      <td>15.2</td>\n",
              "      <td>15.2</td>\n",
              "      <td>23.4</td>\n",
              "      <td>24.2</td>\n",
              "      <td>22.8</td>\n",
              "      <td>22.5</td>\n",
              "      <td>18.0</td>\n",
              "      <td>23.4</td>\n",
              "    </tr>\n",
              "    <tr>\n",
              "      <th>1</th>\n",
              "      <td>2022-01-06 00:05:00</td>\n",
              "      <td>0.0</td>\n",
              "      <td>0.0</td>\n",
              "      <td>NaN</td>\n",
              "      <td>977.0</td>\n",
              "      <td>35.0</td>\n",
              "      <td>0.36</td>\n",
              "      <td>NaN</td>\n",
              "      <td>15.03</td>\n",
              "      <td>14.9</td>\n",
              "      <td>15.21</td>\n",
              "      <td>15.0</td>\n",
              "      <td>15.2</td>\n",
              "      <td>15.1</td>\n",
              "      <td>23.3</td>\n",
              "      <td>24.2</td>\n",
              "      <td>22.7</td>\n",
              "      <td>22.5</td>\n",
              "      <td>18.0</td>\n",
              "      <td>23.3</td>\n",
              "    </tr>\n",
              "  </tbody>\n",
              "</table>\n",
              "</div>\n",
              "    <div class=\"colab-df-buttons\">\n",
              "\n",
              "  <div class=\"colab-df-container\">\n",
              "    <button class=\"colab-df-convert\" onclick=\"convertToInteractive('df-afd3add9-fde1-4e54-97d2-edd7a345bea2')\"\n",
              "            title=\"Convert this dataframe to an interactive table.\"\n",
              "            style=\"display:none;\">\n",
              "\n",
              "  <svg xmlns=\"http://www.w3.org/2000/svg\" height=\"24px\" viewBox=\"0 -960 960 960\">\n",
              "    <path d=\"M120-120v-720h720v720H120Zm60-500h600v-160H180v160Zm220 220h160v-160H400v160Zm0 220h160v-160H400v160ZM180-400h160v-160H180v160Zm440 0h160v-160H620v160ZM180-180h160v-160H180v160Zm440 0h160v-160H620v160Z\"/>\n",
              "  </svg>\n",
              "    </button>\n",
              "\n",
              "  <style>\n",
              "    .colab-df-container {\n",
              "      display:flex;\n",
              "      gap: 12px;\n",
              "    }\n",
              "\n",
              "    .colab-df-convert {\n",
              "      background-color: #E8F0FE;\n",
              "      border: none;\n",
              "      border-radius: 50%;\n",
              "      cursor: pointer;\n",
              "      display: none;\n",
              "      fill: #1967D2;\n",
              "      height: 32px;\n",
              "      padding: 0 0 0 0;\n",
              "      width: 32px;\n",
              "    }\n",
              "\n",
              "    .colab-df-convert:hover {\n",
              "      background-color: #E2EBFA;\n",
              "      box-shadow: 0px 1px 2px rgba(60, 64, 67, 0.3), 0px 1px 3px 1px rgba(60, 64, 67, 0.15);\n",
              "      fill: #174EA6;\n",
              "    }\n",
              "\n",
              "    .colab-df-buttons div {\n",
              "      margin-bottom: 4px;\n",
              "    }\n",
              "\n",
              "    [theme=dark] .colab-df-convert {\n",
              "      background-color: #3B4455;\n",
              "      fill: #D2E3FC;\n",
              "    }\n",
              "\n",
              "    [theme=dark] .colab-df-convert:hover {\n",
              "      background-color: #434B5C;\n",
              "      box-shadow: 0px 1px 3px 1px rgba(0, 0, 0, 0.15);\n",
              "      filter: drop-shadow(0px 1px 2px rgba(0, 0, 0, 0.3));\n",
              "      fill: #FFFFFF;\n",
              "    }\n",
              "  </style>\n",
              "\n",
              "    <script>\n",
              "      const buttonEl =\n",
              "        document.querySelector('#df-afd3add9-fde1-4e54-97d2-edd7a345bea2 button.colab-df-convert');\n",
              "      buttonEl.style.display =\n",
              "        google.colab.kernel.accessAllowed ? 'block' : 'none';\n",
              "\n",
              "      async function convertToInteractive(key) {\n",
              "        const element = document.querySelector('#df-afd3add9-fde1-4e54-97d2-edd7a345bea2');\n",
              "        const dataTable =\n",
              "          await google.colab.kernel.invokeFunction('convertToInteractive',\n",
              "                                                    [key], {});\n",
              "        if (!dataTable) return;\n",
              "\n",
              "        const docLinkHtml = 'Like what you see? Visit the ' +\n",
              "          '<a target=\"_blank\" href=https://colab.research.google.com/notebooks/data_table.ipynb>data table notebook</a>'\n",
              "          + ' to learn more about interactive tables.';\n",
              "        element.innerHTML = '';\n",
              "        dataTable['output_type'] = 'display_data';\n",
              "        await google.colab.output.renderOutput(dataTable, element);\n",
              "        const docLink = document.createElement('div');\n",
              "        docLink.innerHTML = docLinkHtml;\n",
              "        element.appendChild(docLink);\n",
              "      }\n",
              "    </script>\n",
              "  </div>\n",
              "\n",
              "\n",
              "<div id=\"df-9aecb03f-2b6f-4164-bf0d-b9e824ce370c\">\n",
              "  <button class=\"colab-df-quickchart\" onclick=\"quickchart('df-9aecb03f-2b6f-4164-bf0d-b9e824ce370c')\"\n",
              "            title=\"Suggest charts\"\n",
              "            style=\"display:none;\">\n",
              "\n",
              "<svg xmlns=\"http://www.w3.org/2000/svg\" height=\"24px\"viewBox=\"0 0 24 24\"\n",
              "     width=\"24px\">\n",
              "    <g>\n",
              "        <path d=\"M19 3H5c-1.1 0-2 .9-2 2v14c0 1.1.9 2 2 2h14c1.1 0 2-.9 2-2V5c0-1.1-.9-2-2-2zM9 17H7v-7h2v7zm4 0h-2V7h2v10zm4 0h-2v-4h2v4z\"/>\n",
              "    </g>\n",
              "</svg>\n",
              "  </button>\n",
              "\n",
              "<style>\n",
              "  .colab-df-quickchart {\n",
              "      --bg-color: #E8F0FE;\n",
              "      --fill-color: #1967D2;\n",
              "      --hover-bg-color: #E2EBFA;\n",
              "      --hover-fill-color: #174EA6;\n",
              "      --disabled-fill-color: #AAA;\n",
              "      --disabled-bg-color: #DDD;\n",
              "  }\n",
              "\n",
              "  [theme=dark] .colab-df-quickchart {\n",
              "      --bg-color: #3B4455;\n",
              "      --fill-color: #D2E3FC;\n",
              "      --hover-bg-color: #434B5C;\n",
              "      --hover-fill-color: #FFFFFF;\n",
              "      --disabled-bg-color: #3B4455;\n",
              "      --disabled-fill-color: #666;\n",
              "  }\n",
              "\n",
              "  .colab-df-quickchart {\n",
              "    background-color: var(--bg-color);\n",
              "    border: none;\n",
              "    border-radius: 50%;\n",
              "    cursor: pointer;\n",
              "    display: none;\n",
              "    fill: var(--fill-color);\n",
              "    height: 32px;\n",
              "    padding: 0;\n",
              "    width: 32px;\n",
              "  }\n",
              "\n",
              "  .colab-df-quickchart:hover {\n",
              "    background-color: var(--hover-bg-color);\n",
              "    box-shadow: 0 1px 2px rgba(60, 64, 67, 0.3), 0 1px 3px 1px rgba(60, 64, 67, 0.15);\n",
              "    fill: var(--button-hover-fill-color);\n",
              "  }\n",
              "\n",
              "  .colab-df-quickchart-complete:disabled,\n",
              "  .colab-df-quickchart-complete:disabled:hover {\n",
              "    background-color: var(--disabled-bg-color);\n",
              "    fill: var(--disabled-fill-color);\n",
              "    box-shadow: none;\n",
              "  }\n",
              "\n",
              "  .colab-df-spinner {\n",
              "    border: 2px solid var(--fill-color);\n",
              "    border-color: transparent;\n",
              "    border-bottom-color: var(--fill-color);\n",
              "    animation:\n",
              "      spin 1s steps(1) infinite;\n",
              "  }\n",
              "\n",
              "  @keyframes spin {\n",
              "    0% {\n",
              "      border-color: transparent;\n",
              "      border-bottom-color: var(--fill-color);\n",
              "      border-left-color: var(--fill-color);\n",
              "    }\n",
              "    20% {\n",
              "      border-color: transparent;\n",
              "      border-left-color: var(--fill-color);\n",
              "      border-top-color: var(--fill-color);\n",
              "    }\n",
              "    30% {\n",
              "      border-color: transparent;\n",
              "      border-left-color: var(--fill-color);\n",
              "      border-top-color: var(--fill-color);\n",
              "      border-right-color: var(--fill-color);\n",
              "    }\n",
              "    40% {\n",
              "      border-color: transparent;\n",
              "      border-right-color: var(--fill-color);\n",
              "      border-top-color: var(--fill-color);\n",
              "    }\n",
              "    60% {\n",
              "      border-color: transparent;\n",
              "      border-right-color: var(--fill-color);\n",
              "    }\n",
              "    80% {\n",
              "      border-color: transparent;\n",
              "      border-right-color: var(--fill-color);\n",
              "      border-bottom-color: var(--fill-color);\n",
              "    }\n",
              "    90% {\n",
              "      border-color: transparent;\n",
              "      border-bottom-color: var(--fill-color);\n",
              "    }\n",
              "  }\n",
              "</style>\n",
              "\n",
              "  <script>\n",
              "    async function quickchart(key) {\n",
              "      const quickchartButtonEl =\n",
              "        document.querySelector('#' + key + ' button');\n",
              "      quickchartButtonEl.disabled = true;  // To prevent multiple clicks.\n",
              "      quickchartButtonEl.classList.add('colab-df-spinner');\n",
              "      try {\n",
              "        const charts = await google.colab.kernel.invokeFunction(\n",
              "            'suggestCharts', [key], {});\n",
              "      } catch (error) {\n",
              "        console.error('Error during call to suggestCharts:', error);\n",
              "      }\n",
              "      quickchartButtonEl.classList.remove('colab-df-spinner');\n",
              "      quickchartButtonEl.classList.add('colab-df-quickchart-complete');\n",
              "    }\n",
              "    (() => {\n",
              "      let quickchartButtonEl =\n",
              "        document.querySelector('#df-9aecb03f-2b6f-4164-bf0d-b9e824ce370c button');\n",
              "      quickchartButtonEl.style.display =\n",
              "        google.colab.kernel.accessAllowed ? 'block' : 'none';\n",
              "    })();\n",
              "  </script>\n",
              "</div>\n",
              "\n",
              "    </div>\n",
              "  </div>\n"
            ],
            "application/vnd.google.colaboratory.intrinsic+json": {
              "type": "dataframe",
              "variable_name": "data",
              "summary": "{\n  \"name\": \"data\",\n  \"rows\": 25632,\n  \"fields\": [\n    {\n      \"column\": \"Date\",\n      \"properties\": {\n        \"dtype\": \"date\",\n        \"min\": \"2022-01-06 00:00:00\",\n        \"max\": \"2022-12-08 23:55:00\",\n        \"num_unique_values\": 25632,\n        \"samples\": [\n          \"15/08/22 03:00\",\n          \"28/07/22 04:05\",\n          \"18/06/22 06:50\"\n        ],\n        \"semantic_type\": \"\",\n        \"description\": \"\"\n      }\n    },\n    {\n      \"column\": \"on_off\",\n      \"properties\": {\n        \"dtype\": \"number\",\n        \"std\": 0.49494327587523834,\n        \"min\": 0.0,\n        \"max\": 1.0,\n        \"num_unique_values\": 2,\n        \"samples\": [\n          1.0,\n          0.0\n        ],\n        \"semantic_type\": \"\",\n        \"description\": \"\"\n      }\n    },\n    {\n      \"column\": \"damper\",\n      \"properties\": {\n        \"dtype\": \"number\",\n        \"std\": 16.82042107744833,\n        \"min\": 0.0,\n        \"max\": 100.0,\n        \"num_unique_values\": 76,\n        \"samples\": [\n          7.0,\n          1.0\n        ],\n        \"semantic_type\": \"\",\n        \"description\": \"\"\n      }\n    },\n    {\n      \"column\": \"active_energy\",\n      \"properties\": {\n        \"dtype\": \"number\",\n        \"std\": 9254.471091182157,\n        \"min\": 363150.69,\n        \"max\": 392924.91,\n        \"num_unique_values\": 8518,\n        \"samples\": [\n          390141.88,\n          382610.47\n        ],\n        \"semantic_type\": \"\",\n        \"description\": \"\"\n      }\n    },\n    {\n      \"column\": \"co2_1\",\n      \"properties\": {\n        \"dtype\": \"number\",\n        \"std\": 101.44578918741621,\n        \"min\": 955.0,\n        \"max\": 1482.0,\n        \"num_unique_values\": 205,\n        \"samples\": [\n          1060.0,\n          1012.0\n        ],\n        \"semantic_type\": \"\",\n        \"description\": \"\"\n      }\n    },\n    {\n      \"column\": \"amb_humid_1\",\n      \"properties\": {\n        \"dtype\": \"number\",\n        \"std\": 6.444740320413366,\n        \"min\": 0.0,\n        \"max\": 62.0,\n        \"num_unique_values\": 40,\n        \"samples\": [\n          51.0,\n          33.0\n        ],\n        \"semantic_type\": \"\",\n        \"description\": \"\"\n      }\n    },\n    {\n      \"column\": \"active_power\",\n      \"properties\": {\n        \"dtype\": \"number\",\n        \"std\": 17.65876660804048,\n        \"min\": 0.32,\n        \"max\": 57.72,\n        \"num_unique_values\": 822,\n        \"samples\": [\n          48.68,\n          30.0\n        ],\n        \"semantic_type\": \"\",\n        \"description\": \"\"\n      }\n    },\n    {\n      \"column\": \"pot_gen\",\n      \"properties\": {\n        \"dtype\": \"number\",\n        \"std\": 23.8232487223428,\n        \"min\": 0.0,\n        \"max\": 77.0,\n        \"num_unique_values\": 73,\n        \"samples\": [\n          36.0,\n          51.0\n        ],\n        \"semantic_type\": \"\",\n        \"description\": \"\"\n      }\n    },\n    {\n      \"column\": \"high_pressure_1\",\n      \"properties\": {\n        \"dtype\": \"number\",\n        \"std\": 5.734787250970689,\n        \"min\": 10.22,\n        \"max\": 34.3,\n        \"num_unique_values\": 369,\n        \"samples\": [\n          26.36,\n          12.99\n        ],\n        \"semantic_type\": \"\",\n        \"description\": \"\"\n      }\n    },\n    {\n      \"column\": \"high_pressure_2\",\n      \"properties\": {\n        \"dtype\": \"number\",\n        \"std\": 5.521055424918607,\n        \"min\": 11.0,\n        \"max\": 33.5,\n        \"num_unique_values\": 225,\n        \"samples\": [\n          14.1,\n          30.5\n        ],\n        \"semantic_type\": \"\",\n        \"description\": \"\"\n      }\n    },\n    {\n      \"column\": \"low_pressure_1\",\n      \"properties\": {\n        \"dtype\": \"number\",\n        \"std\": 3.7869480161703444,\n        \"min\": 7.08,\n        \"max\": 24.82,\n        \"num_unique_values\": 289,\n        \"samples\": [\n          8.62,\n          18.04\n        ],\n        \"semantic_type\": \"\",\n        \"description\": \"\"\n      }\n    },\n    {\n      \"column\": \"low_pressure_2\",\n      \"properties\": {\n        \"dtype\": \"number\",\n        \"std\": 3.5031895942556894,\n        \"min\": 7.2,\n        \"max\": 24.3,\n        \"num_unique_values\": 171,\n        \"samples\": [\n          19.4,\n          11.9\n        ],\n        \"semantic_type\": \"\",\n        \"description\": \"\"\n      }\n    },\n    {\n      \"column\": \"high_pressure_3\",\n      \"properties\": {\n        \"dtype\": \"number\",\n        \"std\": 2.1470102262609125,\n        \"min\": 11.2,\n        \"max\": 25.5,\n        \"num_unique_values\": 144,\n        \"samples\": [\n          23.4,\n          13.3\n        ],\n        \"semantic_type\": \"\",\n        \"description\": \"\"\n      }\n    },\n    {\n      \"column\": \"low_pressure_3\",\n      \"properties\": {\n        \"dtype\": \"number\",\n        \"std\": 2.136827840516189,\n        \"min\": 11.1,\n        \"max\": 25.5,\n        \"num_unique_values\": 145,\n        \"samples\": [\n          18.1,\n          25.1\n        ],\n        \"semantic_type\": \"\",\n        \"description\": \"\"\n      }\n    },\n    {\n      \"column\": \"outside_temp\",\n      \"properties\": {\n        \"dtype\": \"number\",\n        \"std\": 6.883144530632566,\n        \"min\": 13.3,\n        \"max\": 49.5,\n        \"num_unique_values\": 355,\n        \"samples\": [\n          14.7,\n          17.7\n        ],\n        \"semantic_type\": \"\",\n        \"description\": \"\"\n      }\n    },\n    {\n      \"column\": \"outlet_temp\",\n      \"properties\": {\n        \"dtype\": \"number\",\n        \"std\": 7.420254240459,\n        \"min\": 7.0,\n        \"max\": 50.0,\n        \"num_unique_values\": 418,\n        \"samples\": [\n          48.8,\n          48.2\n        ],\n        \"semantic_type\": \"\",\n        \"description\": \"\"\n      }\n    },\n    {\n      \"column\": \"inlet_temp\",\n      \"properties\": {\n        \"dtype\": \"number\",\n        \"std\": 6.155405955193847,\n        \"min\": 14.2,\n        \"max\": 54.3,\n        \"num_unique_values\": 401,\n        \"samples\": [\n          31.0,\n          26.7\n        ],\n        \"semantic_type\": \"\",\n        \"description\": \"\"\n      }\n    },\n    {\n      \"column\": \"summer_setpoint_temp\",\n      \"properties\": {\n        \"dtype\": \"number\",\n        \"std\": 0.9464790665934201,\n        \"min\": 22.0,\n        \"max\": 25.0,\n        \"num_unique_values\": 18,\n        \"samples\": [\n          22.5,\n          22.0\n        ],\n        \"semantic_type\": \"\",\n        \"description\": \"\"\n      }\n    },\n    {\n      \"column\": \"winter_setpoint_temp\",\n      \"properties\": {\n        \"dtype\": \"number\",\n        \"std\": 1.2045284645068066,\n        \"min\": 18.0,\n        \"max\": 22.0,\n        \"num_unique_values\": 6,\n        \"samples\": [\n          18.0,\n          22.0\n        ],\n        \"semantic_type\": \"\",\n        \"description\": \"\"\n      }\n    },\n    {\n      \"column\": \"amb_temp_2\",\n      \"properties\": {\n        \"dtype\": \"number\",\n        \"std\": 1.2839681781429368,\n        \"min\": 0.0,\n        \"max\": 27.1,\n        \"num_unique_values\": 52,\n        \"samples\": [\n          24.0,\n          26.0\n        ],\n        \"semantic_type\": \"\",\n        \"description\": \"\"\n      }\n    }\n  ]\n}"
            }
          },
          "metadata": {},
          "execution_count": 9
        }
      ]
    },
    {
      "cell_type": "code",
      "source": [
        "data['Date'] = pd.to_datetime(data['Date'], errors='coerce', infer_datetime_format=True)\n",
        "data.set_index('Date', inplace=True)"
      ],
      "metadata": {
        "colab": {
          "base_uri": "https://localhost:8080/"
        },
        "id": "TtaoQ7-404kR",
        "outputId": "db093a01-ca66-47f5-d6c2-3bc617545eef"
      },
      "id": "TtaoQ7-404kR",
      "execution_count": 10,
      "outputs": [
        {
          "output_type": "stream",
          "name": "stderr",
          "text": [
            "<ipython-input-10-cf9c410c4bfa>:1: UserWarning: The argument 'infer_datetime_format' is deprecated and will be removed in a future version. A strict version of it is now the default, see https://pandas.pydata.org/pdeps/0004-consistent-to-datetime-parsing.html. You can safely remove this argument.\n",
            "  data['Date'] = pd.to_datetime(data['Date'], errors='coerce', infer_datetime_format=True)\n"
          ]
        }
      ]
    },
    {
      "cell_type": "code",
      "source": [
        "import pandas as pd\n",
        "from sklearn.preprocessing import MinMaxScaler, StandardScaler\n",
        "scaler = MinMaxScaler()\n",
        "df = pd.DataFrame(scaler.fit_transform(data), columns=data.columns)\n",
        "df.index = data.index"
      ],
      "metadata": {
        "id": "sk1L7vnB1D2y"
      },
      "id": "sk1L7vnB1D2y",
      "execution_count": 12,
      "outputs": []
    },
    {
      "cell_type": "code",
      "source": [
        "from sklearn.model_selection import train_test_split\n",
        "features_nn = [\"inlet_temp\", \"outside_temp\", \"amb_humid_1\", 'active_power', 'high_pressure_1', 'low_pressure_1']\n",
        "output_variable_nn = 'co2_1'\n",
        "target = output_variable_nn\n",
        "X = df[features_nn]\n",
        "y = df[target]\n",
        "X_train, X_test, y_train, y_test = train_test_split(X, y, random_state=42, shuffle=True)\n",
        "X_train.shape, X_test.shape, y_train.shape, y_test.shape"
      ],
      "metadata": {
        "colab": {
          "base_uri": "https://localhost:8080/"
        },
        "id": "KuQnj4Y31Pgn",
        "outputId": "1bd57f67-f5a7-4dd5-d713-a53b33daac4d"
      },
      "id": "KuQnj4Y31Pgn",
      "execution_count": 14,
      "outputs": [
        {
          "output_type": "execute_result",
          "data": {
            "text/plain": [
              "((19224, 6), (6408, 6), (19224,), (6408,))"
            ]
          },
          "metadata": {},
          "execution_count": 14
        }
      ]
    },
    {
      "cell_type": "code",
      "execution_count": 15,
      "id": "47a75138-18a3-4c43-9cd4-afb5a2453e3e",
      "metadata": {
        "tags": [],
        "id": "47a75138-18a3-4c43-9cd4-afb5a2453e3e"
      },
      "outputs": [],
      "source": [
        "validation_data = torch.tensor(X_test.values, dtype=torch.float32)\n",
        "validation_labels = torch.tensor(y_test.values, dtype=torch.float32)"
      ]
    },
    {
      "cell_type": "code",
      "source": [
        "path_model = 'drive/My Drive/00 2024_all/data_2024/'\n",
        "os.listdir(path_model)"
      ],
      "metadata": {
        "colab": {
          "base_uri": "https://localhost:8080/"
        },
        "id": "V3GPH284_NDP",
        "outputId": "ee11b4f7-1c26-441c-ee8d-6351a5042916"
      },
      "id": "V3GPH284_NDP",
      "execution_count": 17,
      "outputs": [
        {
          "output_type": "execute_result",
          "data": {
            "text/plain": [
              "['model_nn.pth']"
            ]
          },
          "metadata": {},
          "execution_count": 17
        }
      ]
    },
    {
      "cell_type": "code",
      "source": [
        "!pip install -q captum"
      ],
      "metadata": {
        "id": "zDCxrH4Y3iHz",
        "colab": {
          "base_uri": "https://localhost:8080/"
        },
        "outputId": "8513e517-4851-43ed-b68f-39ebef7fe1b3"
      },
      "id": "zDCxrH4Y3iHz",
      "execution_count": 20,
      "outputs": [
        {
          "output_type": "stream",
          "name": "stdout",
          "text": [
            "\u001b[?25l   \u001b[90m━━━━━━━━━━━━━━━━━━━━━━━━━━━━━━━━━━━━━━━━\u001b[0m \u001b[32m0.0/1.3 MB\u001b[0m \u001b[31m?\u001b[0m eta \u001b[36m-:--:--\u001b[0m\r\u001b[2K   \u001b[91m━━━━━━━━━━━━━━━━━━━━━━━━━━━━━━━━━━━━━━━\u001b[0m\u001b[91m╸\u001b[0m \u001b[32m1.3/1.3 MB\u001b[0m \u001b[31m55.1 MB/s\u001b[0m eta \u001b[36m0:00:01\u001b[0m\r\u001b[2K   \u001b[90m━━━━━━━━━━━━━━━━━━━━━━━━━━━━━━━━━━━━━━━━\u001b[0m \u001b[32m1.3/1.3 MB\u001b[0m \u001b[31m26.4 MB/s\u001b[0m eta \u001b[36m0:00:00\u001b[0m\n",
            "\u001b[?25h"
          ]
        }
      ]
    },
    {
      "cell_type": "code",
      "source": [
        "from captum.attr import IntegratedGradients"
      ],
      "metadata": {
        "id": "XikwcN_Y3f3S"
      },
      "id": "XikwcN_Y3f3S",
      "execution_count": 21,
      "outputs": []
    },
    {
      "cell_type": "code",
      "source": [
        "if torch.cuda.is_available():\n",
        "    device = torch.device(\"cuda\")\n",
        "    model_nn.to(device)\n",
        "    validation_data = validation_data.to(device)\n",
        "\n",
        "ig = IntegratedGradients(model_nn)\n",
        "attributions, delta = ig.attribute(validation_data, target=0, return_convergence_delta=True)\n",
        "print(f\"Attributions shape: {attributions.shape}\")\n",
        "\n",
        "# Example of how to analyze attributions\n",
        "print(f\"Attributions for the first sample:\\n{attributions[0]}\")\n",
        "\n",
        "# Convert attributions back to CPU if needed\n",
        "attributions = attributions.cpu().detach().numpy()\n",
        "attributions.shape"
      ],
      "metadata": {
        "colab": {
          "base_uri": "https://localhost:8080/"
        },
        "id": "5MeBopzF374k",
        "outputId": "2f1293aa-b964-47a8-8ccb-fc5b869a0c6a"
      },
      "id": "5MeBopzF374k",
      "execution_count": 23,
      "outputs": [
        {
          "output_type": "stream",
          "name": "stdout",
          "text": [
            "Attributions shape: torch.Size([6408, 6])\n",
            "Attributions for the first sample:\n",
            "tensor([-4.6897e-03, -1.6675e-03,  3.5204e-02, -2.3646e-05,  2.4078e-03,\n",
            "         1.0564e-02], dtype=torch.float64)\n"
          ]
        },
        {
          "output_type": "execute_result",
          "data": {
            "text/plain": [
              "(6408, 6)"
            ]
          },
          "metadata": {},
          "execution_count": 23
        }
      ]
    },
    {
      "cell_type": "markdown",
      "source": [
        "This code visualizes the feature importance for five specific samples using bar plots. Each bar's height represents the contribution of a particular feature to the model's prediction for that sample."
      ],
      "metadata": {
        "id": "66VRxZWpAo1A"
      },
      "id": "66VRxZWpAo1A"
    },
    {
      "cell_type": "code",
      "execution_count": 24,
      "id": "38f614cb-5f13-4735-b002-6d99974e1ccc",
      "metadata": {
        "id": "38f614cb-5f13-4735-b002-6d99974e1ccc",
        "colab": {
          "base_uri": "https://localhost:8080/",
          "height": 797
        },
        "outputId": "bed510cb-0dfd-450e-f795-9fe6e4c56b1f"
      },
      "outputs": [
        {
          "output_type": "display_data",
          "data": {
            "text/plain": [
              "<Figure size 600x400 with 1 Axes>"
            ],
            "image/png": "[encoded data removed]"
          },
          "metadata": {}
        },
        {
          "output_type": "display_data",
          "data": {
            "text/plain": [
              "<Figure size 600x400 with 1 Axes>"
            ],
            "image/png": "[encoded data removed]"
          },
          "metadata": {}
        }
      ],
      "source": [
        "# Visualization (example using matplotlib)\n",
        "import matplotlib.pyplot as plt\n",
        "import numpy as np\n",
        "\n",
        "feature_names = features_nn  # Replace with your actual feature names\n",
        "\n",
        "for i in range(len(attributions[10:12])):\n",
        "  plt.figure(figsize=(6, 4))\n",
        "  plt.bar(feature_names, attributions[i])\n",
        "  plt.xlabel(\"Features\")\n",
        "  plt.ylabel(\"Attribution Value\")\n",
        "  plt.title(f\"Feature Importance for Sample {i+1}\")\n",
        "  plt.xticks(rotation=45, ha='right')\n",
        "  plt.tight_layout()\n",
        "  plt.show()"
      ]
    },
    {
      "cell_type": "code",
      "source": [
        "plt.figure(figsize=(10,4))\n",
        "plt.imshow(attributions[0:30].T)"
      ],
      "metadata": {
        "colab": {
          "base_uri": "https://localhost:8080/",
          "height": 232
        },
        "id": "J-PohraV2kgn",
        "outputId": "eabd8646-4ba4-4b1b-a24b-9e71356693f7"
      },
      "id": "J-PohraV2kgn",
      "execution_count": 29,
      "outputs": [
        {
          "output_type": "execute_result",
          "data": {
            "text/plain": [
              "<matplotlib.image.AxesImage at 0x7c29a6cab0a0>"
            ]
          },
          "metadata": {},
          "execution_count": 29
        },
        {
          "output_type": "display_data",
          "data": {
            "text/plain": [
              "<Figure size 1000x400 with 1 Axes>"
            ],
            "image/png": "[encoded data removed]"
          },
          "metadata": {}
        }
      ]
    }
  ],
  "metadata": {
    "kernelspec": {
      "display_name": "Python 3 (ipykernel)",
      "language": "python",
      "name": "python3"
    },
    "language_info": {
      "codemirror_mode": {
        "name": "ipython",
        "version": 3
      },
      "file_extension": ".py",
      "mimetype": "text/x-python",
      "name": "python",
      "nbconvert_exporter": "python",
      "pygments_lexer": "ipython3",
      "version": "3.11.7"
    },
    "colab": {
      "provenance": [],
      "include_colab_link": true
    }
  },
  "nbformat": 4,
  "nbformat_minor": 5
}